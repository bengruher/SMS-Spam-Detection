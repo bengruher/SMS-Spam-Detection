{
 "cells": [
  {
   "cell_type": "markdown",
   "id": "220cc319",
   "metadata": {},
   "source": [
    "# SMS Spam Detection"
   ]
  },
  {
   "cell_type": "markdown",
   "id": "45ac3cdf",
   "metadata": {},
   "source": [
    "Spam filtering using machine learning has become common among email providers. However, spam filtering of SMS text messages has not been widely implemented. A big reason for SMS to be lagging behind email in terms of spam filtering is the lack of a large, quality SMS text dataset. This dataset from UCI combines multiple different datasets together to provide an industry-leading SMS spam vs ham dataset.\n",
    "\n",
    "\n",
    "\n",
    "The data preprocessing steps that we intend to implement are:\n",
    "\n",
    "- Removing punctuation\n",
    "- Lowercase all words\n",
    "- Stemming/lemmatization\n",
    "- Removing stopwords (tentative - shown to potentially reduce performance of spam detection models)\n",
    "- Adding N-gram features\n",
    "- Bag of words\n",
    "- TF-IDF\n",
    "\n",
    "\n",
    "\n",
    "The algorithms that we intend to explore are:\n",
    "\n",
    "- Baseline (Trivial Rejector)\n",
    "- Naive Bayes\n",
    "- Support Vector Machines\n",
    "- CNN\n",
    "- RNN"
   ]
  },
  {
   "cell_type": "markdown",
   "id": "721b9748",
   "metadata": {},
   "source": [
    "## Key Performance Indicators:\n",
    "\n",
    "In general, we want to maximize the percentage of spam messages that we are able to identify while also minimizing the number of legitimate messages that get flagged as spam. \n",
    "\n",
    "For this project, we will assume that the maximum amount of ham messages being labeled as spam that we can tolerate is **1 in 1 million** ham messages. This equates to a maximum false positive rate of **0.000001**. \n",
    "\n",
    "However, since we only have 5572 samples in the entire dataset, even a single false positive will cause our model to fail this test. Even a model that does only mislabel ham messages as spam once in a million messages will have a chance of creating a false positive in any given 5572 samples. As a result, we will accept a model if it has a false positive rate of 1/5572=**0.0001795**. This means that we can tolerate a single false positive when the model is evaluated against the entire dataset (such as in cross-validation). \n",
    "\n",
    "In the literature (see README), the top performing model caught approximately 83% of the spam messages (although the false positive rate was much higher than our threshold). Given our strict requirement on a low false positive rate, we will accept any model that has a true positive rate of >83% while also staying below our false positive threshold."
   ]
  },
  {
   "cell_type": "markdown",
   "id": "6cc1f593",
   "metadata": {},
   "source": [
    "## Install and import libraries"
   ]
  },
  {
   "cell_type": "code",
   "execution_count": 4,
   "id": "d5debc22",
   "metadata": {},
   "outputs": [
    {
     "name": "stdout",
     "output_type": "stream",
     "text": [
      "Requirement already satisfied: gensim in /home/ec2-user/anaconda3/envs/python3/lib/python3.6/site-packages (4.1.2)\n",
      "Requirement already satisfied: scipy>=0.18.1 in /home/ec2-user/anaconda3/envs/python3/lib/python3.6/site-packages (from gensim) (1.5.3)\n",
      "Requirement already satisfied: numpy>=1.17.0 in /home/ec2-user/anaconda3/envs/python3/lib/python3.6/site-packages (from gensim) (1.19.5)\n",
      "Requirement already satisfied: smart-open>=1.8.1 in /home/ec2-user/anaconda3/envs/python3/lib/python3.6/site-packages (from gensim) (5.2.1)\n",
      "Requirement already satisfied: dataclasses in /home/ec2-user/anaconda3/envs/python3/lib/python3.6/site-packages (from gensim) (0.8)\n",
      "\u001b[33mWARNING: You are using pip version 21.2.4; however, version 21.3.1 is available.\n",
      "You should consider upgrading via the '/home/ec2-user/anaconda3/envs/python3/bin/python -m pip install --upgrade pip' command.\u001b[0m\n"
     ]
    }
   ],
   "source": [
    "!pip install gensim"
   ]
  },
  {
   "cell_type": "code",
   "execution_count": 5,
   "id": "8c208e15",
   "metadata": {
    "scrolled": true
   },
   "outputs": [
    {
     "name": "stdout",
     "output_type": "stream",
     "text": [
      "Requirement already satisfied: tensorflow in /home/ec2-user/anaconda3/envs/python3/lib/python3.6/site-packages (2.6.2)\n",
      "Requirement already satisfied: typing-extensions~=3.7.4 in /home/ec2-user/anaconda3/envs/python3/lib/python3.6/site-packages (from tensorflow) (3.7.4.3)\n",
      "Requirement already satisfied: tensorboard<2.7,>=2.6.0 in /home/ec2-user/anaconda3/envs/python3/lib/python3.6/site-packages (from tensorflow) (2.6.0)\n",
      "Requirement already satisfied: flatbuffers~=1.12.0 in /home/ec2-user/anaconda3/envs/python3/lib/python3.6/site-packages (from tensorflow) (1.12)\n",
      "Requirement already satisfied: numpy~=1.19.2 in /home/ec2-user/anaconda3/envs/python3/lib/python3.6/site-packages (from tensorflow) (1.19.5)\n",
      "Requirement already satisfied: opt-einsum~=3.3.0 in /home/ec2-user/anaconda3/envs/python3/lib/python3.6/site-packages (from tensorflow) (3.3.0)\n",
      "Requirement already satisfied: wheel~=0.35 in /home/ec2-user/anaconda3/envs/python3/lib/python3.6/site-packages (from tensorflow) (0.36.2)\n",
      "Requirement already satisfied: grpcio<2.0,>=1.37.0 in /home/ec2-user/anaconda3/envs/python3/lib/python3.6/site-packages (from tensorflow) (1.41.1)\n",
      "Requirement already satisfied: six~=1.15.0 in /home/ec2-user/anaconda3/envs/python3/lib/python3.6/site-packages (from tensorflow) (1.15.0)\n",
      "Requirement already satisfied: keras-preprocessing~=1.1.2 in /home/ec2-user/anaconda3/envs/python3/lib/python3.6/site-packages (from tensorflow) (1.1.2)\n",
      "Requirement already satisfied: termcolor~=1.1.0 in /home/ec2-user/anaconda3/envs/python3/lib/python3.6/site-packages (from tensorflow) (1.1.0)\n",
      "Requirement already satisfied: astunparse~=1.6.3 in /home/ec2-user/anaconda3/envs/python3/lib/python3.6/site-packages (from tensorflow) (1.6.3)\n",
      "Requirement already satisfied: google-pasta~=0.2 in /home/ec2-user/anaconda3/envs/python3/lib/python3.6/site-packages (from tensorflow) (0.2.0)\n",
      "Requirement already satisfied: gast==0.4.0 in /home/ec2-user/anaconda3/envs/python3/lib/python3.6/site-packages (from tensorflow) (0.4.0)\n",
      "Requirement already satisfied: h5py~=3.1.0 in /home/ec2-user/anaconda3/envs/python3/lib/python3.6/site-packages (from tensorflow) (3.1.0)\n",
      "Requirement already satisfied: keras<2.7,>=2.6.0 in /home/ec2-user/anaconda3/envs/python3/lib/python3.6/site-packages (from tensorflow) (2.6.0)\n",
      "Requirement already satisfied: clang~=5.0 in /home/ec2-user/anaconda3/envs/python3/lib/python3.6/site-packages (from tensorflow) (5.0)\n",
      "Requirement already satisfied: protobuf>=3.9.2 in /home/ec2-user/anaconda3/envs/python3/lib/python3.6/site-packages (from tensorflow) (3.19.0)\n",
      "Requirement already satisfied: tensorflow-estimator<2.7,>=2.6.0 in /home/ec2-user/anaconda3/envs/python3/lib/python3.6/site-packages (from tensorflow) (2.6.0)\n",
      "Requirement already satisfied: absl-py~=0.10 in /home/ec2-user/anaconda3/envs/python3/lib/python3.6/site-packages (from tensorflow) (0.15.0)\n",
      "Requirement already satisfied: wrapt~=1.12.1 in /home/ec2-user/anaconda3/envs/python3/lib/python3.6/site-packages (from tensorflow) (1.12.1)\n",
      "Requirement already satisfied: cached-property in /home/ec2-user/anaconda3/envs/python3/lib/python3.6/site-packages (from h5py~=3.1.0->tensorflow) (1.5.2)\n",
      "Requirement already satisfied: requests<3,>=2.21.0 in /home/ec2-user/anaconda3/envs/python3/lib/python3.6/site-packages (from tensorboard<2.7,>=2.6.0->tensorflow) (2.26.0)\n",
      "Requirement already satisfied: tensorboard-data-server<0.7.0,>=0.6.0 in /home/ec2-user/anaconda3/envs/python3/lib/python3.6/site-packages (from tensorboard<2.7,>=2.6.0->tensorflow) (0.6.1)\n",
      "Requirement already satisfied: setuptools>=41.0.0 in /home/ec2-user/anaconda3/envs/python3/lib/python3.6/site-packages (from tensorboard<2.7,>=2.6.0->tensorflow) (58.3.0)\n",
      "Requirement already satisfied: werkzeug>=0.11.15 in /home/ec2-user/anaconda3/envs/python3/lib/python3.6/site-packages (from tensorboard<2.7,>=2.6.0->tensorflow) (1.0.1)\n",
      "Requirement already satisfied: tensorboard-plugin-wit>=1.6.0 in /home/ec2-user/anaconda3/envs/python3/lib/python3.6/site-packages (from tensorboard<2.7,>=2.6.0->tensorflow) (1.8.0)\n",
      "Requirement already satisfied: google-auth<2,>=1.6.3 in /home/ec2-user/anaconda3/envs/python3/lib/python3.6/site-packages (from tensorboard<2.7,>=2.6.0->tensorflow) (1.35.0)\n",
      "Requirement already satisfied: markdown>=2.6.8 in /home/ec2-user/anaconda3/envs/python3/lib/python3.6/site-packages (from tensorboard<2.7,>=2.6.0->tensorflow) (3.3.4)\n",
      "Requirement already satisfied: google-auth-oauthlib<0.5,>=0.4.1 in /home/ec2-user/anaconda3/envs/python3/lib/python3.6/site-packages (from tensorboard<2.7,>=2.6.0->tensorflow) (0.4.6)\n",
      "Requirement already satisfied: pyasn1-modules>=0.2.1 in /home/ec2-user/anaconda3/envs/python3/lib/python3.6/site-packages (from google-auth<2,>=1.6.3->tensorboard<2.7,>=2.6.0->tensorflow) (0.2.8)\n",
      "Requirement already satisfied: cachetools<5.0,>=2.0.0 in /home/ec2-user/anaconda3/envs/python3/lib/python3.6/site-packages (from google-auth<2,>=1.6.3->tensorboard<2.7,>=2.6.0->tensorflow) (4.2.4)\n",
      "Requirement already satisfied: rsa<5,>=3.1.4 in /home/ec2-user/anaconda3/envs/python3/lib/python3.6/site-packages (from google-auth<2,>=1.6.3->tensorboard<2.7,>=2.6.0->tensorflow) (4.7.2)\n",
      "Requirement already satisfied: requests-oauthlib>=0.7.0 in /home/ec2-user/anaconda3/envs/python3/lib/python3.6/site-packages (from google-auth-oauthlib<0.5,>=0.4.1->tensorboard<2.7,>=2.6.0->tensorflow) (1.3.0)\n",
      "Requirement already satisfied: importlib-metadata in /home/ec2-user/anaconda3/envs/python3/lib/python3.6/site-packages (from markdown>=2.6.8->tensorboard<2.7,>=2.6.0->tensorflow) (4.8.1)\n",
      "Requirement already satisfied: pyasn1<0.5.0,>=0.4.6 in /home/ec2-user/anaconda3/envs/python3/lib/python3.6/site-packages (from pyasn1-modules>=0.2.1->google-auth<2,>=1.6.3->tensorboard<2.7,>=2.6.0->tensorflow) (0.4.8)\n",
      "Requirement already satisfied: idna<4,>=2.5 in /home/ec2-user/anaconda3/envs/python3/lib/python3.6/site-packages (from requests<3,>=2.21.0->tensorboard<2.7,>=2.6.0->tensorflow) (3.3)\n",
      "Requirement already satisfied: charset-normalizer~=2.0.0 in /home/ec2-user/anaconda3/envs/python3/lib/python3.6/site-packages (from requests<3,>=2.21.0->tensorboard<2.7,>=2.6.0->tensorflow) (2.0.7)\n",
      "Requirement already satisfied: urllib3<1.27,>=1.21.1 in /home/ec2-user/anaconda3/envs/python3/lib/python3.6/site-packages (from requests<3,>=2.21.0->tensorboard<2.7,>=2.6.0->tensorflow) (1.26.7)\n",
      "Requirement already satisfied: certifi>=2017.4.17 in /home/ec2-user/anaconda3/envs/python3/lib/python3.6/site-packages (from requests<3,>=2.21.0->tensorboard<2.7,>=2.6.0->tensorflow) (2021.10.8)\n",
      "Requirement already satisfied: oauthlib>=3.0.0 in /home/ec2-user/anaconda3/envs/python3/lib/python3.6/site-packages (from requests-oauthlib>=0.7.0->google-auth-oauthlib<0.5,>=0.4.1->tensorboard<2.7,>=2.6.0->tensorflow) (3.1.1)\n",
      "Requirement already satisfied: zipp>=0.5 in /home/ec2-user/anaconda3/envs/python3/lib/python3.6/site-packages (from importlib-metadata->markdown>=2.6.8->tensorboard<2.7,>=2.6.0->tensorflow) (3.6.0)\n",
      "\u001b[33mWARNING: You are using pip version 21.2.4; however, version 21.3.1 is available.\n",
      "You should consider upgrading via the '/home/ec2-user/anaconda3/envs/python3/bin/python -m pip install --upgrade pip' command.\u001b[0m\n"
     ]
    }
   ],
   "source": [
    "!pip install tensorflow"
   ]
  },
  {
   "cell_type": "code",
   "execution_count": 6,
   "id": "7c6c7379",
   "metadata": {},
   "outputs": [
    {
     "name": "stdout",
     "output_type": "stream",
     "text": [
      "Requirement already satisfied: imbalanced-learn in /home/ec2-user/anaconda3/envs/python3/lib/python3.6/site-packages (0.8.1)\n",
      "Requirement already satisfied: numpy>=1.13.3 in /home/ec2-user/anaconda3/envs/python3/lib/python3.6/site-packages (from imbalanced-learn) (1.19.5)\n",
      "Requirement already satisfied: scikit-learn>=0.24 in /home/ec2-user/anaconda3/envs/python3/lib/python3.6/site-packages (from imbalanced-learn) (0.24.1)\n",
      "Requirement already satisfied: scipy>=0.19.1 in /home/ec2-user/anaconda3/envs/python3/lib/python3.6/site-packages (from imbalanced-learn) (1.5.3)\n",
      "Requirement already satisfied: joblib>=0.11 in /home/ec2-user/anaconda3/envs/python3/lib/python3.6/site-packages (from imbalanced-learn) (1.0.1)\n",
      "Requirement already satisfied: threadpoolctl>=2.0.0 in /home/ec2-user/anaconda3/envs/python3/lib/python3.6/site-packages (from scikit-learn>=0.24->imbalanced-learn) (2.1.0)\n",
      "\u001b[33mWARNING: You are using pip version 21.2.4; however, version 21.3.1 is available.\n",
      "You should consider upgrading via the '/home/ec2-user/anaconda3/envs/python3/bin/python -m pip install --upgrade pip' command.\u001b[0m\n"
     ]
    }
   ],
   "source": [
    "!pip install imbalanced-learn"
   ]
  },
  {
   "cell_type": "code",
   "execution_count": 7,
   "id": "3cae96b4",
   "metadata": {},
   "outputs": [],
   "source": [
    "import pandas as pd\n",
    "import numpy as np\n",
    "import os\n",
    "import matplotlib.pyplot as plt\n",
    "import seaborn as sns\n",
    "import nltk\n",
    "from nltk.corpus import stopwords\n",
    "import string\n",
    "import re\n",
    "from sklearn.feature_extraction.text import CountVectorizer\n",
    "from sklearn.feature_extraction.text import TfidfTransformer\n",
    "from sklearn.model_selection import train_test_split\n",
    "from sklearn.model_selection import GridSearchCV\n",
    "from sklearn.model_selection import cross_validate\n",
    "from sklearn.model_selection import StratifiedKFold\n",
    "from sklearn.pipeline import Pipeline\n",
    "from sklearn import metrics\n",
    "from sklearn.metrics import fbeta_score\n",
    "from sklearn.metrics import confusion_matrix\n",
    "from sklearn.metrics import make_scorer\n",
    "from sklearn.naive_bayes import MultinomialNB\n",
    "from sklearn.ensemble import RandomForestClassifier\n",
    "from sklearn.svm import SVC\n",
    "from gensim.models import Word2Vec\n",
    "import tensorflow as tf\n",
    "from tensorflow.keras import Model\n",
    "from tensorflow.keras.layers import Input, Embedding, Dense, Dropout, Conv1D, MaxPooling1D, GlobalMaxPooling1D\n",
    "import imblearn"
   ]
  },
  {
   "cell_type": "markdown",
   "id": "6e845fc4",
   "metadata": {},
   "source": [
    "## Define constants"
   ]
  },
  {
   "cell_type": "code",
   "execution_count": 8,
   "id": "a6d46c50",
   "metadata": {},
   "outputs": [],
   "source": [
    "DATA_LOC = 'data/SMSSpamCollection'\n",
    "TEST_RATIO = 0.4\n",
    "INSPECT_ROWS = 100 \n",
    "RANDOM_STATE = 12 # random value, this happens to be my favorite number\n",
    "F1_BETA = 0.35 \n",
    "CV_FOLDS = 5\n",
    "MAX_FPR = 0.0001795\n",
    "DOWNLOAD_GLOVE = False # indicates whether the GloVe embeddings data will be downloaded\n",
    "EMBED_DIM = 100"
   ]
  },
  {
   "cell_type": "markdown",
   "id": "2b9f5704",
   "metadata": {},
   "source": [
    "## Read data"
   ]
  },
  {
   "cell_type": "code",
   "execution_count": 9,
   "id": "e031500a",
   "metadata": {},
   "outputs": [],
   "source": [
    "df = pd.read_csv(DATA_LOC, delimiter = '\\t', header = None, names = ['spam', 'message'])"
   ]
  },
  {
   "cell_type": "markdown",
   "id": "7e498d5b",
   "metadata": {},
   "source": [
    "## Exploratory Data Analysis"
   ]
  },
  {
   "cell_type": "code",
   "execution_count": 10,
   "id": "ce2d2eb7",
   "metadata": {},
   "outputs": [
    {
     "data": {
      "text/html": [
       "<div>\n",
       "<style scoped>\n",
       "    .dataframe tbody tr th:only-of-type {\n",
       "        vertical-align: middle;\n",
       "    }\n",
       "\n",
       "    .dataframe tbody tr th {\n",
       "        vertical-align: top;\n",
       "    }\n",
       "\n",
       "    .dataframe thead th {\n",
       "        text-align: right;\n",
       "    }\n",
       "</style>\n",
       "<table border=\"1\" class=\"dataframe\">\n",
       "  <thead>\n",
       "    <tr style=\"text-align: right;\">\n",
       "      <th></th>\n",
       "      <th>spam</th>\n",
       "      <th>message</th>\n",
       "    </tr>\n",
       "  </thead>\n",
       "  <tbody>\n",
       "    <tr>\n",
       "      <th>0</th>\n",
       "      <td>ham</td>\n",
       "      <td>Go until jurong point, crazy.. Available only ...</td>\n",
       "    </tr>\n",
       "    <tr>\n",
       "      <th>1</th>\n",
       "      <td>ham</td>\n",
       "      <td>Ok lar... Joking wif u oni...</td>\n",
       "    </tr>\n",
       "    <tr>\n",
       "      <th>2</th>\n",
       "      <td>spam</td>\n",
       "      <td>Free entry in 2 a wkly comp to win FA Cup fina...</td>\n",
       "    </tr>\n",
       "    <tr>\n",
       "      <th>3</th>\n",
       "      <td>ham</td>\n",
       "      <td>U dun say so early hor... U c already then say...</td>\n",
       "    </tr>\n",
       "    <tr>\n",
       "      <th>4</th>\n",
       "      <td>ham</td>\n",
       "      <td>Nah I don't think he goes to usf, he lives aro...</td>\n",
       "    </tr>\n",
       "    <tr>\n",
       "      <th>5</th>\n",
       "      <td>spam</td>\n",
       "      <td>FreeMsg Hey there darling it's been 3 week's n...</td>\n",
       "    </tr>\n",
       "    <tr>\n",
       "      <th>6</th>\n",
       "      <td>ham</td>\n",
       "      <td>Even my brother is not like to speak with me. ...</td>\n",
       "    </tr>\n",
       "    <tr>\n",
       "      <th>7</th>\n",
       "      <td>ham</td>\n",
       "      <td>As per your request 'Melle Melle (Oru Minnamin...</td>\n",
       "    </tr>\n",
       "    <tr>\n",
       "      <th>8</th>\n",
       "      <td>spam</td>\n",
       "      <td>WINNER!! As a valued network customer you have...</td>\n",
       "    </tr>\n",
       "    <tr>\n",
       "      <th>9</th>\n",
       "      <td>spam</td>\n",
       "      <td>Had your mobile 11 months or more? U R entitle...</td>\n",
       "    </tr>\n",
       "  </tbody>\n",
       "</table>\n",
       "</div>"
      ],
      "text/plain": [
       "   spam                                            message\n",
       "0   ham  Go until jurong point, crazy.. Available only ...\n",
       "1   ham                      Ok lar... Joking wif u oni...\n",
       "2  spam  Free entry in 2 a wkly comp to win FA Cup fina...\n",
       "3   ham  U dun say so early hor... U c already then say...\n",
       "4   ham  Nah I don't think he goes to usf, he lives aro...\n",
       "5  spam  FreeMsg Hey there darling it's been 3 week's n...\n",
       "6   ham  Even my brother is not like to speak with me. ...\n",
       "7   ham  As per your request 'Melle Melle (Oru Minnamin...\n",
       "8  spam  WINNER!! As a valued network customer you have...\n",
       "9  spam  Had your mobile 11 months or more? U R entitle..."
      ]
     },
     "execution_count": 10,
     "metadata": {},
     "output_type": "execute_result"
    }
   ],
   "source": [
    "df.head(10)"
   ]
  },
  {
   "cell_type": "markdown",
   "id": "0412f6d1",
   "metadata": {},
   "source": [
    "Right off the bat, I'm noticing that spam messages may have all capital words, such as \"WINNER\", that might be indicative of spam. My original plan was to lowercase all words but that may be detrimental to the results. On the other hand, not lowercasing the word will cause words like \"Winner\" and \"winner\" to be considered different tokens."
   ]
  },
  {
   "cell_type": "markdown",
   "id": "3b59ffa6",
   "metadata": {},
   "source": [
    "#### Total number of samples"
   ]
  },
  {
   "cell_type": "code",
   "execution_count": 11,
   "id": "a276893c",
   "metadata": {},
   "outputs": [
    {
     "data": {
      "text/plain": [
       "5572"
      ]
     },
     "execution_count": 11,
     "metadata": {},
     "output_type": "execute_result"
    }
   ],
   "source": [
    "len(df)"
   ]
  },
  {
   "cell_type": "markdown",
   "id": "205777e8",
   "metadata": {},
   "source": [
    "#### Check for missing values"
   ]
  },
  {
   "cell_type": "code",
   "execution_count": 12,
   "id": "cec4a1a9",
   "metadata": {},
   "outputs": [
    {
     "data": {
      "text/plain": [
       "spam       0\n",
       "message    0\n",
       "dtype: int64"
      ]
     },
     "execution_count": 12,
     "metadata": {},
     "output_type": "execute_result"
    }
   ],
   "source": [
    "df.isna().sum()"
   ]
  },
  {
   "cell_type": "markdown",
   "id": "995cdac8",
   "metadata": {},
   "source": [
    "As expected, there are no missing values. This is good."
   ]
  },
  {
   "cell_type": "markdown",
   "id": "57882ea4",
   "metadata": {},
   "source": [
    "#### Inspect class distribution"
   ]
  },
  {
   "cell_type": "code",
   "execution_count": 13,
   "id": "6ca1afe4",
   "metadata": {},
   "outputs": [
    {
     "data": {
      "text/plain": [
       "ham     4825\n",
       "spam     747\n",
       "Name: spam, dtype: int64"
      ]
     },
     "execution_count": 13,
     "metadata": {},
     "output_type": "execute_result"
    }
   ],
   "source": [
    "df.spam.value_counts()"
   ]
  },
  {
   "cell_type": "code",
   "execution_count": 14,
   "id": "8f741ef4",
   "metadata": {},
   "outputs": [
    {
     "data": {
      "text/plain": [
       "ham     86.593683\n",
       "spam    13.406317\n",
       "Name: spam, dtype: float64"
      ]
     },
     "execution_count": 14,
     "metadata": {},
     "output_type": "execute_result"
    }
   ],
   "source": [
    "# class breakdown in percentage form\n",
    "df.spam.value_counts() / len(df) * 100"
   ]
  },
  {
   "cell_type": "markdown",
   "id": "053c21e2",
   "metadata": {},
   "source": [
    "This class breakdown matches the dataset description. There is an obvious heavy bias towards ham (non-spam) messages. 86.6% of messages are ham and only 13.4% are spam. This is somewhat realistic, since the majority of messages are ham."
   ]
  },
  {
   "cell_type": "markdown",
   "id": "5457f8e4",
   "metadata": {},
   "source": [
    "#### Visually inspect ham messages"
   ]
  },
  {
   "cell_type": "code",
   "execution_count": 15,
   "id": "ed82a343",
   "metadata": {},
   "outputs": [
    {
     "name": "stdout",
     "output_type": "stream",
     "text": [
      "I am not sure about night menu. . . I know only about noon menu\n",
      "If you ask her or she say any please message.\n",
      "K..k.:)congratulation ..\n",
      "I have a sore throat. It's scratches when I talk\n",
      "Im cool ta luv but v.tired 2 cause i have been doin loads of planning all wk, we have got our social services inspection at the nursery! Take care & spk sn x.\n",
      "Uh, heads up we don't have THAT much left\n",
      "Pls send me your address sir.\n",
      "Dude u knw also telugu..thts gud..k, gud nyt..\n",
      "Got it. Seventeen pounds for seven hundred ml – hope ok.\n",
      "I didnt get ur full msg..sometext is missing, send it again\n",
      "Haven't seen my facebook, huh? Lol!\n",
      "Only just got this message, not ignoring you. Yes, i was. Shopping that is\n",
      "Also remember the beads don't come off. Ever.\n",
      "He needs to stop going to bed and make with the fucking dealing\n",
      "K, wen ur free come to my home and also tel vikky i hav sent mail to him also.. Better come evening il be free today aftr 6pm..:-)\n",
      "SYMPTOMS when U are in love: \"1.U like listening songs 2.U get stopped where u see the name of your beloved 3.U won't get angry when your\n",
      "Hi here. have birth at on the  to  at 8lb 7oz. Mother and baby doing brilliantly.\n",
      "I'm ok wif it cos i like 2 try new things. But i scared u dun like mah. Cos u said not too loud.\n",
      "Tick, tick, tick .... Where are you ? I could die of loneliness you know ! *pouts* *stomps feet* I need you ...\n",
      "Sorry vikky, i'm Watching olave mandara movie kano in trishul theatre wit my frnds..\n",
      "Okie...\n",
      "If you want to mapquest it or something look up \"usf dogwood drive\", that's the tiny street where the parking lot is\n",
      "HI DARLIN IVE JUST GOT BACK AND I HAD A REALLY NICE NIGHT AND THANKS SO MUCH FOR THE LIFT SEE U TOMORROW XXX\n",
      "Lol no. I just need to cash in my nitros. Hurry come on before I crash out!\n",
      "Wow so healthy. Old airport rd lor. Cant thk of anything else. But i'll b bathing my dog later.\n",
      "If you r @ home then come down within 5 min\n",
      "Go until jurong point, crazy.. Available only in bugis n great world la e buffet... Cine there got amore wat...\n",
      "I'm always on yahoo messenger now. Just send the message to me and i.ll get it you may have to send it in the mobile mode sha but i.ll get it. And will reply.\n",
      "Lmao. Take a pic and send it to me.\n",
      "Even my brother is not like to speak with me. They treat me like aids patent.\n",
      "Aight fuck it, I'll get it later\n",
      "I told her I had a Dr appt next week. She thinks I'm gonna die. I told her its just a check. Nothing to be worried about. But she didn't listen.\n",
      "Haha get used to driving to usf man, I know a lot of stoners\n",
      "ER, ENJOYIN INDIANS AT THE MO..yeP. SaLL gOoD HehE ;> hows bout u shexy? Pete Xx\n",
      "Have you had a good day? Mine was really busy are you up to much tomorrow night?\n",
      "U 2.\n",
      "This pay is  &lt;DECIMAL&gt;  lakhs:)\n",
      "How much is blackberry bold2 in nigeria.\n",
      "I wont get concentration dear you know you are my mind and everything :-)\n",
      "K I'll be there before 4.\n",
      "Hey! There's veggie pizza... :/\n",
      "Anyway holla at me whenever you're around because I need an excuse to go creep on people in sarasota\n",
      "Argh why the fuck is nobody in town ;_;\n",
      "I think your mentor is , but not 100 percent sure.\n",
      "Let's pool our money together and buy a bunch of lotto tickets. If we win I get &lt;#&gt; % u get &lt;#&gt; %. Deal?\n",
      "You didnt complete your gist oh.\n",
      "NOT MUCH NO FIGHTS. IT WAS A GOOD NITE!!\n",
      "Actually nvm, got hella cash, we still on for  &lt;#&gt; ish?\n",
      "Thats cool. i am a gentleman and will treat you with dignity and respect.\n",
      "I will come with karnan car. Please wait till 6pm will directly goto doctor.\n",
      "U still painting ur wall?\n",
      "I tot it's my group mate... Lucky i havent reply... Wat time do ü need to leave... \n",
      "Bull. Your plan was to go floating off to IKEA with me without a care in the world. So i have to live with your mess another day.\n",
      "Ups which is 3days also, and the shipping company that takes 2wks. The other way is usps which takes a week but when it gets to lag you may have to bribe nipost to get your stuff.\n",
      "Sorry, I'll call later\n",
      "I am on the way to ur home\n",
      "I'm on the bus. Love you\n",
      "My stomach has been thru so much trauma I swear I just can't eat. I better lose weight.\n",
      "Ard 6 like dat lor.\n",
      "I tagged MY friends that you seemed to count as YOUR friends.\n",
      "I am going to sleep. I am tired of travel.\n",
      "Easy ah?sen got selected means its good..\n",
      "Well keep in mind I've only got enough gas for one more round trip barring a sudden influx of cash\n",
      "Hi Princess! Thank you for the pics. You are very pretty. How are you?\n",
      "Storming msg: Wen u lift d phne, u say \"HELLO\" Do u knw wt is d real meaning of HELLO?? . . . It's d name of a girl..! . . . Yes.. And u knw who is dat girl?? \"Margaret Hello\" She is d girlfrnd f Grahmbell who invnted telphone... . . . . Moral:One can 4get d name of a person, bt not his girlfrnd... G o o d n i g h t . . .@\n",
      "Gimme a few was  &lt;#&gt;  minutes ago\n",
      "Small problem in auction:)punj now asking tiwary\n",
      "Hmm ill have to think about it... ok you're forgiven! =D\n",
      "THANX 4 PUTTIN DA FONE DOWN ON ME!!\n",
      "Just wondering, the others just took off\n",
      "Sorry, I'll call later\n",
      "Printer is cool. I mean groovy. Wine is groovying\n",
      "Yup\n",
      "if you aren't here in the next  &lt;#&gt;  hours imma flip my shit\n",
      "Wat makes some people dearer is not just de happiness dat u feel when u meet them but de pain u feel when u miss dem!!!\n",
      "No break time one... How... I come out n get my stuff fr ü?\n",
      "I was wondering if it would be okay for you to call uncle john and let him know that things are not the same in nigeria as they r here. That  &lt;#&gt;  dollars is 2years sent and that you know its a strain but i plan to pay back every dime he gives. Every dime so for me to expect anything from you is not practical. Something like that.\n",
      "I'm in a meeting, call me later at\n",
      "No go. No openings for that room 'til after thanksgiving without an upcharge.\n",
      "And maybe some pressies\n",
      "Yo, you gonna still be in stock tomorrow/today? I'm trying to get a dubsack\n",
      "Whatsup there. Dont u want to sleep\n",
      "Okay same with me. Well thanks for the clarification\n",
      "What you did in  leave.\n",
      "R u still working now?\n",
      "Yeah so basically any time next week you can get away from your mom &amp; get up before 3\n",
      "Dude we should go sup again\n",
      "How's my loverboy doing ? What does he do that keeps him from coming to his Queen, hmmm ? Doesn't he ache to speak to me ? Miss me desparately ?\n",
      "Yes princess! I want to catch you with my big strong hands...\n",
      "Don know:)this week i'm going to tirunelvai da.\n",
      "Hiya. How was last night? I've been naughty and bought myself clothes and very little ... Ready for more shopping tho! What kind of time do you wanna meet?\n",
      "CHEERS U TEX MECAUSE U WEREBORED! YEAH OKDEN HUNNY R UIN WK SAT?SOUNDS LIKEYOUR HAVIN GR8FUN J! KEEP UPDAT COUNTINLOTS OF LOVEME XXXXX.\n",
      "Hey elaine, is today's meeting still on?\n",
      "Looks like you found something to do other than smoke, great job!\n",
      "* Thought I didn't see you.\n",
      "I pocked you up there before\n",
      "One of best dialogue in cute reltnship..!! \"Wen i Die, Dont Come Near My Body..!! Bcoz My Hands May Not Come 2 Wipe Ur Tears Off That Time..!Gud ni8\n",
      "Lol I would but despite these cramps I like being a girl.\n",
      "Nah I don't think he goes to usf, he lives around here though\n",
      "Mon okie lor... Haha, best is cheap n gd food la, ex oso okie... Depends on whether wana eat western or chinese food... Den which u prefer... \n"
     ]
    }
   ],
   "source": [
    "for index, row in df[df['spam'] == 'ham'].sample(INSPECT_ROWS, random_state = RANDOM_STATE).iterrows():\n",
    "    print(row['message'])"
   ]
  },
  {
   "cell_type": "markdown",
   "id": "002efa25",
   "metadata": {},
   "source": [
    "These messages are primarily from the UK, so the English is not typical for me and there are a lot of different spellings. That being said, there are still some obvious mispellings, such as \"womdarfull\", \"frndsship\", etc. There is also a lot of slang/shorthand, such as \"b'day\", \"gr8\", \"K\", \"Dis\", \"thx\", etc. There are also abbreviations such as \"LOL\". There are also some messages in other languages. I'm also noticing some weird characters, such as \"`&lt; #&gt;`\" indicating that the less-than and great-than symbols were used. \n",
    "\n",
    "In addition, after futher inspection of ham messages, I'm rethinking the idea to preserve capitalization. There are several ham messages that contain heavy capitalization as well, which means that capitalization is not necessarily and indication of spam and adding those words as special tokens may add unnecessary features or noise to the dataset. It may be interesting, however, to explore the correlation between the position of those capital letters within the message to the spam/ham label.\n",
    "\n",
    "There is also punctuation that tends to be more indicative of a ham message, such as a smiley face :) or :-). I think preserving these types of symbols and punctuation marks might be valuable for the model. "
   ]
  },
  {
   "cell_type": "markdown",
   "id": "9d18959a",
   "metadata": {},
   "source": [
    "#### Visually inspect ham messages"
   ]
  },
  {
   "cell_type": "code",
   "execution_count": 16,
   "id": "0f0d77c0",
   "metadata": {},
   "outputs": [
    {
     "name": "stdout",
     "output_type": "stream",
     "text": [
      "SMS SERVICES For your inclusive text credits pls gotto www.comuk.net login 3qxj9 unsubscribe with STOP no extra charge help 08702840625 comuk.220cm2 9AE\n",
      "Congrats! 1 year special cinema pass for 2 is yours. call 09061209465 now! C Suprman V, Matrix3, StarWars3, etc all 4 FREE! bx420-ip4-5we. 150pm. Dont miss out! \n",
      "tddnewsletter@emc1.co.uk (More games from TheDailyDraw) Dear Helen, Dozens of Free Games - with great prizesWith..\n",
      "FreeMsg Today's the day if you are ready! I'm horny & live in your town. I love sex fun & games! Netcollex Ltd 08700621170150p per msg reply Stop to end\n",
      "YOUR CHANCE TO BE ON A REALITY FANTASY SHOW call now = 08707509020 Just 20p per min NTT Ltd, PO Box 1327 Croydon CR9 5WB 0870 is a national = rate call\n",
      "FreeMsg Hey U, i just got 1 of these video/pic fones, reply WILD to this txt & ill send U my pics, hurry up Im so bored at work xxx (18 150p/rcvd STOP2stop)\n",
      "Want 2 get laid tonight? Want real Dogging locations sent direct 2 ur mob? Join the UK's largest Dogging Network bt Txting GRAVEL to 69888! Nt. ec2a. 31p.msg@150p\n",
      "Send a logo 2 ur lover - 2 names joined by a heart. Txt LOVE NAME1 NAME2 MOBNO eg LOVE ADAM EVE 07123456789 to 87077 Yahoo! POBox36504W45WQ TxtNO 4 no ads 150p.\n",
      "URGENT! Your Mobile No 07808726822 was awarded a £2,000 Bonus Caller Prize on 02/09/03! This is our 2nd attempt to contact YOU! Call 0871-872-9758 BOX95QU\n",
      "URGENT! You have won a 1 week FREE membership in our £100,000 Prize Jackpot! Txt the word: CLAIM to No: 81010 T&C www.dbuk.net LCCLTD POBOX 4403LDNW1A7RW18\n",
      "Buy Space Invaders 4 a chance 2 win orig Arcade Game console. Press 0 for Games Arcade (std WAP charge) See o2.co.uk/games 4 Terms + settings. No purchase\n",
      "Congratulations ur awarded 500 of CD vouchers or 125gift guaranteed & Free entry 2 100 wkly draw txt MUSIC to 87066\n",
      "Oh my god! I've found your number again! I'm so glad, text me back xafter this msgs cst std ntwk chg £1.50\n",
      "U have a secret admirer who is looking 2 make contact with U-find out who they R*reveal who thinks UR so special-call on 09058094599\n",
      "Hi I'm sue. I am 20 years old and work as a lapdancer. I love sex. Text me live - I'm i my bedroom now. text SUE to 89555. By TextOperator G2 1DA 150ppmsg 18+\n",
      "Ur balance is now £600. Next question: Complete the landmark, Big, A. Bob, B. Barry or C. Ben ?. Text A, B or C to 83738. Good luck!\n",
      "Goal! Arsenal 4 (Henry, 7 v Liverpool 2 Henry scores with a simple shot from 6 yards from a pass by Bergkamp to give Arsenal a 2 goal margin after 78 mins.\n",
      "URGENT! Your Mobile number has been awarded a <UKP>2000 prize GUARANTEED. Call 09061790125 from landline. Claim 3030. Valid 12hrs only 150ppm\n",
      "Get 3 Lions England tone, reply lionm 4 mono or lionp 4 poly. 4 more go 2 www.ringtones.co.uk, the original n best. Tones 3GBP network operator rates apply\n",
      "HMV BONUS SPECIAL 500 pounds of genuine HMV vouchers to be won. Just answer 4 easy questions. Play Now! Send HMV to 86688 More info:www.100percent-real.com\n",
      "449050000301 You have won a £2,000 price! To claim, call 09050000301.\n",
      "Did you hear about the new \"Divorce Barbie\"? It comes with all of Ken's stuff!\n",
      "Moby Pub Quiz.Win a £100 High Street prize if u know who the new Duchess of Cornwall will be? Txt her first name to 82277.unsub STOP £1.50 008704050406 SP Arrow\n",
      "U have a secret admirer. REVEAL who thinks U R So special. Call 09065174042. To opt out Reply REVEAL STOP. 1.50 per msg recd. Cust care 07821230901\n",
      "URGENT We are trying to contact you Last weekends draw shows u have won a £1000 prize GUARANTEED Call 09064017295 Claim code K52 Valid 12hrs 150p pm\n",
      "Loan for any purpose £500 - £75,000. Homeowners + Tenants welcome. Have you been previously refused? We can still help. Call Free 0800 1956669 or text back 'help'\n",
      "PRIVATE! Your 2003 Account Statement for <fone no> shows 800 un-redeemed S. I. M. points. Call 08715203656 Identifier Code: 42049 Expires 26/10/04\n",
      "Sppok up ur mob with a Halloween collection of nokia logo&pic message plus a FREE eerie tone, txt CARD SPOOK to 8007\n",
      "Hope you enjoyed your new content. text stop to 61610 to unsubscribe. help:08712400602450p Provided by tones2you.co.uk\n",
      "Camera - You are awarded a SiPix Digital Camera! call 09061221066 fromm landline. Delivery within 28 days.\n",
      "Twinks, bears, scallies, skins and jocks are calling now. Don't miss the weekend's fun. Call 08712466669 at 10p/min. 2 stop texts call 08712460324(nat rate)\n",
      "URGENT! We are trying to contact U. Todays draw shows that you have won a £800 prize GUARANTEED. Call 09050003091 from land line. Claim C52. Valid 12hrs only\n",
      "Today's Offer! Claim ur £150 worth of discount vouchers! Text YES to 85023 now! SavaMob, member offers mobile! T Cs 08717898035. £3.00 Sub. 16 . Unsub reply X\n",
      "Your B4U voucher w/c 27/03 is MARSMS. Log onto www.B4Utele.com for discount credit. To opt out reply stop. Customer care call 08717168528\n",
      "Free entry to the gr8prizes wkly comp 4 a chance to win the latest Nokia 8800, PSP or £250 cash every wk.TXT GREAT to 80878 http//www.gr8prizes.com 08715705022\n",
      "wamma get laid?want real doggin locations sent direct to your mobile? join the UKs largest dogging network. txt dogs to 69696 now!nyt. ec2a. 3lp £1.50/msg.\n",
      "Congrats! 2 mobile 3G Videophones R yours. call 09063458130 now! videochat wid your mates, play java games, Dload polyPH music, noline rentl.\n",
      "GSOH? Good with SPAM the ladies?U could b a male gigolo? 2 join the uk's fastest growing mens club reply ONCALL. mjzgroup. 08714342399.2stop reply STOP. msg@£1.50rcvd\n",
      "+123 Congratulations - in this week's competition draw u have won the £1450 prize to claim just call 09050002311 b4280703. T&Cs/stop SMS 08718727868. Over 18 only 150ppm\n",
      "Shop till u Drop, IS IT YOU, either 10K, 5K, £500 Cash or £100 Travel voucher, Call now, 09064011000. NTT PO Box CR01327BT fixedline Cost 150ppm mobile vary\n",
      "You have won a Nokia 7250i. This is what you get when you win our FREE auction. To take part send Nokia to 86021 now. HG/Suite342/2Lands Row/W1JHL 16+\n",
      "Double mins and txts 4 6months FREE Bluetooth on Orange. Available on Sony, Nokia Motorola phones. Call MobileUpd8 on 08000839402 or call2optout/N9DX\n",
      "XCLUSIVE@CLUBSAISAI 2MOROW 28/5 SOIREE SPECIALE ZOUK WITH NICHOLS FROM PARIS.FREE ROSES 2 ALL LADIES !!! info: 07946746291/07880867867 \n",
      "FREE2DAY sexy St George's Day pic of Jordan!Txt PIC to 89080 dont miss out, then every wk a saucy celeb!4 more pics c PocketBabe.co.uk 0870241182716 £3/wk\n",
      "Sunshine Hols. To claim ur med holiday send a stamped self address envelope to Drinks on Us UK, PO Box 113, Bray, Wicklow, Eire. Quiz Starts Saturday! Unsub Stop\n",
      "Want to funk up ur fone with a weekly new tone reply TONES2U 2 this text. www.ringtones.co.uk, the original n best. Tones 3GBP network operator rates apply\n",
      "<Forwarded from 21870000>Hi - this is your Mailbox Messaging SMS alert. You have 40 matches. Please call back on 09056242159 to retrieve your messages and matches cc100p/min\n",
      "HOT LIVE FANTASIES call now 08707509020 Just 20p per min NTT Ltd, PO Box 1327 Croydon CR9 5WB 0870 is a national rate call\n",
      "Urgent -call 09066649731from Landline. Your complimentary 4* Ibiza Holiday or £10,000 cash await collection SAE T&Cs PO BOX 434 SK3 8WP 150ppm 18+\n",
      "Thanks for your ringtone order, reference number X29. Your mobile will be charged 4.50. Should your tone not arrive please call customer services 09065989180\n",
      "08714712388 between 10am-7pm Cost 10p\n",
      "Congrats 2 mobile 3G Videophones R yours. call 09063458130 now! videochat wid ur mates, play java games, Dload polypH music, noline rentl. bx420. ip4. 5we. 150p\n",
      "Someone U know has asked our dating service 2 contact you! Cant Guess who? CALL 09058097189 NOW all will be revealed. POBox 6, LS15HB 150p \n",
      "important information 4 orange user . today is your lucky day!2find out why log onto http://www.urawinner.com THERE'S A FANTASTIC SURPRISE AWAITING YOU!\n",
      "Natalie (20/F) is inviting you to be her friend. Reply YES-165 or NO-165 See her: www.SMS.ac/u/natalie2k9 STOP? Send STOP FRND to 62468\n",
      "Eerie Nokia tones 4u, rply TONE TITLE to 8007 eg TONE DRACULA to 8007 Titles: GHOST, ADDAMSFA, MUNSTERS, EXORCIST, TWILIGHT www.getzed.co.uk POBox36504W45WQ 150p\n",
      "Sunshine Quiz Wkly Q! Win a top Sony DVD player if u know which country the Algarve is in? Txt ansr to 82277. £1.50 SP:Tyrone\n",
      "from www.Applausestore.com MonthlySubscription@50p/msg max6/month T&CsC web age16 2stop txt stop\n",
      "500 free text msgs. Just text ok to 80488 and we'll credit your account\n",
      "Double mins and txts 4 6months FREE Bluetooth on Orange. Available on Sony, Nokia Motorola phones. Call MobileUpd8 on 08000839402 or call2optout/N9DX\n",
      "You won't believe it but it's true. It's Incredible Txts! Reply G now to learn truly amazing things that will blow your mind. From O2FWD only 18p/txt\n",
      "Bored of speed dating? Try SPEEDCHAT, txt SPEEDCHAT to 80155, if you don't like em txt SWAP and get a new chatter! Chat80155 POBox36504W45WQ 150p/msg rcd 16\n",
      "Todays Voda numbers ending 1225 are selected to receive a £50award. If you have a match please call 08712300220 quoting claim code 3100 standard rates app \n",
      "Do you want a new Video handset? 750 any time any network mins? UNLIMITED TEXT? Camcorder? Reply or Call now 08000930705 for del Sat AM\n",
      "FreeMsg: Txt: CALL to No: 86888 & claim your reward of 3 hours talk time to use from your phone now! Subscribe6GBP/mnth inc 3hrs 16 stop?txtStop\n",
      "Ur cash-balance is currently 500 pounds - to maximize ur cash-in now send COLLECT to 83600 only 150p/msg. CC: 08718720201 PO BOX 114/14 TCR/W1\n",
      "Text & meet someone sexy today. U can find a date or even flirt its up to U. Join 4 just 10p. REPLY with NAME & AGE eg Sam 25. 18 -msg recd@thirtyeight pence\n",
      "URGENT! We are trying to contact you. Last weekends draw shows that you have won a £900 prize GUARANTEED. Call 09061701851. Claim code K61. Valid 12hours only\n",
      "For ur chance to win £250 cash every wk TXT: PLAY to 83370. T's&C's www.music-trivia.net custcare 08715705022, 1x150p/wk.\n",
      "Back 2 work 2morro half term over! Can U C me 2nite 4 some sexy passion B4 I have 2 go back? Chat NOW 09099726481 Luv DENA Calls £1/minMobsmoreLKPOBOX177HP51FL\n",
      "HOT LIVE FANTASIES call now 08707509020 Just 20p per min NTT Ltd, PO Box 1327 Croydon CR9 5WB 0870 is a national rate call\n",
      "100 dating service cal;l 09064012103 box334sk38ch\n",
      "FREE NOKIA Or Motorola with upto 12mths 1/2price linerental, 500 FREE x-net mins&100txt/mth FREE B'tooth*. Call Mobileupd8 on 08001950382 or call 2optout/D3WV\n",
      "HMV BONUS SPECIAL 500 pounds of genuine HMV vouchers to be won. Just answer 4 easy questions. Play Now! Send HMV to 86688 More info:www.100percent-real.com\n",
      "Congrats! Nokia 3650 video camera phone is your Call 09066382422 Calls cost 150ppm Ave call 3mins vary from mobiles 16+ Close 300603 post BCM4284 Ldn WC1N3XX\n",
      "Hey Boys. Want hot XXX pics sent direct 2 ur phone? Txt PORN to 69855, 24Hrs free and then just 50p per day. To stop text STOPBCM SF WC1N3XX\n",
      "RCT' THNQ Adrian for U text. Rgds Vatian\n",
      "PRIVATE! Your 2003 Account Statement for 07815296484 shows 800 un-redeemed S.I.M. points. Call 08718738001 Identifier Code 41782 Expires 18/11/04 \n",
      "Had your mobile 11mths ? Update for FREE to Oranges latest colour camera mobiles & unlimited weekend calls. Call Mobile Upd8 on freefone 08000839402 or 2StopTx\n",
      "As a registered optin subscriber ur draw 4 £100 gift voucher will be entered on receipt of a correct ans to 80062 Whats No1 in the BBC charts\n",
      "U have a secret admirer who is looking 2 make contact with U-find out who they R*reveal who thinks UR so special-call on 09058094599\n",
      "Bloomberg -Message center +447797706009 Why wait? Apply for your future http://careers. bloomberg.com\n",
      "Congratulations YOU'VE Won. You're a Winner in our August £1000 Prize Draw. Call 09066660100 NOW. Prize Code 2309.\n",
      "We currently have a message awaiting your collection. To collect your message just call 08718723815.\n",
      "XMAS Prize draws! We are trying to contact U. Todays draw shows that you have won a £2000 prize GUARANTEED. Call 09058094565 from land line. Valid 12hrs only\n",
      "Get ur 1st RINGTONE FREE NOW! Reply to this msg with TONE. Gr8 TOP 20 tones to your phone every week just £1.50 per wk 2 opt out send STOP 08452810071 16\n",
      "HOT LIVE FANTASIES call now 08707500020 Just 20p per min NTT Ltd, PO Box 1327 Croydon CR9 5WB 0870 is a national rate call\n",
      "If you don't, your prize will go to another customer. T&C at www.t-c.biz 18+ 150p/min Polo Ltd Suite 373 London W1J 6HL Please call back if busy\n",
      "URGENT! We are trying to contact U. Todays draw shows that you have won a £800 prize GUARANTEED. Call 09050001808 from land line. Claim M95. Valid12hrs only\n",
      "SIX chances to win CASH! From 100 to 20,000 pounds txt> CSH11 and send to 87575. Cost 150p/day, 6days, 16+ TsandCs apply Reply HL 4 info\n",
      "Ringtone Club: Gr8 new polys direct to your mobile every week !\n",
      "Welcome to UK-mobile-date this msg is FREE giving you free calling to 08719839835. Future mgs billed at 150p daily. To cancel send \"go stop\" to 89123\n",
      "Had your mobile 11 months or more? U R entitled to Update to the latest colour mobiles with camera for Free! Call The Mobile Update Co FREE on 08002986030\n",
      "Someonone you know is trying to contact you via our dating service! To find out who it could be call from your mobile or landline 09064015307 BOX334SK38ch \n",
      "You are a winner U have been specially selected 2 receive £1000 cash or a 4* holiday (flights inc) speak to a live operator 2 claim 0871277810810\n",
      "Want explicit SEX in 30 secs? Ring 02073162414 now! Costs 20p/min\n",
      "You are now unsubscribed all services. Get tons of sexy babes or hunks straight to your phone! go to http://gotbabes.co.uk. No subscriptions.\n",
      "FREE for 1st week! No1 Nokia tone 4 ur mob every week just txt NOKIA to 8007 Get txting and tell ur mates www.getzed.co.uk POBox 36504 W45WQ norm150p/tone 16+\n",
      "You have 1 new message. Please call 08712400200.\n",
      "Someone U know has asked our dating service 2 contact you! Cant Guess who? CALL 09058091854 NOW all will be revealed. PO BOX385 M6 6WU\n"
     ]
    }
   ],
   "source": [
    "for index, row in df[df['spam'] == 'spam'].sample(INSPECT_ROWS, random_state = RANDOM_STATE).iterrows():\n",
    "    print(row['message'])"
   ]
  },
  {
   "cell_type": "markdown",
   "id": "75a4e62c",
   "metadata": {},
   "source": [
    "Here, I'm noticing that spam messages contain way more phone numbers, email addresses, hyperlinks, addresses, and prices (such as £2,000). It may be important to preserve some of these characteristics, since they seem more indicative of spam messages. I am also seeing many instances of the word \"FREE\" in various forms, as well as words like \"CLAIM\", \"URGENT\", \"unsubscribe\", \"EXCLUSIVE\", \"CALL\", etc."
   ]
  },
  {
   "cell_type": "markdown",
   "id": "3ee99fa5",
   "metadata": {},
   "source": [
    "#### Analyzing capitalization between spam and ham messages"
   ]
  },
  {
   "cell_type": "code",
   "execution_count": 17,
   "id": "d3bb26a1",
   "metadata": {},
   "outputs": [],
   "source": [
    "def num_capitalized(message):\n",
    "    num_cap = 0\n",
    "    words = message.split(' ')\n",
    "    for word in words:\n",
    "        if word.isupper():\n",
    "            num_cap = num_cap + 1\n",
    "    return num_cap"
   ]
  },
  {
   "cell_type": "code",
   "execution_count": 18,
   "id": "30edb2d9",
   "metadata": {},
   "outputs": [],
   "source": [
    "ham_capitals = df[df['spam'] == 'ham'].apply(lambda row: num_capitalized(row['message']), axis=1)\n",
    "spam_capitals = df[df['spam'] == 'spam'].apply(lambda row: num_capitalized(row['message']), axis=1)"
   ]
  },
  {
   "cell_type": "code",
   "execution_count": 19,
   "id": "8e1aeaa7",
   "metadata": {},
   "outputs": [
    {
     "name": "stdout",
     "output_type": "stream",
     "text": [
      "Ham Capitals: \n",
      "Mean:  0.8230051813471503\n",
      "Standard deviation:  2.7469584576414547\n",
      "------------------------------------------\n",
      "Spam Capitals: \n",
      "Mean:  2.6238286479250337\n",
      "Standard deviation:  2.761594094683261\n"
     ]
    }
   ],
   "source": [
    "print('Ham Capitals: ')\n",
    "print('Mean: ', ham_capitals.mean())\n",
    "print('Standard deviation: ', ham_capitals.std())\n",
    "\n",
    "print('------------------------------------------')\n",
    "\n",
    "print('Spam Capitals: ')\n",
    "print('Mean: ', spam_capitals.mean())\n",
    "print('Standard deviation: ', spam_capitals.std())"
   ]
  },
  {
   "cell_type": "code",
   "execution_count": 20,
   "id": "e7e3737e",
   "metadata": {},
   "outputs": [
    {
     "data": {
      "image/png": "[encoded data removed]",
      "text/plain": [
       "<Figure size 432x288 with 1 Axes>"
      ]
     },
     "metadata": {
      "needs_background": "light"
     },
     "output_type": "display_data"
    }
   ],
   "source": [
    "plt.title('Capitalization of words')\n",
    "plt.boxplot(x = [ham_capitals, spam_capitals], labels = ['ham', 'spam'])\n",
    "plt.show()"
   ]
  },
  {
   "cell_type": "markdown",
   "id": "9a1f3912",
   "metadata": {},
   "source": [
    "From the above statistics and box plot, we can see that spam messages tend to have more capitalized words than ham messages. However, ham messages have far more outliers and can have over 35 capitalized words. Therefore, capitalization is not necessarily an indication of spam. Capitalization of certain words may still be indicative of spam, however, as we will explore below. We will use the word \"free\" and see how many times the word is capitalized in spam messages vs ham messages."
   ]
  },
  {
   "cell_type": "code",
   "execution_count": 21,
   "id": "ac1141c6",
   "metadata": {},
   "outputs": [],
   "source": [
    "# indicates the number of occurrences of 'FREE'\n",
    "free_dict = {'spam': 0, 'ham': 0}"
   ]
  },
  {
   "cell_type": "code",
   "execution_count": 22,
   "id": "ec55fd81",
   "metadata": {},
   "outputs": [],
   "source": [
    "for index, row in df.iterrows():\n",
    "    message = row['message']\n",
    "    label = row['spam']\n",
    "    words = message.split(' ')\n",
    "    for word in words:\n",
    "        if 'free' in word.lower():                              # we split on whitespace so 'free' could be part of longer string, lowercasing to consistently find substring\n",
    "            free_index = word.lower().index('free')             # getting position of 'free' substring for next step\n",
    "            free = word[free_index : free_index + len('free')]  # getting slice of original string to check case\n",
    "            if free.isupper():\n",
    "                free_dict[label] = free_dict[label] + 1"
   ]
  },
  {
   "cell_type": "code",
   "execution_count": 23,
   "id": "87377fe0",
   "metadata": {},
   "outputs": [
    {
     "name": "stdout",
     "output_type": "stream",
     "text": [
      "Number of messages containing the string 'FREE':\n"
     ]
    },
    {
     "data": {
      "text/plain": [
       "{'spam': 134, 'ham': 1}"
      ]
     },
     "execution_count": 23,
     "metadata": {},
     "output_type": "execute_result"
    }
   ],
   "source": [
    "print('Number of messages containing the string \\'FREE\\':')\n",
    "free_dict"
   ]
  },
  {
   "cell_type": "markdown",
   "id": "3e7edec6",
   "metadata": {},
   "source": [
    "For our example of the word 'free', this corpus has 135 instances of the word in all caps. 134/135 (~99.3%) are from spam messages. While we do not want to have to hard code these types of rules, they may provide useful features in our dataset. As a result, I am leaning towards maintaining capitalization in the dataset by creating seperate tokens for capitalized words (instead of lowercasing everything first). \n",
    "\n",
    "It is worth noting that there was a ham message with a capitalized 'free'. Our goal is to prevent any ham messages from being flagged as spam (false positive). If our model uses the token for capital 'FREE' as a strong indicator of , it may misclassify that message as spam. "
   ]
  },
  {
   "cell_type": "markdown",
   "id": "9f5d946e",
   "metadata": {},
   "source": [
    "#### Analyzing punctuation between spam and ham messages"
   ]
  },
  {
   "cell_type": "markdown",
   "id": "70185885",
   "metadata": {},
   "source": [
    "We will be looking for the following punctuation marks:"
   ]
  },
  {
   "cell_type": "code",
   "execution_count": 24,
   "id": "29fa20cc",
   "metadata": {},
   "outputs": [
    {
     "data": {
      "text/plain": [
       "'!\"#$%&\\'()*+,-./:;<=>?@[\\\\]^_`{|}~'"
      ]
     },
     "execution_count": 24,
     "metadata": {},
     "output_type": "execute_result"
    }
   ],
   "source": [
    "string.punctuation"
   ]
  },
  {
   "cell_type": "code",
   "execution_count": 25,
   "id": "3eba3acc",
   "metadata": {},
   "outputs": [],
   "source": [
    "punct_dict = {'spam': 0, 'ham': 0}"
   ]
  },
  {
   "cell_type": "code",
   "execution_count": 26,
   "id": "100714c3",
   "metadata": {},
   "outputs": [],
   "source": [
    "for index, row in df.iterrows():\n",
    "    message = row['message']\n",
    "    label = row['spam']\n",
    "    for char in message:\n",
    "        if char in string.punctuation:\n",
    "            punct_dict[label] = punct_dict[label] + 1"
   ]
  },
  {
   "cell_type": "code",
   "execution_count": 27,
   "id": "ec9a8ded",
   "metadata": {},
   "outputs": [
    {
     "name": "stdout",
     "output_type": "stream",
     "text": [
      "Total number of punctuation marks for each class:\n"
     ]
    },
    {
     "data": {
      "text/plain": [
       "{'spam': 4267, 'ham': 19010}"
      ]
     },
     "execution_count": 27,
     "metadata": {},
     "output_type": "execute_result"
    }
   ],
   "source": [
    "print('Total number of punctuation marks for each class:')\n",
    "punct_dict"
   ]
  },
  {
   "cell_type": "markdown",
   "id": "2a065a59",
   "metadata": {},
   "source": [
    "Ham messages have more instances of punctuation but there's also way more ham messages than spam messages. Let's normalize these values by dividing by the total number of messages in each category in order to get the rate of punctuation per message."
   ]
  },
  {
   "cell_type": "code",
   "execution_count": 28,
   "id": "a3d4f539",
   "metadata": {},
   "outputs": [],
   "source": [
    "for key, value in punct_dict.items():\n",
    "    punct_dict[key] = value / len(df[df['spam'] == key])"
   ]
  },
  {
   "cell_type": "code",
   "execution_count": 29,
   "id": "555a886f",
   "metadata": {},
   "outputs": [
    {
     "name": "stdout",
     "output_type": "stream",
     "text": [
      "Average number of punctuation marks per message:\n"
     ]
    },
    {
     "data": {
      "text/plain": [
       "{'spam': 5.712182061579652, 'ham': 3.9398963730569947}"
      ]
     },
     "execution_count": 29,
     "metadata": {},
     "output_type": "execute_result"
    }
   ],
   "source": [
    "print('Average number of punctuation marks per message:')\n",
    "punct_dict"
   ]
  },
  {
   "cell_type": "markdown",
   "id": "a491da76",
   "metadata": {},
   "source": [
    "Now we can see that spam messages actually tend to have a higher number of punctuation marks than ham messages (spam messages had on average 5.7 punctuation marks per message, as opposed to 3.9 punctuation marks per message for ham messages). This is most likely due to the abundance of phone numbers, email addresses, and URL's in the spam messages. However, the presence of punctuation is not a great indicator of whether or not a message is spam because ham messages can also have lots of punctuation. We will now look into more advanced structures, such as email addresses and URL's. "
   ]
  },
  {
   "cell_type": "markdown",
   "id": "9d6bc4e8",
   "metadata": {},
   "source": [
    "#### Analyze email address presence in messages"
   ]
  },
  {
   "cell_type": "markdown",
   "id": "14c0b2b4",
   "metadata": {},
   "source": [
    "We will define an email address to be some combination of characters, then an '@' symbol, and then a domain name, which must start with a letter (to avoid messages like: \"something@£1.50/month\") and include a single period before the top level domain (like \".com\" or \".com.uk\"). This will convert into the following regex:\n",
    "\n",
    "```\n",
    "\\S+@[a-zA-Z]\\S+\\.{1}\\S+\n",
    "```"
   ]
  },
  {
   "cell_type": "code",
   "execution_count": 30,
   "id": "09be0eda",
   "metadata": {},
   "outputs": [],
   "source": [
    "email_dict = {'spam': 0, 'ham': 0}"
   ]
  },
  {
   "cell_type": "code",
   "execution_count": 31,
   "id": "fdda9b05",
   "metadata": {},
   "outputs": [],
   "source": [
    "email_regex = '\\S+@[a-zA-Z]\\S+\\.{1}\\S+'"
   ]
  },
  {
   "cell_type": "code",
   "execution_count": 32,
   "id": "fb119f89",
   "metadata": {},
   "outputs": [
    {
     "name": "stdout",
     "output_type": "stream",
     "text": [
      "['yijue@hotmail.com']\n",
      "['info@ringtoneking.co.uk']\n",
      "['tddnewsletter@emc1.co.uk']\n",
      "['info@txt82228.co.uk']\n",
      "['Dorothy@kiefer.com']\n",
      "['msg+ticket@kiosk.Valid']\n",
      "['customersqueries@netvision.uk.com']\n"
     ]
    }
   ],
   "source": [
    "for index, row in df.iterrows():\n",
    "    message = row['message']\n",
    "    label = row['spam']\n",
    "    emails = re.findall(email_regex, message)\n",
    "    if not len(emails) == 0:\n",
    "        print(emails)\n",
    "        email_dict[label] = email_dict[label] + 1"
   ]
  },
  {
   "cell_type": "code",
   "execution_count": 33,
   "id": "449b0e04",
   "metadata": {},
   "outputs": [
    {
     "name": "stdout",
     "output_type": "stream",
     "text": [
      "Number of messages containing an email address:\n"
     ]
    },
    {
     "data": {
      "text/plain": [
       "{'spam': 6, 'ham': 1}"
      ]
     },
     "execution_count": 33,
     "metadata": {},
     "output_type": "execute_result"
    }
   ],
   "source": [
    "print('Number of messages containing an email address:')\n",
    "email_dict"
   ]
  },
  {
   "cell_type": "markdown",
   "id": "96126cb4",
   "metadata": {},
   "source": [
    "We can see here that there were actually very few email addresses in the corpus but the majority of them belonged to spam messages. While the presence of an email address does indicate that the message may be spam, there are too few instances of email addresses to make this a feature in the dataset.  "
   ]
  },
  {
   "cell_type": "markdown",
   "id": "fd767d9d",
   "metadata": {},
   "source": [
    "#### Analyze URL presence in messages"
   ]
  },
  {
   "cell_type": "markdown",
   "id": "c00671cd",
   "metadata": {},
   "source": [
    "We will define a URL as a string that may or may not begin with https:// or http://, may or may not contain www., then some domain name. The domain name must contain one of the following: 'net', 'com', 'edu', 'co', 'gov', 'xyz', 'info', 'top'. We will define the syntax of a URL with the following regex:\n",
    "\n",
    "```\n",
    "(?:http:\\/\\/|https:\\/\\/)?(?:www\\.)?\\S+\\.{1}(?:net|com|edu|co|gov|xyz|info|top){1}\\.?\\S+\n",
    "```"
   ]
  },
  {
   "cell_type": "code",
   "execution_count": 34,
   "id": "b46750b1",
   "metadata": {},
   "outputs": [],
   "source": [
    "url_dict = {'spam': 0, 'ham': 0}"
   ]
  },
  {
   "cell_type": "code",
   "execution_count": 35,
   "id": "c4bc8275",
   "metadata": {},
   "outputs": [],
   "source": [
    "url_regex = '(?:http:\\/\\/|https:\\/\\/)?(?:www\\.)?\\S+\\.{1}(?:net|com|edu|co|gov|xyz|info|top){1}\\.?\\S+'"
   ]
  },
  {
   "cell_type": "code",
   "execution_count": 36,
   "id": "25815569",
   "metadata": {},
   "outputs": [
    {
     "name": "stdout",
     "output_type": "stream",
     "text": [
      "['xxxmobilemovieclub.com?n=QJKGIGHJJGCBL']\n",
      "['yijue@hotmail.com']\n",
      "['www.areyouunique.co.uk']\n",
      "['www.Ldew.com1win150ppmx3age16']\n",
      "['club4mobiles.com']\n",
      "['info:www.100percent-real.com']\n",
      "['sextextuk.com']\n",
      "['www.Ldew.com1win150ppmx3age16']\n",
      "['www.regalportfolio.co.uk.']\n",
      "['fullonsms.com']\n",
      "['www.txttowin.co.uk']\n",
      "['www.07781482378.com']\n",
      "['http://www.bubbletext.com']\n",
      "['www.Applausestore.com']\n",
      "['www.txt-2-shop.com']\n",
      "['gaytextbuddy.com.']\n",
      "['http://www.e-tlp.co.uk/expressoffer']\n",
      "['wikipedia.com']\n",
      "['www.cnupdates.com/newsletter.']\n",
      "['www.getzed.co.uk']\n",
      "['www.Ldew.com1win150ppmx3age16']\n",
      "['www.comuk.net']\n",
      "['http://www.e-tlp.co.uk/expressoffer']\n",
      "['magicalsongs.blogspot.com']\n",
      "['www.getzed.co.uk']\n",
      "['process.networking']\n",
      "['http://www.urawinner.com']\n",
      "['www.txt43.com']\n",
      "['1stchoice.co.uk']\n",
      "['fullonsms.com']\n",
      "['lucozade.co.uk/wrc']\n",
      "['PocketBabe.co.uk']\n",
      "['www.Ldew.com.subs16+1win150ppmx3']\n",
      "['www.phb1.com']\n",
      "['www.textcomp.com']\n",
      "['jamster.co.uk!']\n",
      "['www.ringtones.co.uk,']\n",
      "['PocketBabe.co.uk']\n",
      "['icicibank.com']\n",
      "['icicibank.com']\n",
      "['www.Ldew.com']\n",
      "['www.orange.co.uk/ow']\n",
      "['info@ringtoneking.co.uk', 'www.ringtoneking.co.uk!']\n",
      "['www.getzed.co.uk']\n",
      "['mobsi.com']\n",
      "['o2.co.uk/games']\n",
      "['www.win-82050.co.uk']\n",
      "['info:www.100percent-real.com']\n",
      "['gaytextbuddy.com.']\n",
      "['tones2you.co.uk']\n",
      "['www.ldew.com']\n",
      "['www.getzed.co.uk']\n",
      "['Txt250.com']\n",
      "['www.comuk.net']\n",
      "['PocketBabe.co.uk']\n",
      "['www.Idew.com']\n",
      "['www.B4Utele.com']\n",
      "['Si.como']\n",
      "['www.textcomp.com']\n",
      "['www.Ldew.com.subs16+1win150ppmx3']\n",
      "['tddnewsletter@emc1.co.uk']\n",
      "['www.fullonsms.com', 'fullonsms.com']\n",
      "['www.comuk.net']\n",
      "['Indyarocks.com']\n",
      "['www.txttowin.co.uk']\n",
      "['www.txt82228.com.', 'info@txt82228.co.uk']\n",
      "['www.tkls.com']\n",
      "['www.getzed.co.uk']\n",
      "['www.getzed.co.uk']\n",
      "['tones2you.co.uk']\n",
      "[':getzed.co.uk']\n",
      "['http://gotbabes.co.uk.']\n",
      "['visionsms.com']\n",
      "['staff.science.nus.edu.sg/~phyhcmk/teaching/pc1323']\n",
      "['http://www.e-tlp.co.uk/reward.']\n",
      "['www.07781482378.com']\n",
      "['www.bridal.petticoatdreams.co.uk']\n",
      "['bloomberg.com']\n",
      "['Dorothy@kiefer.com']\n",
      "['ok..come']\n",
      "['www.rtf.sphosting.com']\n",
      "['my-tone.com/enjoy.']\n",
      "['bloomberg.com']\n",
      "['www.getzed.co.uk']\n",
      "['www.ringtones.co.uk,']\n",
      "['fullonsms.com']\n",
      "['widelive.com/index.']\n",
      "['fullonsms.com']\n",
      "['http://alto18.co.uk/wave/wave.asp?o=44345']\n",
      "['NoWorriesLoans.com']\n",
      "['http://www.wtlp.co.uk/text.']\n",
      "['www.getzed.co.uk']\n",
      "['www.ringtones.co.uk,']\n",
      "['http://www.urawinner.com']\n",
      "['www.Idew.com']\n",
      "['http://www.urawinner.com']\n",
      "['http://www.urawinner.com']\n",
      "['info:www.100percent-real.com']\n",
      "['thesmszone.com']\n",
      "['http://www.urawinner.com']\n",
      "['www.clubzed.co.uk']\n",
      "['www.comuk.net']\n",
      "['www.txt-2-shop.com']\n",
      "['www.clubmoby.com']\n",
      "['visionsms.com']\n",
      "['www.win-82050.co.uk']\n",
      "['o2.co.uk/games']\n",
      "['Cashbin.co.uk', 'www.cashbin.co.uk']\n",
      "['www.fullonsms.com', 'fullonsms.com']\n",
      "['www.santacalling.com']\n",
      "['sms.shsex.netUN']\n",
      "['lucozade.co.uk/wrc']\n",
      "['experiencehttp://www.vouch4me.com/etlp/dining.asp']\n",
      "['www.ldew.com1win150ppmx3age16']\n",
      "['id.convey']\n",
      "['customersqueries@netvision.uk.com']\n",
      "['www.ringtones.co.uk,']\n",
      "['www.getzed.co.uk']\n",
      "['notxt.co.uk']\n",
      "['www.telediscount.co.uk']\n",
      "['www.Ldew.com1win150ppmx3age16subscription']\n",
      "['http//www.gr8prizes.com']\n",
      "['widelive.com/index.']\n",
      "['notxt.co.uk']\n",
      "['PlanetTalkInstant.com']\n",
      "['www.comuk.net']\n"
     ]
    }
   ],
   "source": [
    "for index, row in df.iterrows():\n",
    "    message = row['message']\n",
    "    label = row['spam']\n",
    "    urls = re.findall(url_regex, message)\n",
    "    if not len(urls) == 0:\n",
    "        print(urls)\n",
    "        url_dict[label] = url_dict[label] + 1"
   ]
  },
  {
   "cell_type": "code",
   "execution_count": 37,
   "id": "8a3a282e",
   "metadata": {},
   "outputs": [
    {
     "name": "stdout",
     "output_type": "stream",
     "text": [
      "Number of messages containing a URL:\n"
     ]
    },
    {
     "data": {
      "text/plain": [
       "{'spam': 109, 'ham': 17}"
      ]
     },
     "execution_count": 37,
     "metadata": {},
     "output_type": "execute_result"
    }
   ],
   "source": [
    "print('Number of messages containing a URL:')\n",
    "url_dict"
   ]
  },
  {
   "cell_type": "markdown",
   "id": "5b40b270",
   "metadata": {},
   "source": [
    "There does appear to be a strong correlation between URL presence and spam, especially since there are far more ham messages than spam. However, there are only a total of 126 messages with a URL. We do not want to add a feature that really only applies to a small fraction of the total dataset. "
   ]
  },
  {
   "cell_type": "markdown",
   "id": "1c8a9c73",
   "metadata": {},
   "source": [
    "#### Analyze stop words in messages"
   ]
  },
  {
   "cell_type": "markdown",
   "id": "e33e66ec",
   "metadata": {},
   "source": [
    "A stop word is a word like \"the\", \"an\", \"him\", etc that do not add a lot of meaning to the text. We will look at home frequently stop words are used in spam vs ham messages to evaluate if removing those words will lose any valuable information."
   ]
  },
  {
   "cell_type": "code",
   "execution_count": 38,
   "id": "679ea58a",
   "metadata": {},
   "outputs": [],
   "source": [
    "stop_dict = {'spam': 0, 'ham': 0}"
   ]
  },
  {
   "cell_type": "code",
   "execution_count": 39,
   "id": "fb8196d5",
   "metadata": {},
   "outputs": [
    {
     "name": "stderr",
     "output_type": "stream",
     "text": [
      "[nltk_data] Downloading package stopwords to\n",
      "[nltk_data]     /home/ec2-user/nltk_data...\n",
      "[nltk_data]   Package stopwords is already up-to-date!\n"
     ]
    },
    {
     "data": {
      "text/plain": [
       "True"
      ]
     },
     "execution_count": 39,
     "metadata": {},
     "output_type": "execute_result"
    }
   ],
   "source": [
    "nltk.download('stopwords')"
   ]
  },
  {
   "cell_type": "code",
   "execution_count": 40,
   "id": "90011385",
   "metadata": {},
   "outputs": [],
   "source": [
    "stop_words = set(stopwords.words('english'))"
   ]
  },
  {
   "cell_type": "code",
   "execution_count": 41,
   "id": "7f992132",
   "metadata": {},
   "outputs": [
    {
     "data": {
      "text/plain": [
       "{'a',\n",
       " 'about',\n",
       " 'above',\n",
       " 'after',\n",
       " 'again',\n",
       " 'against',\n",
       " 'ain',\n",
       " 'all',\n",
       " 'am',\n",
       " 'an',\n",
       " 'and',\n",
       " 'any',\n",
       " 'are',\n",
       " 'aren',\n",
       " \"aren't\",\n",
       " 'as',\n",
       " 'at',\n",
       " 'be',\n",
       " 'because',\n",
       " 'been',\n",
       " 'before',\n",
       " 'being',\n",
       " 'below',\n",
       " 'between',\n",
       " 'both',\n",
       " 'but',\n",
       " 'by',\n",
       " 'can',\n",
       " 'couldn',\n",
       " \"couldn't\",\n",
       " 'd',\n",
       " 'did',\n",
       " 'didn',\n",
       " \"didn't\",\n",
       " 'do',\n",
       " 'does',\n",
       " 'doesn',\n",
       " \"doesn't\",\n",
       " 'doing',\n",
       " 'don',\n",
       " \"don't\",\n",
       " 'down',\n",
       " 'during',\n",
       " 'each',\n",
       " 'few',\n",
       " 'for',\n",
       " 'from',\n",
       " 'further',\n",
       " 'had',\n",
       " 'hadn',\n",
       " \"hadn't\",\n",
       " 'has',\n",
       " 'hasn',\n",
       " \"hasn't\",\n",
       " 'have',\n",
       " 'haven',\n",
       " \"haven't\",\n",
       " 'having',\n",
       " 'he',\n",
       " 'her',\n",
       " 'here',\n",
       " 'hers',\n",
       " 'herself',\n",
       " 'him',\n",
       " 'himself',\n",
       " 'his',\n",
       " 'how',\n",
       " 'i',\n",
       " 'if',\n",
       " 'in',\n",
       " 'into',\n",
       " 'is',\n",
       " 'isn',\n",
       " \"isn't\",\n",
       " 'it',\n",
       " \"it's\",\n",
       " 'its',\n",
       " 'itself',\n",
       " 'just',\n",
       " 'll',\n",
       " 'm',\n",
       " 'ma',\n",
       " 'me',\n",
       " 'mightn',\n",
       " \"mightn't\",\n",
       " 'more',\n",
       " 'most',\n",
       " 'mustn',\n",
       " \"mustn't\",\n",
       " 'my',\n",
       " 'myself',\n",
       " 'needn',\n",
       " \"needn't\",\n",
       " 'no',\n",
       " 'nor',\n",
       " 'not',\n",
       " 'now',\n",
       " 'o',\n",
       " 'of',\n",
       " 'off',\n",
       " 'on',\n",
       " 'once',\n",
       " 'only',\n",
       " 'or',\n",
       " 'other',\n",
       " 'our',\n",
       " 'ours',\n",
       " 'ourselves',\n",
       " 'out',\n",
       " 'over',\n",
       " 'own',\n",
       " 're',\n",
       " 's',\n",
       " 'same',\n",
       " 'shan',\n",
       " \"shan't\",\n",
       " 'she',\n",
       " \"she's\",\n",
       " 'should',\n",
       " \"should've\",\n",
       " 'shouldn',\n",
       " \"shouldn't\",\n",
       " 'so',\n",
       " 'some',\n",
       " 'such',\n",
       " 't',\n",
       " 'than',\n",
       " 'that',\n",
       " \"that'll\",\n",
       " 'the',\n",
       " 'their',\n",
       " 'theirs',\n",
       " 'them',\n",
       " 'themselves',\n",
       " 'then',\n",
       " 'there',\n",
       " 'these',\n",
       " 'they',\n",
       " 'this',\n",
       " 'those',\n",
       " 'through',\n",
       " 'to',\n",
       " 'too',\n",
       " 'under',\n",
       " 'until',\n",
       " 'up',\n",
       " 've',\n",
       " 'very',\n",
       " 'was',\n",
       " 'wasn',\n",
       " \"wasn't\",\n",
       " 'we',\n",
       " 'were',\n",
       " 'weren',\n",
       " \"weren't\",\n",
       " 'what',\n",
       " 'when',\n",
       " 'where',\n",
       " 'which',\n",
       " 'while',\n",
       " 'who',\n",
       " 'whom',\n",
       " 'why',\n",
       " 'will',\n",
       " 'with',\n",
       " 'won',\n",
       " \"won't\",\n",
       " 'wouldn',\n",
       " \"wouldn't\",\n",
       " 'y',\n",
       " 'you',\n",
       " \"you'd\",\n",
       " \"you'll\",\n",
       " \"you're\",\n",
       " \"you've\",\n",
       " 'your',\n",
       " 'yours',\n",
       " 'yourself',\n",
       " 'yourselves'}"
      ]
     },
     "execution_count": 41,
     "metadata": {},
     "output_type": "execute_result"
    }
   ],
   "source": [
    "stop_words"
   ]
  },
  {
   "cell_type": "code",
   "execution_count": 42,
   "id": "15a0b369",
   "metadata": {},
   "outputs": [],
   "source": [
    "for index, row in df.iterrows():\n",
    "    message = row['message']\n",
    "    label = row['spam']\n",
    "    words = message.split(' ')\n",
    "    for word in words:\n",
    "        word = word.lower()        # stopwords lists are generally lowercase\n",
    "        if word in stop_words:\n",
    "            stop_dict[label] = stop_dict[label] + 1"
   ]
  },
  {
   "cell_type": "code",
   "execution_count": 43,
   "id": "b84e6d39",
   "metadata": {},
   "outputs": [],
   "source": [
    "for key, value in stop_dict.items():\n",
    "    stop_dict[key] = value / len(df[df['spam'] == key])"
   ]
  },
  {
   "cell_type": "code",
   "execution_count": 44,
   "id": "3e618fda",
   "metadata": {},
   "outputs": [
    {
     "name": "stdout",
     "output_type": "stream",
     "text": [
      "Number of stop words used per message:\n"
     ]
    },
    {
     "data": {
      "text/plain": [
       "{'spam': 6.420348058902276, 'ham': 5.529326424870466}"
      ]
     },
     "execution_count": 44,
     "metadata": {},
     "output_type": "execute_result"
    }
   ],
   "source": [
    "print('Number of stop words used per message:')\n",
    "stop_dict"
   ]
  },
  {
   "cell_type": "markdown",
   "id": "ae39caf9",
   "metadata": {},
   "source": [
    "While spam messages tend to use a slightly higher number of stop words, these values are close enough that removing stop words from all the messages should not lose any valuable information. It will reduce the number of features in our dataset."
   ]
  },
  {
   "cell_type": "markdown",
   "id": "14d65ec3",
   "metadata": {},
   "source": [
    "#### Analyze length of messages"
   ]
  },
  {
   "cell_type": "code",
   "execution_count": 45,
   "id": "7d574d74",
   "metadata": {},
   "outputs": [],
   "source": [
    "ham_msgs = df[df['spam'] == 'ham']\n",
    "spam_msgs = df[df['spam'] == 'spam']\n",
    "\n",
    "# we will split the message on white spaces to get a list of words and then take the length of that list to get the number of words in the message\n",
    "ham_word_lengths = ham_msgs.apply(lambda row: len(row['message'].split(' ')), axis=1)\n",
    "spam_word_lengths = spam_msgs.apply(lambda row: len(row['message'].split(' ')), axis=1)\n",
    "\n",
    "# we get length of raw message string to get number of characters in message\n",
    "ham_char_lengths = ham_msgs.apply(lambda row: len(row['message']), axis=1)\n",
    "spam_char_lengths = spam_msgs.apply(lambda row: len(row['message']), axis=1)"
   ]
  },
  {
   "cell_type": "code",
   "execution_count": 46,
   "id": "03ad42c3",
   "metadata": {},
   "outputs": [
    {
     "data": {
      "image/png": "[encoded data removed]",
      "text/plain": [
       "<Figure size 432x288 with 1 Axes>"
      ]
     },
     "metadata": {
      "needs_background": "light"
     },
     "output_type": "display_data"
    }
   ],
   "source": [
    "plt.title('Number of words in message')\n",
    "plt.boxplot(x = [ham_word_lengths, spam_word_lengths], labels = ['ham', 'spam'])\n",
    "plt.show()"
   ]
  },
  {
   "cell_type": "code",
   "execution_count": 47,
   "id": "eeaf25e9",
   "metadata": {},
   "outputs": [
    {
     "data": {
      "image/png": "[encoded data removed]",
      "text/plain": [
       "<Figure size 432x288 with 1 Axes>"
      ]
     },
     "metadata": {
      "needs_background": "light"
     },
     "output_type": "display_data"
    }
   ],
   "source": [
    "plt.title('Number of characters in message')\n",
    "plt.boxplot(x = [ham_char_lengths, spam_char_lengths], labels = ['ham', 'spam'])\n",
    "plt.show()"
   ]
  },
  {
   "cell_type": "markdown",
   "id": "d4339b0d",
   "metadata": {},
   "source": [
    "For both words and characters, spam messages tend to have more. However, there are a very large number of outliers for ham messages that have more characters/words. It appears that no spam message exceeds 30 words or 200 characters, whereas many ham messages due. However, it may be difficult to incorporate this information because there is a lot of overlap between the two classes in terms of message length. We could automatically say that if a message has more than 30 words or 200 characters, it is ham, which would be accurate for our corpus but may not generalize to all SMS messages."
   ]
  },
  {
   "cell_type": "markdown",
   "id": "1e980ced",
   "metadata": {},
   "source": [
    "## Data preprocessing"
   ]
  },
  {
   "cell_type": "markdown",
   "id": "9bec2828",
   "metadata": {},
   "source": [
    "From the conclusions drawn from the above data exploration, we will tokenize the messages, removing punctuation, and remove capitalization (with the exception of words that are completely capitalized like \"FREE\" or \"URGENT\", but we don't want \"Free\" and \"free\" to be separate tokens). We will also be removing stop words and words with length of one. We also need to convert the target variable, 'spam' into a 0/1."
   ]
  },
  {
   "cell_type": "code",
   "execution_count": 48,
   "id": "41ba4f4e",
   "metadata": {},
   "outputs": [],
   "source": [
    "# removes punctuation, removes stop words, and lowercases the word unless that word is completely capitalized\n",
    "def pre_tokenize_processing(message):\n",
    "    # remove punctuation\n",
    "    translator = str.maketrans(string.punctuation, ' '*len(string.punctuation))\n",
    "    message = message.translate(translator)\n",
    "    \n",
    "    # remove stopwords and words of length one\n",
    "    words = message.split(' ')\n",
    "    filtered_words = []\n",
    "    for word in words:\n",
    "        if not word in stop_words and len(word) > 1:\n",
    "            filtered_words.append(word)\n",
    "    \n",
    "    # lowercase word unless word is completely capitalized\n",
    "    \n",
    "    new_words = []\n",
    "    for word in filtered_words:\n",
    "        if not word.isupper():     # only fails if word is completely capitalized\n",
    "            word = word.lower()\n",
    "        new_words.append(word)\n",
    "    new_msg = ' '.join(word for word in new_words) # reconstruct message from list of new words\n",
    "    return new_msg"
   ]
  },
  {
   "cell_type": "code",
   "execution_count": 49,
   "id": "0d6bc1ac",
   "metadata": {},
   "outputs": [],
   "source": [
    "# preprocess message before tokenizing\n",
    "df['message'] = df.apply(lambda row: pre_tokenize_processing(row['message']), axis=1)"
   ]
  },
  {
   "cell_type": "code",
   "execution_count": 50,
   "id": "92601062",
   "metadata": {},
   "outputs": [],
   "source": [
    "# map target variable into numeric values\n",
    "spam_map = {'ham': 0, 'spam': 1}\n",
    "df['spam'] = df['spam'].map(spam_map)"
   ]
  },
  {
   "cell_type": "code",
   "execution_count": 51,
   "id": "2c3dbb0a",
   "metadata": {},
   "outputs": [
    {
     "data": {
      "text/html": [
       "<div>\n",
       "<style scoped>\n",
       "    .dataframe tbody tr th:only-of-type {\n",
       "        vertical-align: middle;\n",
       "    }\n",
       "\n",
       "    .dataframe tbody tr th {\n",
       "        vertical-align: top;\n",
       "    }\n",
       "\n",
       "    .dataframe thead th {\n",
       "        text-align: right;\n",
       "    }\n",
       "</style>\n",
       "<table border=\"1\" class=\"dataframe\">\n",
       "  <thead>\n",
       "    <tr style=\"text-align: right;\">\n",
       "      <th></th>\n",
       "      <th>spam</th>\n",
       "      <th>message</th>\n",
       "    </tr>\n",
       "  </thead>\n",
       "  <tbody>\n",
       "    <tr>\n",
       "      <th>0</th>\n",
       "      <td>0</td>\n",
       "      <td>go jurong point crazy available bugis great wo...</td>\n",
       "    </tr>\n",
       "    <tr>\n",
       "      <th>1</th>\n",
       "      <td>0</td>\n",
       "      <td>ok lar joking wif oni</td>\n",
       "    </tr>\n",
       "    <tr>\n",
       "      <th>2</th>\n",
       "      <td>1</td>\n",
       "      <td>free entry wkly comp win FA cup final tkts 21s...</td>\n",
       "    </tr>\n",
       "    <tr>\n",
       "      <th>3</th>\n",
       "      <td>0</td>\n",
       "      <td>dun say early hor already say</td>\n",
       "    </tr>\n",
       "    <tr>\n",
       "      <th>4</th>\n",
       "      <td>0</td>\n",
       "      <td>nah think goes usf lives around though</td>\n",
       "    </tr>\n",
       "    <tr>\n",
       "      <th>...</th>\n",
       "      <td>...</td>\n",
       "      <td>...</td>\n",
       "    </tr>\n",
       "    <tr>\n",
       "      <th>5567</th>\n",
       "      <td>1</td>\n",
       "      <td>this 2nd time tried contact £750 pound prize c...</td>\n",
       "    </tr>\n",
       "    <tr>\n",
       "      <th>5568</th>\n",
       "      <td>0</td>\n",
       "      <td>will going esplanade fr home</td>\n",
       "    </tr>\n",
       "    <tr>\n",
       "      <th>5569</th>\n",
       "      <td>0</td>\n",
       "      <td>pity mood so suggestions</td>\n",
       "    </tr>\n",
       "    <tr>\n",
       "      <th>5570</th>\n",
       "      <td>0</td>\n",
       "      <td>the guy bitching acted like interested buying ...</td>\n",
       "    </tr>\n",
       "    <tr>\n",
       "      <th>5571</th>\n",
       "      <td>0</td>\n",
       "      <td>rofl its true name</td>\n",
       "    </tr>\n",
       "  </tbody>\n",
       "</table>\n",
       "<p>5572 rows × 2 columns</p>\n",
       "</div>"
      ],
      "text/plain": [
       "      spam                                            message\n",
       "0        0  go jurong point crazy available bugis great wo...\n",
       "1        0                              ok lar joking wif oni\n",
       "2        1  free entry wkly comp win FA cup final tkts 21s...\n",
       "3        0                      dun say early hor already say\n",
       "4        0             nah think goes usf lives around though\n",
       "...    ...                                                ...\n",
       "5567     1  this 2nd time tried contact £750 pound prize c...\n",
       "5568     0                       will going esplanade fr home\n",
       "5569     0                           pity mood so suggestions\n",
       "5570     0  the guy bitching acted like interested buying ...\n",
       "5571     0                                 rofl its true name\n",
       "\n",
       "[5572 rows x 2 columns]"
      ]
     },
     "execution_count": 51,
     "metadata": {},
     "output_type": "execute_result"
    }
   ],
   "source": [
    "df"
   ]
  },
  {
   "cell_type": "markdown",
   "id": "f7a3faf8",
   "metadata": {},
   "source": [
    "### Split data into train and test sets"
   ]
  },
  {
   "cell_type": "code",
   "execution_count": 52,
   "id": "a92c931a",
   "metadata": {},
   "outputs": [],
   "source": [
    "X = df['message']\n",
    "y = df['spam']"
   ]
  },
  {
   "cell_type": "code",
   "execution_count": 53,
   "id": "a5fd0d96",
   "metadata": {},
   "outputs": [],
   "source": [
    "X_train, X_test, y_train, y_test = train_test_split(X, y, random_state = RANDOM_STATE, test_size = TEST_RATIO)"
   ]
  },
  {
   "cell_type": "code",
   "execution_count": 54,
   "id": "f0baa269",
   "metadata": {},
   "outputs": [
    {
     "name": "stdout",
     "output_type": "stream",
     "text": [
      "Number of rows in training dataset (these should match)\n",
      "X_train:  3343\n",
      "y_train:  3343\n"
     ]
    }
   ],
   "source": [
    "print('Number of rows in training dataset (these should match)')\n",
    "print('X_train: ', X_train.shape[0])\n",
    "print('y_train: ', y_train.shape[0])"
   ]
  },
  {
   "cell_type": "code",
   "execution_count": 55,
   "id": "5a4e768c",
   "metadata": {},
   "outputs": [
    {
     "name": "stdout",
     "output_type": "stream",
     "text": [
      "Number of rows in test dataset (these should match)\n",
      "X_test:  2229\n",
      "y_test:  2229\n"
     ]
    }
   ],
   "source": [
    "print('Number of rows in test dataset (these should match)')\n",
    "print('X_test: ', X_test.shape[0])\n",
    "print('y_test: ', y_test.shape[0])"
   ]
  },
  {
   "cell_type": "markdown",
   "id": "e6b9ec13",
   "metadata": {},
   "source": [
    "### Tokenizing "
   ]
  },
  {
   "cell_type": "markdown",
   "id": "234736bb",
   "metadata": {},
   "source": [
    "min_df specifies the minimum document frequency of a word to become a token. We chose 0.0005, which means that words need to appear in at least 3 of the messages in order to become a token. max_df specifies the maximum document frequency of a word to become a token. However, since we already removed stop words, this is unlikely to have effect. We will be only generating unigrams so we are specifying the ngram_range = (1,1)."
   ]
  },
  {
   "cell_type": "code",
   "execution_count": 56,
   "id": "c27d1c24",
   "metadata": {},
   "outputs": [],
   "source": [
    "count_vect = CountVectorizer(lowercase=False, strip_accents='ascii', ngram_range=(1,1), max_df=0.9, min_df=0.0005)\n",
    "X_train = count_vect.fit_transform(X_train)\n",
    "X_test = count_vect.transform(X_test)       # we only call transform because we do not want to fit on the test data"
   ]
  },
  {
   "cell_type": "code",
   "execution_count": 57,
   "id": "a1a3c051",
   "metadata": {},
   "outputs": [
    {
     "data": {
      "text/plain": [
       "(3343, 3088)"
      ]
     },
     "execution_count": 57,
     "metadata": {},
     "output_type": "execute_result"
    }
   ],
   "source": [
    "X_train.shape"
   ]
  },
  {
   "cell_type": "markdown",
   "id": "9e2e28d2",
   "metadata": {},
   "source": [
    "The test set should have the same number of features because it will use the vocabulary that was created using the training set. "
   ]
  },
  {
   "cell_type": "code",
   "execution_count": 58,
   "id": "8a9c163a",
   "metadata": {},
   "outputs": [
    {
     "data": {
      "text/plain": [
       "(2229, 3088)"
      ]
     },
     "execution_count": 58,
     "metadata": {},
     "output_type": "execute_result"
    }
   ],
   "source": [
    "X_test.shape"
   ]
  },
  {
   "cell_type": "markdown",
   "id": "1fdf039c",
   "metadata": {},
   "source": [
    "### Converting to TF-IDF"
   ]
  },
  {
   "cell_type": "code",
   "execution_count": 59,
   "id": "2b63e979",
   "metadata": {},
   "outputs": [],
   "source": [
    "tfidf_trfmr = TfidfTransformer()\n",
    "X_train = tfidf_trfmr.fit_transform(X_train)\n",
    "X_test = tfidf_trfmr.transform(X_test)       # we only call transform because we do not want to fit on the test data"
   ]
  },
  {
   "cell_type": "code",
   "execution_count": 60,
   "id": "a7fcda6e",
   "metadata": {},
   "outputs": [
    {
     "data": {
      "text/plain": [
       "(3343, 3088)"
      ]
     },
     "execution_count": 60,
     "metadata": {},
     "output_type": "execute_result"
    }
   ],
   "source": [
    "X_train.shape"
   ]
  },
  {
   "cell_type": "markdown",
   "id": "5ebf79a4",
   "metadata": {},
   "source": [
    "Again, we should see the same number of columns here. The TF-IDF operation should not change the shape of the data."
   ]
  },
  {
   "cell_type": "code",
   "execution_count": 61,
   "id": "74359313",
   "metadata": {},
   "outputs": [
    {
     "data": {
      "text/plain": [
       "(2229, 3088)"
      ]
     },
     "execution_count": 61,
     "metadata": {},
     "output_type": "execute_result"
    }
   ],
   "source": [
    "X_test.shape"
   ]
  },
  {
   "cell_type": "markdown",
   "id": "39d6d307",
   "metadata": {},
   "source": [
    "This data is stored in a scipy sparse array, which is more space efficient since most of the values are zeroes. If stored in a traditional dataframe, this new dataset would take ~62 MB to store. While this is fairly modest, we may run into RAM limitations with larger datasets."
   ]
  },
  {
   "cell_type": "markdown",
   "id": "78f6b167",
   "metadata": {},
   "source": [
    "## Setting up model evaluation"
   ]
  },
  {
   "cell_type": "markdown",
   "id": "0c490fec",
   "metadata": {},
   "source": [
    "**Note on evaluation metric:**\n",
    "\n",
    "With SMS Spam detection, even a single legitimate message being blocked is unacceptable. As a result, we need to make sure we have perfect (or near perfect) precision. Obviously, we want our recall to be as high as possible but we want to put more weight on precision. As a result, we will be using an Fbeta measure with a beta value of <1 to give more weight to precision. "
   ]
  },
  {
   "cell_type": "code",
   "execution_count": 62,
   "id": "5a56f531",
   "metadata": {},
   "outputs": [],
   "source": [
    "def get_fpr(y_actual, y_hat):\n",
    "    # convert to numpy arrays so they can be indexed (y_test is a Pandas Series)\n",
    "    y_actual = np.asarray(y_actual)\n",
    "    y_hat = np.asarray(y_hat)\n",
    "    \n",
    "    fp = 0\n",
    "    tn = 0\n",
    "\n",
    "    if not len(y_hat) == len(y_actual):\n",
    "        raise\n",
    "    \n",
    "    for i in range(len(y_hat)): \n",
    "        if y_hat[i]==1 and y_actual[i]!=y_hat[i]:\n",
    "           fp += 1\n",
    "        if y_actual[i]==y_hat[i]==0:\n",
    "           tn += 1\n",
    "        \n",
    "    fpr = fp/(fp+tn)\n",
    "    return fpr"
   ]
  },
  {
   "cell_type": "code",
   "execution_count": 63,
   "id": "5d604cd6",
   "metadata": {},
   "outputs": [],
   "source": [
    "def get_tpr(y_actual, y_hat):\n",
    "    # convert to numpy arrays so they can be indexed (y_test is a Pandas Series)\n",
    "    y_actual = np.asarray(y_actual)\n",
    "    y_hat = np.asarray(y_hat)\n",
    "    \n",
    "    tp = 0\n",
    "    fn = 0\n",
    "\n",
    "    if not len(y_hat) == len(y_actual):\n",
    "        raise\n",
    "    \n",
    "    for i in range(len(y_hat)): \n",
    "        if y_actual[i]==y_hat[i]==1:\n",
    "           tp += 1\n",
    "        if y_hat[i]==0 and y_actual[i]!=y_hat[i]:\n",
    "           fn += 1\n",
    "\n",
    "    tpr = tp/(tp+fn)\n",
    "    return tpr"
   ]
  },
  {
   "cell_type": "code",
   "execution_count": 64,
   "id": "ce983ac4",
   "metadata": {},
   "outputs": [],
   "source": [
    "def evaluate(predictions):\n",
    "    if not len(predictions) == len(y_test):\n",
    "        raise\n",
    "    \n",
    "    keys = list(spam_map.keys())\n",
    "    \n",
    "    # print classification report\n",
    "    print(metrics.classification_report(y_test, predictions,\n",
    "        target_names=keys, zero_division=1))\n",
    "\n",
    "    # display confusion matrix\n",
    "    cm = confusion_matrix(y_test, predictions)\n",
    "    ax = plt.subplot()\n",
    "    sns.heatmap(cm, annot=True, fmt='g', ax=ax);  #annot=True to annotate cells, ftm='g' to disable scientific notation\n",
    "    # labels, title and ticks\n",
    "    ax.set_xlabel('Predicted labels');ax.set_ylabel('True labels'); \n",
    "    ax.set_title('Confusion Matrix'); \n",
    "    ax.xaxis.set_ticklabels(keys); ax.yaxis.set_ticklabels(keys);\n",
    "    plt.show()\n",
    "    \n",
    "    # print false positive and false negative rates\n",
    "    fpr = get_fpr(y_test, predictions)\n",
    "    tpr = get_tpr(y_test, predictions)\n",
    "    print('Blocked ham (false positive rate): {}%'.format(fpr))\n",
    "    print('Meets false positive threshold? ', ('yes' if fpr<MAX_FPR else 'no'))\n",
    "    print('Spam caught (true positive rate): {}%'.format(tpr))\n",
    "    \n",
    "    # print F1Beta score\n",
    "    score = fbeta_score(y_test, predictions, beta=F1_BETA)\n",
    "    print('F1 Beta Score: ', score)"
   ]
  },
  {
   "cell_type": "code",
   "execution_count": 65,
   "id": "bf794746",
   "metadata": {},
   "outputs": [],
   "source": [
    "# use F1 beta score as scoring metric for grid search and cross validation methods\n",
    "fbeta_scorer = make_scorer(fbeta_score, beta=F1_BETA)"
   ]
  },
  {
   "cell_type": "code",
   "execution_count": 66,
   "id": "f54e8002",
   "metadata": {},
   "outputs": [],
   "source": [
    "fpr_scorer = make_scorer(get_fpr, greater_is_better=False)\n",
    "tpr_scorer = make_scorer(get_tpr, greater_is_better=True)"
   ]
  },
  {
   "cell_type": "markdown",
   "id": "23f06af9",
   "metadata": {},
   "source": [
    "## Creating a baseline model"
   ]
  },
  {
   "cell_type": "markdown",
   "id": "f71e9484",
   "metadata": {},
   "source": [
    "#### Baseline 1: Trivial Rejector"
   ]
  },
  {
   "cell_type": "markdown",
   "id": "5f7df9be",
   "metadata": {},
   "source": [
    "The literature uses a Trivial Rejector as an initial baseline. This baseline model labels every message as ham. We will implement this to see how well it does on our data set. "
   ]
  },
  {
   "cell_type": "code",
   "execution_count": 64,
   "id": "4522022b",
   "metadata": {},
   "outputs": [],
   "source": [
    "def tr_predict(data):\n",
    "    return np.zeros(data.shape[0])"
   ]
  },
  {
   "cell_type": "code",
   "execution_count": 65,
   "id": "cd60a2b1",
   "metadata": {},
   "outputs": [],
   "source": [
    "tr_predictions = tr_predict(X_test)"
   ]
  },
  {
   "cell_type": "code",
   "execution_count": 66,
   "id": "70f47208",
   "metadata": {},
   "outputs": [
    {
     "data": {
      "text/plain": [
       "0.8600269179004038"
      ]
     },
     "execution_count": 66,
     "metadata": {},
     "output_type": "execute_result"
    }
   ],
   "source": [
    "np.mean(tr_predictions == y_test)"
   ]
  },
  {
   "cell_type": "code",
   "execution_count": 67,
   "id": "4229cab9",
   "metadata": {},
   "outputs": [
    {
     "name": "stdout",
     "output_type": "stream",
     "text": [
      "              precision    recall  f1-score   support\n",
      "\n",
      "         ham       0.86      1.00      0.92      1917\n",
      "        spam       1.00      0.00      0.00       312\n",
      "\n",
      "    accuracy                           0.86      2229\n",
      "   macro avg       0.93      0.50      0.46      2229\n",
      "weighted avg       0.88      0.86      0.80      2229\n",
      "\n"
     ]
    },
    {
     "data": {
      "image/png": "[encoded data removed]",
      "text/plain": [
       "<Figure size 432x288 with 2 Axes>"
      ]
     },
     "metadata": {
      "needs_background": "light"
     },
     "output_type": "display_data"
    },
    {
     "name": "stdout",
     "output_type": "stream",
     "text": [
      "Blocked ham (false positive rate): 0.0%\n",
      "Meets false positive threshold?  yes\n",
      "Spam caught (true positive rate): 0.0%\n",
      "F1 Beta Score:  0.0\n"
     ]
    }
   ],
   "source": [
    "evaluate(tr_predictions)"
   ]
  },
  {
   "cell_type": "markdown",
   "id": "41a9fba9",
   "metadata": {},
   "source": [
    "Using our Trivial Rejector, we obtain an accuracy of 0.86. We obtain a false positive rate of 0, but this is only because we are labeling every message as ham. We are getting a true positive rate of 0.0, which means we are not finding any spam messages. "
   ]
  },
  {
   "cell_type": "markdown",
   "id": "b7abc266",
   "metadata": {},
   "source": [
    "#### Baseline 2: Multinomial Naive Bayes"
   ]
  },
  {
   "cell_type": "markdown",
   "id": "2de29ff0",
   "metadata": {},
   "source": [
    "Naive Bayes is a popular algorithm for text classification problems. The literature also suggests that this algorithm works reasonably well on this dataset. The default scikit-learn Multinomial Naive Bayes algorithm will serve as a solid baseline for our future experiments."
   ]
  },
  {
   "cell_type": "code",
   "execution_count": 68,
   "id": "c186cf94",
   "metadata": {},
   "outputs": [
    {
     "data": {
      "text/plain": [
       "MultinomialNB()"
      ]
     },
     "execution_count": 68,
     "metadata": {},
     "output_type": "execute_result"
    }
   ],
   "source": [
    "nb_clf = MultinomialNB()\n",
    "nb_clf.fit(X_train, y_train)"
   ]
  },
  {
   "cell_type": "code",
   "execution_count": 69,
   "id": "80e1b054",
   "metadata": {},
   "outputs": [
    {
     "name": "stdout",
     "output_type": "stream",
     "text": [
      "              precision    recall  f1-score   support\n",
      "\n",
      "         ham       0.97      1.00      0.98      1917\n",
      "        spam       1.00      0.79      0.88       312\n",
      "\n",
      "    accuracy                           0.97      2229\n",
      "   macro avg       0.98      0.90      0.93      2229\n",
      "weighted avg       0.97      0.97      0.97      2229\n",
      "\n"
     ]
    },
    {
     "data": {
      "image/png": "[encoded data removed]",
      "text/plain": [
       "<Figure size 432x288 with 2 Axes>"
      ]
     },
     "metadata": {
      "needs_background": "light"
     },
     "output_type": "display_data"
    },
    {
     "name": "stdout",
     "output_type": "stream",
     "text": [
      "Blocked ham (false positive rate): 0.0%\n",
      "Meets false positive threshold?  yes\n",
      "Spam caught (true positive rate): 0.7916666666666666%\n",
      "F1 Beta Score:  0.9720829535095716\n"
     ]
    }
   ],
   "source": [
    "nb_predictions = nb_clf.predict(X_test)\n",
    "evaluate(nb_predictions)"
   ]
  },
  {
   "cell_type": "markdown",
   "id": "0a01a8cb",
   "metadata": {},
   "source": [
    "Using the default scikit-learn Multinomial Naive Bayes algorithm, we are actually able to achieve some pretty good results. We have a false positive rate of 0, which means we are not classifying any legitimate messages as spam. We are catching about 79% of the spam messages that come through. This will serve as a more realistic baseline model."
   ]
  },
  {
   "cell_type": "markdown",
   "id": "8a74e23b",
   "metadata": {},
   "source": [
    "### Putting the above steps into a pipeline"
   ]
  },
  {
   "cell_type": "markdown",
   "id": "afc53531",
   "metadata": {},
   "source": [
    "In order to make the process more repeatable, we will create a Pipeline containing our tokenizer, our TF-IDF transformer, and our algorithm. We repeat the split so we get a new train and test set that has not been processed. We should get the exact same results:"
   ]
  },
  {
   "cell_type": "code",
   "execution_count": 70,
   "id": "7b127c4a",
   "metadata": {},
   "outputs": [],
   "source": [
    "X_train, X_test, y_train, y_test = train_test_split(X, y, random_state = RANDOM_STATE, test_size = TEST_RATIO)"
   ]
  },
  {
   "cell_type": "code",
   "execution_count": 71,
   "id": "bfccd95d",
   "metadata": {},
   "outputs": [
    {
     "name": "stdout",
     "output_type": "stream",
     "text": [
      "              precision    recall  f1-score   support\n",
      "\n",
      "         ham       0.97      1.00      0.98      1917\n",
      "        spam       1.00      0.79      0.88       312\n",
      "\n",
      "    accuracy                           0.97      2229\n",
      "   macro avg       0.98      0.90      0.93      2229\n",
      "weighted avg       0.97      0.97      0.97      2229\n",
      "\n"
     ]
    },
    {
     "data": {
      "image/png": "[encoded data removed]",
      "text/plain": [
       "<Figure size 432x288 with 2 Axes>"
      ]
     },
     "metadata": {
      "needs_background": "light"
     },
     "output_type": "display_data"
    },
    {
     "name": "stdout",
     "output_type": "stream",
     "text": [
      "Blocked ham (false positive rate): 0.0%\n",
      "Meets false positive threshold?  yes\n",
      "Spam caught (true positive rate): 0.7916666666666666%\n",
      "F1 Beta Score:  0.9720829535095716\n"
     ]
    }
   ],
   "source": [
    "spam_pipeline = Pipeline([('vect', CountVectorizer(lowercase=False, strip_accents='ascii', ngram_range=(1,1), max_df=0.9, min_df=0.0005)),\n",
    "                          ('tfidf', TfidfTransformer()),\n",
    "                          ('nb', MultinomialNB()),])\n",
    "\n",
    "spam_pipeline.fit(X_train, y_train)\n",
    "preds = spam_pipeline.predict(X_test)\n",
    "evaluate(preds)"
   ]
  },
  {
   "cell_type": "markdown",
   "id": "59c001d8",
   "metadata": {},
   "source": [
    "As predicted, we get the same results. Pipelining our solution will help optimize hyperparameters as well as easily swap various components. "
   ]
  },
  {
   "cell_type": "markdown",
   "id": "bc14afac",
   "metadata": {},
   "source": [
    "## Naive Bayes"
   ]
  },
  {
   "cell_type": "markdown",
   "id": "a409bfce",
   "metadata": {},
   "source": [
    "Our Naive Bayes classifier performed quite well using the default sklearn parameters. Let's see if we find a set of hyperparameters that can do even better. We will also include the possibility of bigrams, by allowing our CountVectorizer to include unigrams and bigrams. We will be leaving the rest of the hyperparameters as the same values as before, since they were specifically chosen based on our data preprocessing steps."
   ]
  },
  {
   "cell_type": "code",
   "execution_count": 72,
   "id": "a6537c4e",
   "metadata": {},
   "outputs": [],
   "source": [
    "X_train, X_test, y_train, y_test = train_test_split(X, y, random_state = RANDOM_STATE, test_size = TEST_RATIO)"
   ]
  },
  {
   "cell_type": "code",
   "execution_count": 73,
   "id": "bb685cb2",
   "metadata": {},
   "outputs": [
    {
     "name": "stdout",
     "output_type": "stream",
     "text": [
      "              precision    recall  f1-score   support\n",
      "\n",
      "         ham       0.98      1.00      0.99      1917\n",
      "        spam       1.00      0.86      0.92       312\n",
      "\n",
      "    accuracy                           0.98      2229\n",
      "   macro avg       0.99      0.93      0.96      2229\n",
      "weighted avg       0.98      0.98      0.98      2229\n",
      "\n"
     ]
    },
    {
     "data": {
      "image/png": "[encoded data removed]",
      "text/plain": [
       "<Figure size 432x288 with 2 Axes>"
      ]
     },
     "metadata": {
      "needs_background": "light"
     },
     "output_type": "display_data"
    },
    {
     "name": "stdout",
     "output_type": "stream",
     "text": [
      "Blocked ham (false positive rate): 0.0%\n",
      "Meets false positive threshold?  yes\n",
      "Spam caught (true positive rate): 0.8589743589743589%\n",
      "F1 Beta Score:  0.9823982757494613\n",
      "{'nb__alpha': 0.25, 'vect__ngram_range': (1, 2)}\n"
     ]
    }
   ],
   "source": [
    "spam_pipeline = Pipeline([('vect', CountVectorizer(lowercase=False, strip_accents='ascii', max_df=0.9, min_df=0.0005)),\n",
    "                          ('tfidf', TfidfTransformer()),\n",
    "                          ('nb', MultinomialNB()),])\n",
    "\n",
    "# will try 12 different combinations\n",
    "parameters = {\n",
    "    'vect__ngram_range': [(1, 1), (1, 2)],\n",
    "    'nb__alpha': [0.01, 0.1, 0.25, 0.5, 1, 2]\n",
    "}\n",
    "\n",
    "gs_nb = GridSearchCV(spam_pipeline, parameters, scoring=fbeta_scorer, cv=CV_FOLDS, n_jobs=-1)\n",
    "\n",
    "gs_nb.fit(X_train, y_train)\n",
    "preds = gs_nb.predict(X_test)\n",
    "evaluate(preds)\n",
    "\n",
    "print(gs_nb.best_params_)"
   ]
  },
  {
   "cell_type": "markdown",
   "id": "aeb9868d",
   "metadata": {},
   "source": [
    "Optimizing the hyperparameters allowed us to boost our F1 Beta score slightly (from 0.972 to 0.982). We also caught more spam (85.9% as opposed to 79.2%). More importantly, we still did not mark any ham as spam, so our model was a definite improvement over the default Naive Bayes."
   ]
  },
  {
   "cell_type": "markdown",
   "id": "7c6ea99f",
   "metadata": {},
   "source": [
    "This model appears to meet our KPI's for the project (on the hold-out set), staying below the maximum false positive threshold while also exceeding an 83% true positive rate. We will verify our results using cross-validation:"
   ]
  },
  {
   "cell_type": "code",
   "execution_count": 74,
   "id": "c93b2175",
   "metadata": {},
   "outputs": [
    {
     "data": {
      "text/plain": [
       "Pipeline(steps=[('vect',\n",
       "                 CountVectorizer(lowercase=False, max_df=0.9, min_df=0.0005,\n",
       "                                 ngram_range=(1, 2), strip_accents='ascii')),\n",
       "                ('tfidf', TfidfTransformer()),\n",
       "                ('nb', MultinomialNB(alpha=0.25))])"
      ]
     },
     "execution_count": 74,
     "metadata": {},
     "output_type": "execute_result"
    }
   ],
   "source": [
    "# recreate pipeline with optimal hyperparameters\n",
    "spam_pipeline = Pipeline([('vect', CountVectorizer(lowercase=False, strip_accents='ascii', max_df=0.9, min_df=0.0005)),\n",
    "                          ('tfidf', TfidfTransformer()),\n",
    "                          ('nb', MultinomialNB()),])\n",
    "\n",
    "spam_pipeline.set_params(**gs_nb.best_params_)"
   ]
  },
  {
   "cell_type": "code",
   "execution_count": 75,
   "id": "fb332f7e",
   "metadata": {},
   "outputs": [],
   "source": [
    "cv_metrics = {\n",
    "    'fpr': fpr_scorer,\n",
    "    'tpr': tpr_scorer,\n",
    "    'fbeta': fbeta_scorer\n",
    "}\n",
    "\n",
    "cv_results = cross_validate(spam_pipeline, X, y, scoring=cv_metrics, cv=CV_FOLDS, n_jobs=-1)"
   ]
  },
  {
   "cell_type": "code",
   "execution_count": 76,
   "id": "ba0621c0",
   "metadata": {},
   "outputs": [
    {
     "data": {
      "text/plain": [
       "{'fit_time': array([0.29864764, 0.30625296, 0.24461913, 0.19000053, 0.13716936]),\n",
       " 'score_time': array([0.03026938, 0.05725026, 0.04789352, 0.03951502, 0.02896523]),\n",
       " 'test_fpr': array([-0.00103627, -0.00207254, -0.        , -0.        , -0.00207254]),\n",
       " 'test_tpr': array([0.92666667, 0.90666667, 0.85234899, 0.88590604, 0.89932886]),\n",
       " 'test_fbeta': array([0.98517758, 0.97624301, 0.9814461 , 0.98614   , 0.97512196])}"
      ]
     },
     "execution_count": 76,
     "metadata": {},
     "output_type": "execute_result"
    }
   ],
   "source": [
    "cv_results"
   ]
  },
  {
   "cell_type": "code",
   "execution_count": 77,
   "id": "75729df6",
   "metadata": {},
   "outputs": [
    {
     "data": {
      "text/plain": [
       "0.9808257299428771"
      ]
     },
     "execution_count": 77,
     "metadata": {},
     "output_type": "execute_result"
    }
   ],
   "source": [
    "# Average F1 Beta score\n",
    "np.mean(cv_results['test_fbeta'])"
   ]
  },
  {
   "cell_type": "code",
   "execution_count": 78,
   "id": "c4872992",
   "metadata": {},
   "outputs": [
    {
     "data": {
      "text/plain": [
       "0.0010362694300518134"
      ]
     },
     "execution_count": 78,
     "metadata": {},
     "output_type": "execute_result"
    }
   ],
   "source": [
    "# Average False Positive Rate - note that metrics being minimized (great_is_better=False) are negated\n",
    "np.mean(cv_results['test_fpr']) * -1"
   ]
  },
  {
   "cell_type": "code",
   "execution_count": 79,
   "id": "06871d38",
   "metadata": {},
   "outputs": [
    {
     "data": {
      "text/plain": [
       "0.8941834451901567"
      ]
     },
     "execution_count": 79,
     "metadata": {},
     "output_type": "execute_result"
    }
   ],
   "source": [
    "# Average True Positive Rate\n",
    "np.mean(cv_results['test_tpr'])"
   ]
  },
  {
   "cell_type": "markdown",
   "id": "03043879",
   "metadata": {},
   "source": [
    "From these results, we are seeing a false positive rate of 0.001, which means that approximately 1 in 1,000 legitimate messages would be flagged as spam. \n",
    "\n",
    "While this doesn't meet our threshold, these results are promising. In addition, we are catching 89.4% of spam, which is more than 10% better than our baseline naive bayes model and more than 6% better than the best baseline model in the literature. "
   ]
  },
  {
   "cell_type": "markdown",
   "id": "94dd9e88",
   "metadata": {},
   "source": [
    "We didn't get any false positives with our original holdout set but we got some during cross validation. Let's see if we can print some of the **erors** by using a different holdout set (using RANDOM_STATE+1):"
   ]
  },
  {
   "cell_type": "code",
   "execution_count": 80,
   "id": "4cd3c908",
   "metadata": {},
   "outputs": [],
   "source": [
    "X_train, X_test, y_train, y_test = train_test_split(X, y, random_state = RANDOM_STATE+1, test_size = TEST_RATIO)"
   ]
  },
  {
   "cell_type": "code",
   "execution_count": 81,
   "id": "be613b24",
   "metadata": {},
   "outputs": [
    {
     "data": {
      "text/plain": [
       "Pipeline(steps=[('vect',\n",
       "                 CountVectorizer(lowercase=False, max_df=0.9, min_df=0.0005,\n",
       "                                 ngram_range=(1, 2), strip_accents='ascii')),\n",
       "                ('tfidf', TfidfTransformer()),\n",
       "                ('nb', MultinomialNB(alpha=0.25))])"
      ]
     },
     "execution_count": 81,
     "metadata": {},
     "output_type": "execute_result"
    }
   ],
   "source": [
    "# recreate pipeline with optimal hyperparameters\n",
    "spam_pipeline = Pipeline([('vect', CountVectorizer(lowercase=False, strip_accents='ascii', max_df=0.9, min_df=0.0005)),\n",
    "                          ('tfidf', TfidfTransformer()),\n",
    "                          ('nb', MultinomialNB()),])\n",
    "\n",
    "spam_pipeline.set_params(**gs_nb.best_params_)\n",
    "spam_pipeline.fit(X_train, y_train)"
   ]
  },
  {
   "cell_type": "code",
   "execution_count": 82,
   "id": "40929285",
   "metadata": {},
   "outputs": [],
   "source": [
    "X_test_arr = np.asarray(X_test)\n",
    "y_test_arr = np.asarray(y_test)\n",
    "\n",
    "false_positives = []\n",
    "false_negatives = []\n",
    "\n",
    "for i in range(len(X_test_arr)):\n",
    "    item = np.asarray([X_test_arr[i]])\n",
    "    pred = spam_pipeline.predict(item)[0]\n",
    "    actual = y_test_arr[i]\n",
    "    \n",
    "    # only look at incorrect predictions\n",
    "    if not pred == actual:\n",
    "        # false positives\n",
    "        if pred == 1 and actual == 0:\n",
    "            false_positives.append(X_test_arr[i])\n",
    "        \n",
    "        # false negatives\n",
    "        elif pred == 0 and actual == 1:\n",
    "            false_negatives.append(X_test_arr[i])"
   ]
  },
  {
   "cell_type": "code",
   "execution_count": 83,
   "id": "12d9c185",
   "metadata": {},
   "outputs": [
    {
     "name": "stdout",
     "output_type": "stream",
     "text": [
      "Number of false positives:  3\n",
      "False positives: \n",
      "['received understood acted upon', 'nokia phone lovly', 'deleted contact']\n"
     ]
    }
   ],
   "source": [
    "print('Number of false positives: ', len(false_positives))\n",
    "print('False positives: ')\n",
    "print(false_positives)"
   ]
  },
  {
   "cell_type": "code",
   "execution_count": 84,
   "id": "ad610fdf",
   "metadata": {
    "scrolled": true
   },
   "outputs": [
    {
     "name": "stdout",
     "output_type": "stream",
     "text": [
      "Number of false negatives:  40\n",
      "False negatives: \n",
      "['dear voucher holder claim 1st class airport lounge passes using your holiday voucher call 08704439680 when booking quote 1st class', 'reply name address YOU WILL RECEIVE BY POST weeks completely free accommodation various global locations www phb1 com ph 08700435505150p', '88066 FROM 88066 LOST 3POUND HELP', 'want cock my hubby away need real man satisfy txt WIFE 89938 strings action txt STOP end txt rec £1 50ea otbox 731 LA1 7WS', 'am new club dont fink met yet will gr8 please leave msg 2day wiv ur area 09099726553 reply promised CARLIE calls£1 minmobsmore LKPOBOX177HP51FL', 'thesmszone com lets send free anonymous masked messages im sending message see potential abuse', 'hi babe jordan im home abroad lonely text back wanna chat xxsp visionsms com text stop stopcost 150p 08712400603', 'sexy sexy cum text im wet warm ready porn fun THIS MSG IS FREE RECD MSGS 150P INC VAT CANCEL TEXT STOP', 'email alertfrom jeri stewartsize 2kbsubject low cost prescripiton drvgsto listen email call 123', 'hi sue 20 years old work lapdancer love sex text live bedroom text SUE 89555 by textoperator G2 1DA 150ppmsg 18', 'forwarded 448712404000 please CALL 08712404000 immediately urgent message waiting', 'guess somebody know secretly fancies wanna find give us call 09065394973 landline datebox1282essexcm61xn 150p min 18', 'check out choose your babe videos sms shsex netun fgkslpopw fgkslpo', 'santa calling would little ones like call santa xmas eve call 09077818151 book time calls1 50ppm last 3mins 30s www santacalling com', 'missed call alert these numbers called left message 07008009200', 'hi ur lookin saucy daytime fun wiv busty married woman am free next week chat sort time 09099726429 janinexx calls£1 minmobsmorelkpobox177hp51fl', 'goal arsenal henry liverpool henry scores simple shot yards pass bergkamp give arsenal goal margin 78 mins', 'will meet ur dream partner soon is ur career flyng start find free txt HORO followed ur star sign HORO ARIES', 'dear voucher holder have next meal us use following link pc enjoy dining experiencehttp www vouch4me com etlp dining asp', 'freemsg feelin kinda lnly hope like keep company jst got cam moby wanna pic txt reply DATE 82242 msg150p 2rcv hlp 08712317606 stop 82242', 'do realize 40 years thousands old ladies running around tattoos', 'more people dogging area call 09090204448 join like minded guys why arrange there evening A£1 50 minapn LS278BB', 'SMS ac sun0819 posts HELLO you seem cool wanted say hi HI stop send STOP 62468', 'can get phone NOW wanna chat set meet call NOW 09096102316 cum 2moro luv JANE xx calls£1 minmoremobsemspobox45po139wa', 'TBS PERSOLVO chasing us since sept for£38 definitely paying thanks information we ignore kath manchester', 'auction round the highest bid £54 next maximum bid £71 to bid send BIDS 10 bid £10 83383 good luck', 'did hear new divorce barbie it comes ken stuff', 'block breaker comes deluxe format new features great graphics mobile buy £5 replying GET BBDELUXE take challenge', 'santa calling would little ones like call santa xmas eve call 09058094583 book time', 'freemsg hey buffy 25 love satisfy men home alone feeling randy reply PIX qlynnbv help08700621170150p msg send stop stop txts', 'burger king wanna play footy top stadium get burger king 1st sept go large super coca cola walk winner', 'not heard U4 call night knickers make beg like last time 01223585236 XX luv nikiyu4 net', 'guess somebody know secretly fancies wanna find give us call 09065394514 from landline datebox1282essexcm61xn 150p min 18', 'download many ringtones like restrictions 1000s choose even send yr buddys txt sir 80082 £3', 'you believe true it incredible txts reply learn truly amazing things blow mind from O2FWD 18p txt', 'would like see XXX pics hot nearly banned uk', 'sorry unsubscribe yet THE MOB offer package min term 54 weeks pls resubmit request expiry reply THEMOB HELP info', 'CLAIRE havin borin time alone wanna cum 2nite chat 09099725823 hope luv CLAIRE xx calls£1 minmoremobsemspobox45po139wa', '146tf150p', 'monthly password wap mobsi com 391784 use wap phone PC']\n"
     ]
    }
   ],
   "source": [
    "print('Number of false negatives: ', len(false_negatives))\n",
    "print('False negatives: ')\n",
    "print(false_negatives)"
   ]
  },
  {
   "cell_type": "markdown",
   "id": "02b0159d",
   "metadata": {},
   "source": [
    "Upon visual inspection of our errors, the spam messages that were labeled ham do not appear any different than the majority of spam messages we encountered earlier. There are quite a few phone numbers, which is common for spam messages, so that may be an interesting feature down the road (although it is difficult to identify phone numbers in these messages due to formatting differences). \n",
    "\n",
    "Interestingly, the false positive messages were fairly short. I suspect the model had trouble classifying these messages because there was so little information that can be generated from them. We are currently using unigrams and bigrams so it may be possible that adding trigrams as well could provide slightly more information for these shorter messages (although the trigrams are almost certainly going to be unique for such a small corpus). The words used in these messages are actually common in spam messages, particularily 'phone', 'lovely'/'lovly', 'deleted', 'received' so it is easy to understand why the model got them wrong. "
   ]
  },
  {
   "cell_type": "markdown",
   "id": "e7f4d104",
   "metadata": {},
   "source": [
    "**Moving forward:**\n",
    "\n",
    "One thing we could do is decrease the beta score in the fbeta score metric during our hyperparameter optimization. This will cause Grid Search to more heavily weight precision, thus reducing the number of false positives. We may come back to Naive Bayes later but for now, we will explore how another popular algorithm for text classification, Support Vector Machine, performs on our dataset."
   ]
  },
  {
   "cell_type": "markdown",
   "id": "05d98a0f",
   "metadata": {},
   "source": [
    "## Support Vector Machines"
   ]
  },
  {
   "cell_type": "markdown",
   "id": "14ee9f8d",
   "metadata": {},
   "source": [
    "Much like with multinomial Naive Bayes, we will begin by training and evaluating a model using the default parameters. Then, we will optimize the hyperparameters using our F1 beta score and validating those results using cross-validation."
   ]
  },
  {
   "cell_type": "code",
   "execution_count": 85,
   "id": "23176e65",
   "metadata": {},
   "outputs": [],
   "source": [
    "X_train, X_test, y_train, y_test = train_test_split(X, y, random_state = RANDOM_STATE, test_size = TEST_RATIO)"
   ]
  },
  {
   "cell_type": "code",
   "execution_count": 86,
   "id": "d9e3d352",
   "metadata": {},
   "outputs": [],
   "source": [
    "spam_pipeline = Pipeline([('vect', CountVectorizer(lowercase=False, strip_accents='ascii', ngram_range=(1,1), max_df=0.9, min_df=0.0005)),\n",
    "                          ('tfidf', TfidfTransformer()),\n",
    "                          ('svc', SVC(random_state=RANDOM_STATE)),])"
   ]
  },
  {
   "cell_type": "code",
   "execution_count": 87,
   "id": "59aff225",
   "metadata": {},
   "outputs": [
    {
     "name": "stdout",
     "output_type": "stream",
     "text": [
      "              precision    recall  f1-score   support\n",
      "\n",
      "         ham       0.97      1.00      0.98      1917\n",
      "        spam       1.00      0.81      0.90       312\n",
      "\n",
      "    accuracy                           0.97      2229\n",
      "   macro avg       0.98      0.91      0.94      2229\n",
      "weighted avg       0.97      0.97      0.97      2229\n",
      "\n"
     ]
    },
    {
     "data": {
      "image/png": "[encoded data removed]",
      "text/plain": [
       "<Figure size 432x288 with 2 Axes>"
      ]
     },
     "metadata": {
      "needs_background": "light"
     },
     "output_type": "display_data"
    },
    {
     "name": "stdout",
     "output_type": "stream",
     "text": [
      "Blocked ham (false positive rate): 0.0005216484089723526%\n",
      "Meets false positive threshold?  no\n",
      "Spam caught (true positive rate): 0.8141025641025641%\n",
      "F1 Beta Score:  0.9723586385649001\n"
     ]
    }
   ],
   "source": [
    "spam_pipeline.fit(X_train, y_train)\n",
    "preds = spam_pipeline.predict(X_test)\n",
    "evaluate(preds)"
   ]
  },
  {
   "cell_type": "markdown",
   "id": "e30f89c4",
   "metadata": {},
   "source": [
    "The default SVM actually performed quite well on our dataset. Using the hold-out set, we are getting a false positive rate of 0.0005, which is in the ballpark of where we want to be. We are catching ~81% of spam, which is slightly better than the Naive Bayes default (79% of spam caught). Let's see how much we can improve the model by optimizing th model's hyperparameters."
   ]
  },
  {
   "cell_type": "code",
   "execution_count": 88,
   "id": "a841b84e",
   "metadata": {},
   "outputs": [],
   "source": [
    "X_train, X_test, y_train, y_test = train_test_split(X, y, random_state = RANDOM_STATE, test_size = TEST_RATIO)"
   ]
  },
  {
   "cell_type": "code",
   "execution_count": 89,
   "id": "665ce149",
   "metadata": {},
   "outputs": [
    {
     "name": "stdout",
     "output_type": "stream",
     "text": [
      "              precision    recall  f1-score   support\n",
      "\n",
      "         ham       0.97      1.00      0.99      1917\n",
      "        spam       0.99      0.84      0.91       312\n",
      "\n",
      "    accuracy                           0.98      2229\n",
      "   macro avg       0.98      0.92      0.95      2229\n",
      "weighted avg       0.98      0.98      0.98      2229\n",
      "\n"
     ]
    },
    {
     "data": {
      "image/png": "[encoded data removed]",
      "text/plain": [
       "<Figure size 432x288 with 2 Axes>"
      ]
     },
     "metadata": {
      "needs_background": "light"
     },
     "output_type": "display_data"
    },
    {
     "name": "stdout",
     "output_type": "stream",
     "text": [
      "Blocked ham (false positive rate): 0.0010432968179447052%\n",
      "Meets false positive threshold?  no\n",
      "Spam caught (true positive rate): 0.8397435897435898%\n",
      "F1 Beta Score:  0.9731156111441996\n",
      "{'svc__C': 5, 'svc__kernel': 'rbf', 'vect__ngram_range': (1, 2)}\n"
     ]
    }
   ],
   "source": [
    "spam_pipeline = Pipeline([('vect', CountVectorizer(lowercase=False, strip_accents='ascii', max_df=0.9, min_df=0.0005)),\n",
    "                          ('tfidf', TfidfTransformer()),\n",
    "                          ('svc', SVC(random_state=RANDOM_STATE)),])\n",
    "\n",
    "# will try 56 different combinations\n",
    "parameters = {\n",
    "    'vect__ngram_range': [(1, 1), (1, 2)],\n",
    "    'svc__C': [0.01, 0.1, 0.25, 0.5, 1, 2, 5], # regularization penalty\n",
    "    'svc__kernel': ['linear', 'poly', 'rbf', 'sigmoid'],\n",
    "}\n",
    "\n",
    "gs_svm = GridSearchCV(spam_pipeline, parameters, scoring=fbeta_scorer, cv=CV_FOLDS, n_jobs=-1)\n",
    "\n",
    "gs_svm.fit(X_train, y_train)\n",
    "preds = gs_svm.predict(X_test)\n",
    "evaluate(preds)\n",
    "\n",
    "print(gs_svm.best_params_)"
   ]
  },
  {
   "cell_type": "markdown",
   "id": "88ae9324",
   "metadata": {},
   "source": [
    "Here, we are getting two false positives in just the hold-out set, which is already more than what is acceptable. We are also only catching about 84% of spam messages, which is lower than our Multinomial Naive Bayes model. It is clear that we should reduce the beta parameter in the F1Beta score so that the model is penalized even more for making false positives. I also notice that both NB and SVM benefit from including bigrams. I may explore adding higher N-grams to the dataset."
   ]
  },
  {
   "cell_type": "markdown",
   "id": "138b3d94",
   "metadata": {},
   "source": [
    "## Embedding"
   ]
  },
  {
   "cell_type": "markdown",
   "id": "532781b9",
   "metadata": {},
   "source": [
    "Since our corpus is relatively small, we probably do not have enough text data to train our own embedding layers. Instead, we will turn to transfer learning, focusing on a particurily popular pretrained model, **GloVe**."
   ]
  },
  {
   "cell_type": "code",
   "execution_count": 67,
   "id": "0b860079",
   "metadata": {},
   "outputs": [],
   "source": [
    "# downloads model, unzips, and deletes original\n",
    "if DOWNLOAD_GLOVE:\n",
    "    !wget -P glove/ http://nlp.stanford.edu/data/glove.6B.zip\n",
    "    !unzip glove/glove.6B.zip -d glove/\n",
    "    !rm glove/glove.6B.zip"
   ]
  },
  {
   "cell_type": "markdown",
   "id": "7b439d37",
   "metadata": {},
   "source": [
    "### Using sentence embedding as features"
   ]
  },
  {
   "cell_type": "code",
   "execution_count": 91,
   "id": "d28300fb",
   "metadata": {},
   "outputs": [
    {
     "name": "stderr",
     "output_type": "stream",
     "text": [
      "/home/ec2-user/anaconda3/envs/python3/lib/python3.6/site-packages/ipykernel/__main__.py:4: DeprecationWarning: Call to deprecated `glove2word2vec` (KeyedVectors.load_word2vec_format(.., binary=False, no_header=True) loads GLoVE text vectors.).\n"
     ]
    },
    {
     "data": {
      "text/plain": [
       "(400000, 100)"
      ]
     },
     "execution_count": 91,
     "metadata": {},
     "output_type": "execute_result"
    }
   ],
   "source": [
    "from gensim.scripts.glove2word2vec import glove2word2vec\n",
    "glove_input_file = f'glove/glove.6B.{EMBED_DIM}d.txt'\n",
    "word2vec_output_file = 'glove/word2vec.txt'\n",
    "glove2word2vec(glove_input_file, word2vec_output_file)"
   ]
  },
  {
   "cell_type": "code",
   "execution_count": 92,
   "id": "d840a615",
   "metadata": {},
   "outputs": [],
   "source": [
    "from gensim.models import KeyedVectors\n",
    "# load the Stanford GloVe model\n",
    "emb = KeyedVectors.load_word2vec_format(word2vec_output_file, binary=False)"
   ]
  },
  {
   "cell_type": "code",
   "execution_count": 93,
   "id": "ff3db7af",
   "metadata": {},
   "outputs": [
    {
     "data": {
      "text/plain": [
       "array([ 0.1233  ,  0.55741 ,  0.74203 , -0.06547 , -0.33485 ,  0.81541 ,\n",
       "       -0.16384 , -1.0327  ,  0.41834 , -0.012764, -0.60695 ,  0.30146 ,\n",
       "        0.35976 ,  0.41161 ,  0.03381 , -0.091115,  0.35077 , -0.24798 ,\n",
       "       -0.13128 ,  0.19869 ,  0.046961,  0.014633, -0.39851 , -0.11829 ,\n",
       "       -0.27432 , -0.032518, -0.23637 , -0.072372, -0.04237 , -0.11159 ,\n",
       "        0.12129 ,  0.64011 , -0.50275 , -0.21584 ,  0.30097 , -0.041772,\n",
       "       -0.47972 , -0.12897 ,  0.6964  , -0.27594 , -0.29149 ,  0.088033,\n",
       "        0.12874 , -0.15249 , -0.20548 ,  0.029435,  0.055133, -0.12994 ,\n",
       "       -0.33869 , -0.61891 ,  0.4743  ,  0.60288 ,  1.0209  ,  0.48663 ,\n",
       "       -1.0587  , -1.9711  , -0.41751 ,  0.12457 ,  1.304   ,  0.26925 ,\n",
       "        0.28003 ,  0.91141 , -0.62217 , -0.70356 ,  1.0379  , -0.095316,\n",
       "        0.54085 , -0.36123 , -0.10311 , -0.31059 , -0.61454 ,  0.63799 ,\n",
       "        0.18329 , -0.49599 ,  0.3607  ,  0.70414 , -0.28096 ,  0.1062  ,\n",
       "       -0.64866 , -0.28698 , -0.26623 , -1.4502  , -0.69456 , -0.48722 ,\n",
       "       -1.6753  ,  0.40353 , -0.085219, -0.85528 ,  0.65113 ,  0.019457,\n",
       "       -0.20924 ,  0.18864 , -0.12794 ,  0.41757 ,  0.097439, -0.58381 ,\n",
       "       -0.38945 , -0.15608 ,  0.014198,  0.65633 ], dtype=float32)"
      ]
     },
     "execution_count": 93,
     "metadata": {},
     "output_type": "execute_result"
    }
   ],
   "source": [
    "emb['word']"
   ]
  },
  {
   "cell_type": "markdown",
   "id": "470e31a6",
   "metadata": {},
   "source": [
    "Now that we can get high quality embeddings for each word in the GloVe vocabulary, we can take the average of those embeddings to get a sentence embedding that should approximate the relationship between sentences in the dataset."
   ]
  },
  {
   "cell_type": "code",
   "execution_count": 94,
   "id": "d137282c",
   "metadata": {},
   "outputs": [],
   "source": [
    "# takes a sentence in string format and returns average word embedding\n",
    "def get_sentence_embedding(sentence, dimension):\n",
    "    totalEmbedding = np.zeros(dimension)\n",
    "    numValidWords = 0\n",
    "    words = sentence.split(' ')\n",
    "    for word in words:\n",
    "        word = word.strip(' ')      # word may have whitespace, which could mess up embedding\n",
    "        if emb.has_index_for(word): # for now, we will only accept words within the vocabulary\n",
    "            totalEmbedding = totalEmbedding + emb[word] \n",
    "    if numValidWords == 0:\n",
    "        return totalEmbedding       # no valid words were found in the sentence, return 0\n",
    "    return totalEmbedding / numValidWords"
   ]
  },
  {
   "cell_type": "code",
   "execution_count": 95,
   "id": "018e8523",
   "metadata": {},
   "outputs": [],
   "source": [
    "X_embed = X.apply(lambda x: get_sentence_embedding(x, EMBED_DIM))"
   ]
  },
  {
   "cell_type": "code",
   "execution_count": 96,
   "id": "d7dfdbf7",
   "metadata": {},
   "outputs": [],
   "source": [
    "# converts Series with lists to DataFrame with multiple columns\n",
    "X_embed = pd.DataFrame(X_embed.tolist())"
   ]
  },
  {
   "cell_type": "code",
   "execution_count": 97,
   "id": "6f1eccc2",
   "metadata": {},
   "outputs": [
    {
     "data": {
      "text/html": [
       "<div>\n",
       "<style scoped>\n",
       "    .dataframe tbody tr th:only-of-type {\n",
       "        vertical-align: middle;\n",
       "    }\n",
       "\n",
       "    .dataframe tbody tr th {\n",
       "        vertical-align: top;\n",
       "    }\n",
       "\n",
       "    .dataframe thead th {\n",
       "        text-align: right;\n",
       "    }\n",
       "</style>\n",
       "<table border=\"1\" class=\"dataframe\">\n",
       "  <thead>\n",
       "    <tr style=\"text-align: right;\">\n",
       "      <th></th>\n",
       "      <th>0</th>\n",
       "      <th>1</th>\n",
       "      <th>2</th>\n",
       "      <th>3</th>\n",
       "      <th>4</th>\n",
       "      <th>5</th>\n",
       "      <th>6</th>\n",
       "      <th>7</th>\n",
       "      <th>8</th>\n",
       "      <th>9</th>\n",
       "      <th>...</th>\n",
       "      <th>90</th>\n",
       "      <th>91</th>\n",
       "      <th>92</th>\n",
       "      <th>93</th>\n",
       "      <th>94</th>\n",
       "      <th>95</th>\n",
       "      <th>96</th>\n",
       "      <th>97</th>\n",
       "      <th>98</th>\n",
       "      <th>99</th>\n",
       "    </tr>\n",
       "  </thead>\n",
       "  <tbody>\n",
       "    <tr>\n",
       "      <th>0</th>\n",
       "      <td>0.667930</td>\n",
       "      <td>1.085955</td>\n",
       "      <td>3.991036</td>\n",
       "      <td>-0.255475</td>\n",
       "      <td>-2.085316</td>\n",
       "      <td>1.008745</td>\n",
       "      <td>0.164294</td>\n",
       "      <td>3.865477</td>\n",
       "      <td>0.233446</td>\n",
       "      <td>-2.361942</td>\n",
       "      <td>...</td>\n",
       "      <td>-1.979312</td>\n",
       "      <td>-1.380415</td>\n",
       "      <td>1.853742</td>\n",
       "      <td>0.885214</td>\n",
       "      <td>-4.037860</td>\n",
       "      <td>-2.149489</td>\n",
       "      <td>-2.357920</td>\n",
       "      <td>-5.341131</td>\n",
       "      <td>6.486759</td>\n",
       "      <td>3.163435</td>\n",
       "    </tr>\n",
       "    <tr>\n",
       "      <th>1</th>\n",
       "      <td>0.373040</td>\n",
       "      <td>-0.778777</td>\n",
       "      <td>2.241010</td>\n",
       "      <td>-1.503951</td>\n",
       "      <td>-1.926815</td>\n",
       "      <td>1.864091</td>\n",
       "      <td>0.580568</td>\n",
       "      <td>0.752322</td>\n",
       "      <td>1.768932</td>\n",
       "      <td>-0.271360</td>\n",
       "      <td>...</td>\n",
       "      <td>-0.031955</td>\n",
       "      <td>0.168375</td>\n",
       "      <td>0.529797</td>\n",
       "      <td>-0.411748</td>\n",
       "      <td>0.759621</td>\n",
       "      <td>-0.366444</td>\n",
       "      <td>-0.358635</td>\n",
       "      <td>-1.217817</td>\n",
       "      <td>-2.417187</td>\n",
       "      <td>0.035798</td>\n",
       "    </tr>\n",
       "    <tr>\n",
       "      <th>2</th>\n",
       "      <td>0.301091</td>\n",
       "      <td>4.043170</td>\n",
       "      <td>6.388706</td>\n",
       "      <td>-1.685197</td>\n",
       "      <td>-0.727121</td>\n",
       "      <td>0.432027</td>\n",
       "      <td>1.322329</td>\n",
       "      <td>3.259246</td>\n",
       "      <td>-1.143771</td>\n",
       "      <td>-2.654820</td>\n",
       "      <td>...</td>\n",
       "      <td>-4.006984</td>\n",
       "      <td>2.444191</td>\n",
       "      <td>-0.505895</td>\n",
       "      <td>1.399688</td>\n",
       "      <td>-3.937110</td>\n",
       "      <td>-2.308505</td>\n",
       "      <td>5.400119</td>\n",
       "      <td>1.242996</td>\n",
       "      <td>4.757581</td>\n",
       "      <td>-0.754385</td>\n",
       "    </tr>\n",
       "    <tr>\n",
       "      <th>3</th>\n",
       "      <td>-1.425154</td>\n",
       "      <td>0.585155</td>\n",
       "      <td>0.980350</td>\n",
       "      <td>-0.120910</td>\n",
       "      <td>-2.047710</td>\n",
       "      <td>-1.547334</td>\n",
       "      <td>-0.993560</td>\n",
       "      <td>-0.548180</td>\n",
       "      <td>2.134575</td>\n",
       "      <td>-1.298941</td>\n",
       "      <td>...</td>\n",
       "      <td>2.161250</td>\n",
       "      <td>-1.918459</td>\n",
       "      <td>-1.403629</td>\n",
       "      <td>0.248540</td>\n",
       "      <td>-2.456080</td>\n",
       "      <td>0.607713</td>\n",
       "      <td>-1.333772</td>\n",
       "      <td>-3.294896</td>\n",
       "      <td>1.000334</td>\n",
       "      <td>-0.177560</td>\n",
       "    </tr>\n",
       "    <tr>\n",
       "      <th>4</th>\n",
       "      <td>-0.746491</td>\n",
       "      <td>3.247970</td>\n",
       "      <td>2.894838</td>\n",
       "      <td>-2.900791</td>\n",
       "      <td>-2.120800</td>\n",
       "      <td>2.004200</td>\n",
       "      <td>-0.450949</td>\n",
       "      <td>-0.918278</td>\n",
       "      <td>0.867740</td>\n",
       "      <td>-2.428010</td>\n",
       "      <td>...</td>\n",
       "      <td>0.716402</td>\n",
       "      <td>-1.434884</td>\n",
       "      <td>0.645988</td>\n",
       "      <td>-0.931120</td>\n",
       "      <td>-3.120871</td>\n",
       "      <td>-0.897635</td>\n",
       "      <td>-0.490556</td>\n",
       "      <td>-2.140934</td>\n",
       "      <td>1.781350</td>\n",
       "      <td>2.449977</td>\n",
       "    </tr>\n",
       "    <tr>\n",
       "      <th>...</th>\n",
       "      <td>...</td>\n",
       "      <td>...</td>\n",
       "      <td>...</td>\n",
       "      <td>...</td>\n",
       "      <td>...</td>\n",
       "      <td>...</td>\n",
       "      <td>...</td>\n",
       "      <td>...</td>\n",
       "      <td>...</td>\n",
       "      <td>...</td>\n",
       "      <td>...</td>\n",
       "      <td>...</td>\n",
       "      <td>...</td>\n",
       "      <td>...</td>\n",
       "      <td>...</td>\n",
       "      <td>...</td>\n",
       "      <td>...</td>\n",
       "      <td>...</td>\n",
       "      <td>...</td>\n",
       "      <td>...</td>\n",
       "      <td>...</td>\n",
       "    </tr>\n",
       "    <tr>\n",
       "      <th>5567</th>\n",
       "      <td>-0.881483</td>\n",
       "      <td>3.097742</td>\n",
       "      <td>3.302300</td>\n",
       "      <td>0.445391</td>\n",
       "      <td>-0.453864</td>\n",
       "      <td>1.382492</td>\n",
       "      <td>2.289936</td>\n",
       "      <td>1.566903</td>\n",
       "      <td>-3.972439</td>\n",
       "      <td>0.369849</td>\n",
       "      <td>...</td>\n",
       "      <td>-2.728341</td>\n",
       "      <td>0.828132</td>\n",
       "      <td>-2.798959</td>\n",
       "      <td>-0.919668</td>\n",
       "      <td>-9.294059</td>\n",
       "      <td>-1.865856</td>\n",
       "      <td>2.235299</td>\n",
       "      <td>-1.901911</td>\n",
       "      <td>5.792311</td>\n",
       "      <td>-2.441222</td>\n",
       "    </tr>\n",
       "    <tr>\n",
       "      <th>5568</th>\n",
       "      <td>0.147762</td>\n",
       "      <td>1.355060</td>\n",
       "      <td>0.986150</td>\n",
       "      <td>-1.440420</td>\n",
       "      <td>-0.421987</td>\n",
       "      <td>1.158345</td>\n",
       "      <td>-0.623968</td>\n",
       "      <td>2.472060</td>\n",
       "      <td>-1.688314</td>\n",
       "      <td>-0.662538</td>\n",
       "      <td>...</td>\n",
       "      <td>-0.795013</td>\n",
       "      <td>-1.244846</td>\n",
       "      <td>-0.065419</td>\n",
       "      <td>0.158851</td>\n",
       "      <td>-2.635415</td>\n",
       "      <td>-0.726140</td>\n",
       "      <td>1.698310</td>\n",
       "      <td>-0.810910</td>\n",
       "      <td>2.036650</td>\n",
       "      <td>0.472350</td>\n",
       "    </tr>\n",
       "    <tr>\n",
       "      <th>5569</th>\n",
       "      <td>-1.330660</td>\n",
       "      <td>0.700470</td>\n",
       "      <td>2.292920</td>\n",
       "      <td>-1.194910</td>\n",
       "      <td>-1.648870</td>\n",
       "      <td>1.690237</td>\n",
       "      <td>-1.316311</td>\n",
       "      <td>-0.820660</td>\n",
       "      <td>0.645914</td>\n",
       "      <td>-0.909693</td>\n",
       "      <td>...</td>\n",
       "      <td>-0.827669</td>\n",
       "      <td>-1.014260</td>\n",
       "      <td>-0.872070</td>\n",
       "      <td>0.080161</td>\n",
       "      <td>-0.377790</td>\n",
       "      <td>0.864164</td>\n",
       "      <td>-0.417040</td>\n",
       "      <td>-1.228352</td>\n",
       "      <td>-0.305889</td>\n",
       "      <td>2.355530</td>\n",
       "    </tr>\n",
       "    <tr>\n",
       "      <th>5570</th>\n",
       "      <td>2.291357</td>\n",
       "      <td>2.488516</td>\n",
       "      <td>6.570093</td>\n",
       "      <td>-2.723735</td>\n",
       "      <td>-0.384974</td>\n",
       "      <td>1.480043</td>\n",
       "      <td>-1.333100</td>\n",
       "      <td>1.229575</td>\n",
       "      <td>-0.871575</td>\n",
       "      <td>-4.060801</td>\n",
       "      <td>...</td>\n",
       "      <td>0.206683</td>\n",
       "      <td>-2.514200</td>\n",
       "      <td>0.260202</td>\n",
       "      <td>-2.173616</td>\n",
       "      <td>-6.874606</td>\n",
       "      <td>-0.599175</td>\n",
       "      <td>-0.782111</td>\n",
       "      <td>-0.887472</td>\n",
       "      <td>5.921830</td>\n",
       "      <td>4.414111</td>\n",
       "    </tr>\n",
       "    <tr>\n",
       "      <th>5571</th>\n",
       "      <td>0.473790</td>\n",
       "      <td>-0.202420</td>\n",
       "      <td>1.977870</td>\n",
       "      <td>-0.280782</td>\n",
       "      <td>-0.207070</td>\n",
       "      <td>0.374910</td>\n",
       "      <td>-0.451385</td>\n",
       "      <td>-1.039330</td>\n",
       "      <td>-0.301839</td>\n",
       "      <td>0.523296</td>\n",
       "      <td>...</td>\n",
       "      <td>-0.537823</td>\n",
       "      <td>0.802570</td>\n",
       "      <td>-0.059740</td>\n",
       "      <td>1.163440</td>\n",
       "      <td>-1.351620</td>\n",
       "      <td>-1.482370</td>\n",
       "      <td>-2.638190</td>\n",
       "      <td>-1.947460</td>\n",
       "      <td>1.546267</td>\n",
       "      <td>1.286388</td>\n",
       "    </tr>\n",
       "  </tbody>\n",
       "</table>\n",
       "<p>5572 rows × 100 columns</p>\n",
       "</div>"
      ],
      "text/plain": [
       "            0         1         2         3         4         5         6   \\\n",
       "0     0.667930  1.085955  3.991036 -0.255475 -2.085316  1.008745  0.164294   \n",
       "1     0.373040 -0.778777  2.241010 -1.503951 -1.926815  1.864091  0.580568   \n",
       "2     0.301091  4.043170  6.388706 -1.685197 -0.727121  0.432027  1.322329   \n",
       "3    -1.425154  0.585155  0.980350 -0.120910 -2.047710 -1.547334 -0.993560   \n",
       "4    -0.746491  3.247970  2.894838 -2.900791 -2.120800  2.004200 -0.450949   \n",
       "...        ...       ...       ...       ...       ...       ...       ...   \n",
       "5567 -0.881483  3.097742  3.302300  0.445391 -0.453864  1.382492  2.289936   \n",
       "5568  0.147762  1.355060  0.986150 -1.440420 -0.421987  1.158345 -0.623968   \n",
       "5569 -1.330660  0.700470  2.292920 -1.194910 -1.648870  1.690237 -1.316311   \n",
       "5570  2.291357  2.488516  6.570093 -2.723735 -0.384974  1.480043 -1.333100   \n",
       "5571  0.473790 -0.202420  1.977870 -0.280782 -0.207070  0.374910 -0.451385   \n",
       "\n",
       "            7         8         9   ...        90        91        92  \\\n",
       "0     3.865477  0.233446 -2.361942  ... -1.979312 -1.380415  1.853742   \n",
       "1     0.752322  1.768932 -0.271360  ... -0.031955  0.168375  0.529797   \n",
       "2     3.259246 -1.143771 -2.654820  ... -4.006984  2.444191 -0.505895   \n",
       "3    -0.548180  2.134575 -1.298941  ...  2.161250 -1.918459 -1.403629   \n",
       "4    -0.918278  0.867740 -2.428010  ...  0.716402 -1.434884  0.645988   \n",
       "...        ...       ...       ...  ...       ...       ...       ...   \n",
       "5567  1.566903 -3.972439  0.369849  ... -2.728341  0.828132 -2.798959   \n",
       "5568  2.472060 -1.688314 -0.662538  ... -0.795013 -1.244846 -0.065419   \n",
       "5569 -0.820660  0.645914 -0.909693  ... -0.827669 -1.014260 -0.872070   \n",
       "5570  1.229575 -0.871575 -4.060801  ...  0.206683 -2.514200  0.260202   \n",
       "5571 -1.039330 -0.301839  0.523296  ... -0.537823  0.802570 -0.059740   \n",
       "\n",
       "            93        94        95        96        97        98        99  \n",
       "0     0.885214 -4.037860 -2.149489 -2.357920 -5.341131  6.486759  3.163435  \n",
       "1    -0.411748  0.759621 -0.366444 -0.358635 -1.217817 -2.417187  0.035798  \n",
       "2     1.399688 -3.937110 -2.308505  5.400119  1.242996  4.757581 -0.754385  \n",
       "3     0.248540 -2.456080  0.607713 -1.333772 -3.294896  1.000334 -0.177560  \n",
       "4    -0.931120 -3.120871 -0.897635 -0.490556 -2.140934  1.781350  2.449977  \n",
       "...        ...       ...       ...       ...       ...       ...       ...  \n",
       "5567 -0.919668 -9.294059 -1.865856  2.235299 -1.901911  5.792311 -2.441222  \n",
       "5568  0.158851 -2.635415 -0.726140  1.698310 -0.810910  2.036650  0.472350  \n",
       "5569  0.080161 -0.377790  0.864164 -0.417040 -1.228352 -0.305889  2.355530  \n",
       "5570 -2.173616 -6.874606 -0.599175 -0.782111 -0.887472  5.921830  4.414111  \n",
       "5571  1.163440 -1.351620 -1.482370 -2.638190 -1.947460  1.546267  1.286388  \n",
       "\n",
       "[5572 rows x 100 columns]"
      ]
     },
     "execution_count": 97,
     "metadata": {},
     "output_type": "execute_result"
    }
   ],
   "source": [
    "X_embed"
   ]
  },
  {
   "cell_type": "markdown",
   "id": "9f8da645",
   "metadata": {},
   "source": [
    "Since some of our values are negative, we cannot use Naive Bayes. Some options are: SVM, NN, and Random Forest. We will try SVM first:"
   ]
  },
  {
   "cell_type": "code",
   "execution_count": 98,
   "id": "4609b238",
   "metadata": {},
   "outputs": [],
   "source": [
    "X_train, X_test, y_train, y_test = train_test_split(X_embed, y, random_state = RANDOM_STATE, test_size = TEST_RATIO)"
   ]
  },
  {
   "cell_type": "code",
   "execution_count": 99,
   "id": "7ee9df4d",
   "metadata": {},
   "outputs": [
    {
     "data": {
      "text/plain": [
       "SVC(random_state=12)"
      ]
     },
     "execution_count": 99,
     "metadata": {},
     "output_type": "execute_result"
    }
   ],
   "source": [
    "svc = SVC(random_state = RANDOM_STATE)\n",
    "svc.fit(X_train, y_train)"
   ]
  },
  {
   "cell_type": "code",
   "execution_count": 100,
   "id": "c21a78ce",
   "metadata": {},
   "outputs": [
    {
     "name": "stdout",
     "output_type": "stream",
     "text": [
      "              precision    recall  f1-score   support\n",
      "\n",
      "         ham       0.97      0.99      0.98      1917\n",
      "        spam       0.94      0.79      0.86       312\n",
      "\n",
      "    accuracy                           0.96      2229\n",
      "   macro avg       0.95      0.89      0.92      2229\n",
      "weighted avg       0.96      0.96      0.96      2229\n",
      "\n"
     ]
    },
    {
     "data": {
      "image/png": "[encoded data removed]",
      "text/plain": [
       "<Figure size 432x288 with 2 Axes>"
      ]
     },
     "metadata": {
      "needs_background": "light"
     },
     "output_type": "display_data"
    },
    {
     "name": "stdout",
     "output_type": "stream",
     "text": [
      "Blocked ham (false positive rate): 0.008868022952529996%\n",
      "Meets false positive threshold?  no\n",
      "Spam caught (true positive rate): 0.7884615384615384%\n",
      "F1 Beta Score:  0.9167219972113405\n"
     ]
    }
   ],
   "source": [
    "preds = svc.predict(X_test)\n",
    "evaluate(preds)"
   ]
  },
  {
   "cell_type": "markdown",
   "id": "65f40651",
   "metadata": {},
   "source": [
    "On the holdout set, we are getting 17 false positives, far more than what is acceptable. We are also catching only 78.8% of spam. We could try optimizing the hyperparameters for this model but since the default hyperparameters performed so poorly, we will instead try a different algorithm. "
   ]
  },
  {
   "cell_type": "markdown",
   "id": "d8c8cae9",
   "metadata": {},
   "source": [
    "We will now see how the Random Forest algorithm performs on this dataset of embeddings:"
   ]
  },
  {
   "cell_type": "code",
   "execution_count": 101,
   "id": "a980740b",
   "metadata": {},
   "outputs": [],
   "source": [
    "X_train, X_test, y_train, y_test = train_test_split(X_embed, y, random_state = RANDOM_STATE, test_size = TEST_RATIO)"
   ]
  },
  {
   "cell_type": "code",
   "execution_count": 102,
   "id": "c0955806",
   "metadata": {},
   "outputs": [
    {
     "data": {
      "text/plain": [
       "RandomForestClassifier(random_state=12)"
      ]
     },
     "execution_count": 102,
     "metadata": {},
     "output_type": "execute_result"
    }
   ],
   "source": [
    "rf = RandomForestClassifier(random_state = RANDOM_STATE)\n",
    "rf.fit(X_train, y_train)"
   ]
  },
  {
   "cell_type": "code",
   "execution_count": 103,
   "id": "8b410621",
   "metadata": {},
   "outputs": [
    {
     "name": "stdout",
     "output_type": "stream",
     "text": [
      "              precision    recall  f1-score   support\n",
      "\n",
      "         ham       0.96      0.99      0.98      1917\n",
      "        spam       0.93      0.78      0.85       312\n",
      "\n",
      "    accuracy                           0.96      2229\n",
      "   macro avg       0.95      0.88      0.91      2229\n",
      "weighted avg       0.96      0.96      0.96      2229\n",
      "\n"
     ]
    },
    {
     "data": {
      "image/png": "[encoded data removed]",
      "text/plain": [
       "<Figure size 432x288 with 2 Axes>"
      ]
     },
     "metadata": {
      "needs_background": "light"
     },
     "output_type": "display_data"
    },
    {
     "name": "stdout",
     "output_type": "stream",
     "text": [
      "Blocked ham (false positive rate): 0.008868022952529996%\n",
      "Meets false positive threshold?  no\n",
      "Spam caught (true positive rate): 0.7756410256410257%\n",
      "F1 Beta Score:  0.9139526276831977\n"
     ]
    }
   ],
   "source": [
    "preds = rf.predict(X_test)\n",
    "evaluate(preds)"
   ]
  },
  {
   "cell_type": "markdown",
   "id": "f17f99d9",
   "metadata": {},
   "source": [
    "With the default scikit learn Random Forest algorithm, we are getting almost the exact same results as the SVM algorithm with the embedding dataset. This suggests that the problem lies in the embeddings themselves, and not the algorithm. Here are a couple of ideas to improve the quality of the dataset:\n",
    "\n",
    "It may improve the quality of the  embeddings to incorporate more sophisticated methods of sentence embeddings, such as weighted average, instead of normal average. We are also forced to discard many of the words in the posts, since they are not in the GloVe vocabulary. A more robust embedding solution may be required in order to retain some of the unique words that help differentiate spam messages from ham. "
   ]
  },
  {
   "cell_type": "markdown",
   "id": "45fe61a4",
   "metadata": {},
   "source": [
    "### Using pretrained embeddings in CNN"
   ]
  },
  {
   "cell_type": "markdown",
   "id": "65095991",
   "metadata": {},
   "source": [
    "Instead of trying to find an embedding for a sentence by averaging the word embeddings, we will first tokenize the sentence and then use the pretrained embeddings as an Embedding layer in a neural network. First, we use a vectorizer to tokenize the messages. Then, we will use this vocabulary to create an embedding matrix and use this matrix as the initializing weights in the Embedding layer. "
   ]
  },
  {
   "cell_type": "code",
   "execution_count": 68,
   "id": "014b82fe",
   "metadata": {},
   "outputs": [
    {
     "data": {
      "text/plain": [
       "0    4825\n",
       "1     747\n",
       "Name: spam, dtype: int64"
      ]
     },
     "execution_count": 68,
     "metadata": {},
     "output_type": "execute_result"
    }
   ],
   "source": [
    "df.spam.value_counts()"
   ]
  },
  {
   "cell_type": "code",
   "execution_count": 69,
   "id": "852d0172",
   "metadata": {},
   "outputs": [],
   "source": [
    "X_train, X_test, y_train, y_test = train_test_split(X, y, random_state = RANDOM_STATE, test_size = TEST_RATIO, stratify=y)"
   ]
  },
  {
   "cell_type": "code",
   "execution_count": 70,
   "id": "13834c0b",
   "metadata": {},
   "outputs": [],
   "source": [
    "# need to reshape for imbalanced learn\n",
    "X_train = np.asarray(X_train).reshape(-1, 1)"
   ]
  },
  {
   "cell_type": "markdown",
   "id": "31523f06",
   "metadata": {},
   "source": [
    "We will use RandomOverSampler to eliminate the large class imbalance. We will be replicating the strings prior to the tokenization."
   ]
  },
  {
   "cell_type": "code",
   "execution_count": 71,
   "id": "70da992d",
   "metadata": {},
   "outputs": [],
   "source": [
    "oversampler = imblearn.over_sampling.RandomOverSampler(sampling_strategy = 'not majority', random_state = RANDOM_STATE)\n",
    "X_train, y_train = oversampler.fit_resample(X_train, y_train)"
   ]
  },
  {
   "cell_type": "code",
   "execution_count": 72,
   "id": "e27def3e",
   "metadata": {},
   "outputs": [
    {
     "data": {
      "text/plain": [
       "1    2895\n",
       "0    2895\n",
       "Name: spam, dtype: int64"
      ]
     },
     "execution_count": 72,
     "metadata": {},
     "output_type": "execute_result"
    }
   ],
   "source": [
    "y_train.value_counts()"
   ]
  },
  {
   "cell_type": "code",
   "execution_count": 73,
   "id": "2cdc87c4",
   "metadata": {},
   "outputs": [],
   "source": [
    "# shape back into array of strings\n",
    "X_train = X_train.reshape(-1,)"
   ]
  },
  {
   "cell_type": "code",
   "execution_count": 74,
   "id": "10dca626",
   "metadata": {},
   "outputs": [],
   "source": [
    "# split train data again to get a validation set\n",
    "X_train, X_val, y_train, y_val = train_test_split(X_train, y_train, test_size = TEST_RATIO, random_state = RANDOM_STATE, stratify=y_train)"
   ]
  },
  {
   "cell_type": "code",
   "execution_count": 75,
   "id": "f04711de",
   "metadata": {},
   "outputs": [
    {
     "name": "stdout",
     "output_type": "stream",
     "text": [
      "Train dataset size: 3474 records\n",
      "Validation dataset size: 2316 records\n",
      "Test dataset size: 2229 records\n"
     ]
    }
   ],
   "source": [
    "# examine size of each dataset\n",
    "print('Train dataset size: {} records'.format(len(X_train)))\n",
    "print('Validation dataset size: {} records'.format(len(X_val)))\n",
    "print('Test dataset size: {} records'.format(len(X_test)))"
   ]
  },
  {
   "cell_type": "markdown",
   "id": "9a5ecf60",
   "metadata": {},
   "source": [
    "In this situation, we will lowercase all of the words so that they match the corresponding words in the GloVe vocabulary. Stop words and punctuation has already been removed from this data. "
   ]
  },
  {
   "cell_type": "code",
   "execution_count": 76,
   "id": "6e3751ff",
   "metadata": {},
   "outputs": [],
   "source": [
    "# only unigrams are included in the GloVe vocabulary so we can only use (1,1) as the ngram range\n",
    "vectorizer = CountVectorizer(lowercase=True, strip_accents='ascii', ngram_range=(1,1), max_df=0.9, min_df=0.0005)\n",
    "X_train = vectorizer.fit_transform(X_train)\n",
    "X_val = vectorizer.transform(X_val)\n",
    "X_test = vectorizer.transform(X_test)\n",
    "vocab = vectorizer.get_feature_names()\n",
    "num_tokens = len(vocab)"
   ]
  },
  {
   "cell_type": "code",
   "execution_count": 77,
   "id": "9516e91b",
   "metadata": {},
   "outputs": [],
   "source": [
    "# convert to numpy arrays because Keras can't operate on sparse matrices\n",
    "X_train = X_train.toarray()\n",
    "X_val = X_val.toarray()\n",
    "X_test = X_test.toarray()"
   ]
  },
  {
   "cell_type": "code",
   "execution_count": 78,
   "id": "04ea0efb",
   "metadata": {},
   "outputs": [],
   "source": [
    "word_index = dict(zip(vocab, range(len(vocab))))"
   ]
  },
  {
   "cell_type": "code",
   "execution_count": 79,
   "id": "0b980e7a",
   "metadata": {},
   "outputs": [
    {
     "name": "stdout",
     "output_type": "stream",
     "text": [
      "Loaded 400000 word embeddings\n"
     ]
    }
   ],
   "source": [
    "# build a dictionary where the key is a word in the GloVe vocab and the value is the embeddings array\n",
    "embeddings_index = {}\n",
    "glove_input_file = f'glove/glove.6B.{EMBED_DIM}d.txt'\n",
    "with open(glove_input_file) as glove_file:\n",
    "    for line in glove_file:\n",
    "        word, coefs = line.split(maxsplit=1)\n",
    "        coefs = np.fromstring(coefs, \"f\", sep=\" \")\n",
    "        embeddings_index[word] = coefs\n",
    "print(f'Loaded {len(embeddings_index)} word embeddings')"
   ]
  },
  {
   "cell_type": "code",
   "execution_count": 80,
   "id": "2e0eb358",
   "metadata": {},
   "outputs": [
    {
     "name": "stdout",
     "output_type": "stream",
     "text": [
      "Converted 2475 words (788 misses)\n"
     ]
    }
   ],
   "source": [
    "hits = 0\n",
    "misses = 0\n",
    "\n",
    "# create embedding matrix that contains the embeddings for each word in vocab (words not in vocab will be represented by numpy array of zeroes)\n",
    "embedding_matrix = np.zeros((num_tokens, EMBED_DIM))\n",
    "for word, index in word_index.items():\n",
    "    embed_vector = embeddings_index.get(word) # lookup word embedding in GloVe embeddings dictionary, word might not be in GloVe vocab so use get(word) instead of [word]\n",
    "    if embed_vector is not None:\n",
    "        embedding_matrix[index] = embed_vector\n",
    "        hits += 1\n",
    "    else:\n",
    "        misses += 1\n",
    "print(f'Converted {hits} words ({misses} misses)')"
   ]
  },
  {
   "cell_type": "markdown",
   "id": "521c979c",
   "metadata": {},
   "source": [
    "Unsurprisingly, we have a lot of words in the corpus that are not in the GloVe vocabulary. I suspect that many of these words are misspelled, abbreviated, slang, or are a special token like a phone number, dollar amount, email, etc. The number of missed words may impact the performance of the model. All tokens that are not matched to a member of the vocabulary are placed in an 'other' category."
   ]
  },
  {
   "cell_type": "markdown",
   "id": "5bf4ebdd",
   "metadata": {},
   "source": [
    "Now that we have an embedding matrix, we can use this matrix as the weights for an embedding layer in a neural network."
   ]
  },
  {
   "cell_type": "code",
   "execution_count": 122,
   "id": "fc4a4261",
   "metadata": {},
   "outputs": [],
   "source": [
    "NUM_FILTERS = 64\n",
    "KERNEL_SIZE = 7\n",
    "BATCH_SIZE = 64\n",
    "EPOCHS = 12\n",
    "NUM_CONV_BLOCKS = 3"
   ]
  },
  {
   "cell_type": "code",
   "execution_count": 123,
   "id": "f15827d0",
   "metadata": {},
   "outputs": [
    {
     "name": "stdout",
     "output_type": "stream",
     "text": [
      "Model: \"model_7\"\n",
      "_________________________________________________________________\n",
      "Layer (type)                 Output Shape              Param #   \n",
      "=================================================================\n",
      "Message input (InputLayer)   [(None, None)]            0         \n",
      "_________________________________________________________________\n",
      "Pretrained_embedding (Embedd (None, None, 100)         326300    \n",
      "_________________________________________________________________\n",
      "Conv1D_Block1 (Conv1D)       (None, None, 64)          44864     \n",
      "_________________________________________________________________\n",
      "MaxPool_Block1 (MaxPooling1D (None, None, 64)          0         \n",
      "_________________________________________________________________\n",
      "Conv1D_Block2 (Conv1D)       (None, None, 64)          28736     \n",
      "_________________________________________________________________\n",
      "MaxPool_Block2 (MaxPooling1D (None, None, 64)          0         \n",
      "_________________________________________________________________\n",
      "Conv1D_Block3 (Conv1D)       (None, None, 64)          28736     \n",
      "_________________________________________________________________\n",
      "MaxPool_Block3 (MaxPooling1D (None, None, 64)          0         \n",
      "_________________________________________________________________\n",
      "Final_Conv1D (Conv1D)        (None, None, 64)          28736     \n",
      "_________________________________________________________________\n",
      "Final_MaxPool (GlobalMaxPool (None, 64)                0         \n",
      "_________________________________________________________________\n",
      "Final_Dense (Dense)          (None, 64)                4160      \n",
      "_________________________________________________________________\n",
      "Dropout (Dropout)            (None, 64)                0         \n",
      "_________________________________________________________________\n",
      "Output (Dense)               (None, 1)                 65        \n",
      "=================================================================\n",
      "Total params: 461,597\n",
      "Trainable params: 135,297\n",
      "Non-trainable params: 326,300\n",
      "_________________________________________________________________\n"
     ]
    }
   ],
   "source": [
    "msg_input = Input(shape=(None,), dtype=\"int64\", name=\"Message input\")\n",
    "x = Embedding(num_tokens, \n",
    "                EMBED_DIM, \n",
    "                embeddings_initializer=tf.keras.initializers.Constant(embedding_matrix), \n",
    "                trainable=False, \n",
    "                name=\"Pretrained_embedding\")(msg_input)\n",
    "for i in range(NUM_CONV_BLOCKS):\n",
    "    x = Conv1D(NUM_FILTERS, KERNEL_SIZE, activation='relu', padding = 'same', name=f'Conv1D_Block{i+1}')(x)\n",
    "    x = MaxPooling1D(KERNEL_SIZE, name=f'MaxPool_Block{i+1}')(x)\n",
    "x = Conv1D(NUM_FILTERS, KERNEL_SIZE, activation='relu', name='Final_Conv1D')(x)\n",
    "x = GlobalMaxPooling1D(name='Final_MaxPool')(x)\n",
    "x = Dense(NUM_FILTERS, activation='relu', name='Final_Dense')(x)\n",
    "x = Dropout(0.3, name='Dropout')(x)\n",
    "output = Dense(1, activation='sigmoid', name='Output')(x)\n",
    "model = Model(msg_input, output)\n",
    "model.summary()"
   ]
  },
  {
   "cell_type": "markdown",
   "id": "dade09a2",
   "metadata": {},
   "source": [
    "We will use the Keras SensitivityAtSpecificity metric (documentation [here](https://keras.io/api/metrics/classification_metrics/#sensitivityatspecificity-class)) because it allows us to specify the percentage of true negatives that must be found (must be very high in our case since we cannot tolerate many false positives) while also maximizing the number of true positives."
   ]
  },
  {
   "cell_type": "code",
   "execution_count": 124,
   "id": "e0a95643",
   "metadata": {},
   "outputs": [],
   "source": [
    "specificity = 1 - MAX_FPR # correctly identified false negatives\n",
    "metric_name = \"sens_at_spec\"\n",
    "metric = tf.keras.metrics.SensitivityAtSpecificity(\n",
    "    specificity, num_thresholds=200, name=metric_name\n",
    ")\n",
    "model.compile(loss=\"binary_crossentropy\", optimizer=\"Adam\", metrics=[metric, \"acc\"])"
   ]
  },
  {
   "cell_type": "code",
   "execution_count": 125,
   "id": "de2d5b2e",
   "metadata": {
    "scrolled": false
   },
   "outputs": [
    {
     "name": "stdout",
     "output_type": "stream",
     "text": [
      "Epoch 1/12\n",
      "55/55 [==============================] - 57s 1s/step - loss: 0.6725 - sens_at_spec: 0.0075 - acc: 0.5838 - val_loss: 0.5060 - val_sens_at_spec: 0.0000e+00 - val_acc: 0.7871\n",
      "Epoch 2/12\n",
      "55/55 [==============================] - 53s 971ms/step - loss: 0.3150 - sens_at_spec: 0.0000e+00 - acc: 0.8834 - val_loss: 0.1539 - val_sens_at_spec: 0.3057 - val_acc: 0.9465\n",
      "Epoch 3/12\n",
      "55/55 [==============================] - 54s 988ms/step - loss: 0.1874 - sens_at_spec: 0.2021 - acc: 0.9321 - val_loss: 0.1312 - val_sens_at_spec: 0.7703 - val_acc: 0.9486\n",
      "Epoch 4/12\n",
      "55/55 [==============================] - 55s 1s/step - loss: 0.1375 - sens_at_spec: 0.0000e+00 - acc: 0.9496 - val_loss: 0.1022 - val_sens_at_spec: 0.7962 - val_acc: 0.9555\n",
      "Epoch 5/12\n",
      "55/55 [==============================] - 54s 978ms/step - loss: 0.1168 - sens_at_spec: 0.0000e+00 - acc: 0.9551 - val_loss: 0.0931 - val_sens_at_spec: 0.7677 - val_acc: 0.9637\n",
      "Epoch 6/12\n",
      "55/55 [==============================] - 53s 971ms/step - loss: 0.0835 - sens_at_spec: 0.6753 - acc: 0.9712 - val_loss: 0.0705 - val_sens_at_spec: 0.8282 - val_acc: 0.9780\n",
      "Epoch 7/12\n",
      "55/55 [==============================] - 53s 970ms/step - loss: 0.0677 - sens_at_spec: 0.7277 - acc: 0.9747 - val_loss: 0.0652 - val_sens_at_spec: 0.8411 - val_acc: 0.9819\n",
      "Epoch 8/12\n",
      "55/55 [==============================] - 55s 1s/step - loss: 0.0602 - sens_at_spec: 0.6753 - acc: 0.9787 - val_loss: 0.0503 - val_sens_at_spec: 0.8256 - val_acc: 0.9888\n",
      "Epoch 9/12\n",
      "55/55 [==============================] - 53s 975ms/step - loss: 0.0360 - sens_at_spec: 0.0000e+00 - acc: 0.9896 - val_loss: 0.0488 - val_sens_at_spec: 0.9171 - val_acc: 0.9888\n",
      "Epoch 10/12\n",
      "55/55 [==============================] - 54s 982ms/step - loss: 0.0291 - sens_at_spec: 0.9044 - acc: 0.9893 - val_loss: 0.0403 - val_sens_at_spec: 0.9568 - val_acc: 0.9927\n",
      "Epoch 11/12\n",
      "55/55 [==============================] - 55s 1s/step - loss: 0.0166 - sens_at_spec: 0.9781 - acc: 0.9951 - val_loss: 0.0355 - val_sens_at_spec: 0.9603 - val_acc: 0.9940\n",
      "Epoch 12/12\n",
      "55/55 [==============================] - 54s 982ms/step - loss: 0.0144 - sens_at_spec: 0.9718 - acc: 0.9968 - val_loss: 0.0398 - val_sens_at_spec: 0.9499 - val_acc: 0.9905\n"
     ]
    }
   ],
   "source": [
    "history = model.fit(X_train, y_train, batch_size=BATCH_SIZE, epochs=EPOCHS, validation_data=(X_val, y_val))"
   ]
  },
  {
   "cell_type": "code",
   "execution_count": 138,
   "id": "74bfa281",
   "metadata": {},
   "outputs": [
    {
     "name": "stdout",
     "output_type": "stream",
     "text": [
      "70/70 [==============================] - 8s 116ms/step\n"
     ]
    }
   ],
   "source": [
    "preds = model.predict(X_test, verbose = 1)"
   ]
  },
  {
   "cell_type": "code",
   "execution_count": 139,
   "id": "e2a85583",
   "metadata": {},
   "outputs": [],
   "source": [
    "for i in range(len(preds)):\n",
    "    if preds[i] < 0.5:\n",
    "        preds[i] = 0\n",
    "    else:\n",
    "        preds[i] = 1"
   ]
  },
  {
   "cell_type": "code",
   "execution_count": 140,
   "id": "852c60b4",
   "metadata": {},
   "outputs": [
    {
     "name": "stdout",
     "output_type": "stream",
     "text": [
      "              precision    recall  f1-score   support\n",
      "\n",
      "         ham       0.96      1.00      0.98      1930\n",
      "        spam       0.98      0.73      0.84       299\n",
      "\n",
      "    accuracy                           0.96      2229\n",
      "   macro avg       0.97      0.86      0.91      2229\n",
      "weighted avg       0.96      0.96      0.96      2229\n",
      "\n"
     ]
    },
    {
     "data": {
      "image/png": "[encoded data removed]",
      "text/plain": [
       "<Figure size 432x288 with 2 Axes>"
      ]
     },
     "metadata": {
      "needs_background": "light"
     },
     "output_type": "display_data"
    },
    {
     "name": "stdout",
     "output_type": "stream",
     "text": [
      "Blocked ham (false positive rate): 0.002072538860103627%\n",
      "Meets false positive threshold?  no\n",
      "Spam caught (true positive rate): 0.7290969899665551%\n",
      "F1 Beta Score:  0.9461677509158924\n"
     ]
    }
   ],
   "source": [
    "evaluate(preds)"
   ]
  },
  {
   "cell_type": "code",
   "execution_count": 129,
   "id": "00efc5fb",
   "metadata": {},
   "outputs": [
    {
     "data": {
      "image/png": "[encoded data removed]",
      "text/plain": [
       "<Figure size 432x288 with 2 Axes>"
      ]
     },
     "metadata": {
      "needs_background": "light"
     },
     "output_type": "display_data"
    }
   ],
   "source": [
    "# plot loss during training\n",
    "plt.subplot(211)\n",
    "plt.title('Loss')\n",
    "plt.plot(history.history['loss'], label='train')\n",
    "plt.plot(history.history['val_loss'], label='val')\n",
    "plt.legend()\n",
    "# plot accuracy during training\n",
    "plt.subplot(212)\n",
    "plt.title(metric_name)\n",
    "plt.plot(history.history[metric_name], label='train')\n",
    "plt.plot(history.history[f'val_{metric_name}'], label='val')\n",
    "plt.legend()\n",
    "plt.show()"
   ]
  },
  {
   "cell_type": "markdown",
   "id": "121cdc7f",
   "metadata": {},
   "source": [
    "With the pretrained embeddings and our CNN, we were able to catch ~73% of spam while classifying ~0.2% of legitimate messages as spam (around 1 in 500 messages). During training, we used the SensitivityAtSpecificy metric to evaluate how many true positives we can get with our threshold of false positives. Our model did very well on the training and validation sets (up to 0.96 sensitivity at our specificity threshold) but performed slightly worse on the test dataset. This may suggest that our model is overfitting and may be caused partially by the oversampling. However, I did try many different dataset and model configurations and the above model performed the best. As a result, I am not confident that this approach will beat our Naive Bayes model. "
   ]
  },
  {
   "cell_type": "markdown",
   "id": "0579ab67",
   "metadata": {},
   "source": [
    "## Modifying decision threshold"
   ]
  },
  {
   "cell_type": "markdown",
   "id": "79648535",
   "metadata": {},
   "source": [
    "Creating a model that has such a low rate of false positives is going to be extremely difficult using the default decision threshold for binary classification (0.5). We may be able to achieve our low rate of false positive by raising the threshold. In this section, we will start by exploring the probabilities given to the false positive examples using our optimized Naive Bayes model and then explore the effect of changing the threshold on the false and true positive rates."
   ]
  },
  {
   "cell_type": "markdown",
   "id": "450a4cbe",
   "metadata": {},
   "source": [
    "We first need to get back our optimized NB model. Note that we are still using RANDOM_STATE+1 in train_test_split because that holdout set resulted in false positives with our optimized NB model."
   ]
  },
  {
   "cell_type": "code",
   "execution_count": 124,
   "id": "7b8e51d5",
   "metadata": {},
   "outputs": [],
   "source": [
    "X_train, X_test, y_train, y_test = train_test_split(X, y, random_state = RANDOM_STATE+1, test_size = TEST_RATIO)"
   ]
  },
  {
   "cell_type": "code",
   "execution_count": 125,
   "id": "399ed085",
   "metadata": {},
   "outputs": [
    {
     "data": {
      "text/plain": [
       "Pipeline(steps=[('vect',\n",
       "                 CountVectorizer(lowercase=False, max_df=0.9, min_df=0.0005,\n",
       "                                 ngram_range=(1, 2), strip_accents='ascii')),\n",
       "                ('tfidf', TfidfTransformer()),\n",
       "                ('nb', MultinomialNB(alpha=0.25))])"
      ]
     },
     "execution_count": 125,
     "metadata": {},
     "output_type": "execute_result"
    }
   ],
   "source": [
    "# recreate pipeline with optimal hyperparameters\n",
    "spam_pipeline = Pipeline([('vect', CountVectorizer(lowercase=False, strip_accents='ascii', max_df=0.9, min_df=0.0005)),\n",
    "                          ('tfidf', TfidfTransformer()),\n",
    "                          ('nb', MultinomialNB()),])\n",
    "\n",
    "spam_pipeline.set_params(**gs_nb.best_params_)\n",
    "spam_pipeline.fit(X_train, y_train)"
   ]
  },
  {
   "cell_type": "code",
   "execution_count": 126,
   "id": "a1b8ffeb",
   "metadata": {},
   "outputs": [],
   "source": [
    "X_test_arr = np.asarray(X_test)\n",
    "y_test_arr = np.asarray(y_test)\n",
    "\n",
    "false_positives = []\n",
    "pos_conf = []\n",
    "\n",
    "for i in range(len(X_test_arr)):\n",
    "    item = np.asarray([X_test_arr[i]])\n",
    "    pred = spam_pipeline.predict(item)[0]\n",
    "    actual = y_test_arr[i]\n",
    "    \n",
    "    # only look at incorrect predictions\n",
    "    if not pred == actual:\n",
    "        # false positives\n",
    "        if pred == 1 and actual == 0:\n",
    "            false_positives.append(X_test_arr[i])\n",
    "            conf = spam_pipeline.predict_proba(item)[0][1] # get confidence in positive prediction\n",
    "            pos_conf.append(conf)"
   ]
  },
  {
   "cell_type": "code",
   "execution_count": 127,
   "id": "54ae2796",
   "metadata": {},
   "outputs": [
    {
     "name": "stdout",
     "output_type": "stream",
     "text": [
      "Number of false positives:  3\n",
      "False positives: \n",
      "0.\n",
      "\tMessage:  received understood acted upon\n",
      "\tConfidence:  0.596949574017098\n",
      "1.\n",
      "\tMessage:  nokia phone lovly\n",
      "\tConfidence:  0.7983643405913631\n",
      "2.\n",
      "\tMessage:  deleted contact\n",
      "\tConfidence:  0.5754456085425226\n"
     ]
    }
   ],
   "source": [
    "print('Number of false positives: ', len(false_positives))\n",
    "print('False positives: ')\n",
    "for i in range(len(false_positives)):\n",
    "    print(f'{i}.')\n",
    "    print('\\tMessage: ', false_positives[i])\n",
    "    print('\\tConfidence: ', pos_conf[i])"
   ]
  },
  {
   "cell_type": "markdown",
   "id": "5b26fc2e",
   "metadata": {},
   "source": [
    "From these results, we can see that the model is not very confident about two of the three false positives (~.57-.59 probability). It is somewhat confident about the other message (.798 probability of being spam) but the message is both cryptic and uses words that are often in spam messages. We could increase the threshold to 0.8 to eliminate all false positives from this hold out set but we would most likely reduce the number of true positives. Increasing the threshold to 0.6 would eliminate two of the three false positives and most likely retain most of the existing true positives. This might be acceptable if the remaining false positive is the only one remaining in the entire dataset (would need to check using cross validation). We will now explore the effect of different thresholds on the false and true positive rates:"
   ]
  },
  {
   "cell_type": "code",
   "execution_count": 128,
   "id": "804eb556",
   "metadata": {},
   "outputs": [
    {
     "data": {
      "text/plain": [
       "Pipeline(steps=[('vect',\n",
       "                 CountVectorizer(lowercase=False, max_df=0.9, min_df=0.0005,\n",
       "                                 ngram_range=(1, 2), strip_accents='ascii')),\n",
       "                ('tfidf', TfidfTransformer()),\n",
       "                ('nb', MultinomialNB(alpha=0.25))])"
      ]
     },
     "execution_count": 128,
     "metadata": {},
     "output_type": "execute_result"
    }
   ],
   "source": [
    "# recreate pipeline with optimal hyperparameters\n",
    "spam_pipeline = Pipeline([('vect', CountVectorizer(lowercase=False, strip_accents='ascii', max_df=0.9, min_df=0.0005)),\n",
    "                          ('tfidf', TfidfTransformer()),\n",
    "                          ('nb', MultinomialNB()),])\n",
    "\n",
    "spam_pipeline.set_params(**gs_nb.best_params_)"
   ]
  },
  {
   "cell_type": "code",
   "execution_count": 129,
   "id": "39375fa7",
   "metadata": {},
   "outputs": [],
   "source": [
    "# returns total true positives and false positives (for all folds) given a specific decision threshold\n",
    "# returnType can either be 'rate', which returns the true positive rate and the false positive rate, or 'num', which returns the total number of true positives versus the total number of false positives\n",
    "def nb_threshold_test(threshold, returnType = 'rate'):\n",
    "\n",
    "    # building custom cross validation so we can use predict_proba()\n",
    "    # we use Stratified K-fold so that we preserve the class imbalance that is present in the larger dataset\n",
    "    skf = StratifiedKFold(n_splits=CV_FOLDS)\n",
    "    \n",
    "    # variables to keep track of total TP & FP's (for 'num' returnType)\n",
    "    totalFP = 0\n",
    "    totalTP = 0\n",
    "    \n",
    "    # variables to keep track of sum of TP & FP rates (for 'rate' returnType)\n",
    "    TPRateSum = 0\n",
    "    FPRateSum = 0\n",
    "    \n",
    "    for train_index, test_index in skf.split(X, y):\n",
    "        # get subset dataframes\n",
    "        X_train_strat, X_test_strat = X[train_index], X[test_index]\n",
    "        y_train_strat, y_test_strat = y[train_index], y[test_index]\n",
    "\n",
    "        # fit on train set\n",
    "        spam_pipeline.fit(X_train_strat, y_train_strat)\n",
    "\n",
    "        # get predictions on test set based on probability\n",
    "        y_pred = (spam_pipeline.predict_proba(X_test_strat)[:,1] >= threshold).astype(float)\n",
    "        \n",
    "        # make sure we have the same number of predictions as labels\n",
    "        y_test_strat = np.asarray(y_test_strat)\n",
    "        if not len(y_pred) == len(y_test_strat):\n",
    "            raise\n",
    "        \n",
    "        # calculate false positives and true positives\n",
    "        numFP = 0\n",
    "        numTP = 0\n",
    "        for i in range(len(y_pred)):\n",
    "            if y_pred[i] == 1 and y_test_strat[i] == 1:\n",
    "                numTP += 1\n",
    "            elif y_pred[i] == 1 and y_test_strat[i] == 0:\n",
    "                numFP += 1\n",
    "\n",
    "        # update total TP & FP numbers\n",
    "        totalFP += numFP\n",
    "        totalTP += numTP\n",
    "        \n",
    "        # calculate TP rate and FP rate and update totals\n",
    "        TPRateSum += get_tpr(y_test_strat, y_pred)\n",
    "        FPRateSum += get_fpr(y_test_strat, y_pred)    \n",
    "    \n",
    "    if returnType == 'num':\n",
    "        return totalTP, totalFP\n",
    "    else:\n",
    "        # get average between folds\n",
    "        avgTPRate = TPRateSum / CV_FOLDS\n",
    "        avgFPRate = FPRateSum / CV_FOLDS\n",
    "        return avgTPRate, avgFPRate"
   ]
  },
  {
   "cell_type": "code",
   "execution_count": 130,
   "id": "69701c68",
   "metadata": {},
   "outputs": [
    {
     "data": {
      "text/plain": [
       "(0.8941834451901567, 0.0010362694300518134)"
      ]
     },
     "execution_count": 130,
     "metadata": {},
     "output_type": "execute_result"
    }
   ],
   "source": [
    "nb_threshold_test(0.5)"
   ]
  },
  {
   "cell_type": "code",
   "execution_count": 131,
   "id": "77159821",
   "metadata": {},
   "outputs": [
    {
     "data": {
      "text/plain": [
       "(0.7831140939597315, 0.0)"
      ]
     },
     "execution_count": 131,
     "metadata": {},
     "output_type": "execute_result"
    }
   ],
   "source": [
    "nb_threshold_test(0.9)"
   ]
  },
  {
   "cell_type": "markdown",
   "id": "8c2c76cf",
   "metadata": {},
   "source": [
    "Now that we have a function that can take a threshold and return true and false positive rates (or the total numbers of each), let's plot the results with various threshold values. We'll plot the true and false positive rates for values between 0.4 and 1 with a 0.025 step size."
   ]
  },
  {
   "cell_type": "code",
   "execution_count": 132,
   "id": "dc0523ac",
   "metadata": {},
   "outputs": [
    {
     "name": "stdout",
     "output_type": "stream",
     "text": [
      "Threshold: 0.4, True Positive Rate: 0.908903803131991, False Positive Rate: 0.0022797927461139893\n",
      "Threshold: 0.42500000000000004, True Positive Rate: 0.906228187919463, False Positive Rate: 0.002072538860103627\n",
      "Threshold: 0.45000000000000007, True Positive Rate: 0.9022102908277405, False Positive Rate: 0.001243523316062176\n",
      "Threshold: 0.4750000000000001, True Positive Rate: 0.8968501118568233, False Positive Rate: 0.0010362694300518134\n",
      "Threshold: 0.5000000000000001, True Positive Rate: 0.8941834451901567, False Positive Rate: 0.0010362694300518134\n",
      "Threshold: 0.5250000000000001, True Positive Rate: 0.8914988814317674, False Positive Rate: 0.0010362694300518134\n",
      "Threshold: 0.5500000000000002, True Positive Rate: 0.8848053691275167, False Positive Rate: 0.0010362694300518134\n",
      "Threshold: 0.5750000000000002, True Positive Rate: 0.8821297539149888, False Positive Rate: 0.0010362694300518134\n",
      "Threshold: 0.6000000000000002, True Positive Rate: 0.8741118568232661, False Positive Rate: 0.000621761658031088\n",
      "Threshold: 0.6250000000000002, True Positive Rate: 0.8660671140939599, False Positive Rate: 0.000621761658031088\n",
      "Threshold: 0.6500000000000002, True Positive Rate: 0.8660671140939599, False Positive Rate: 0.000621761658031088\n",
      "Threshold: 0.6750000000000003, True Positive Rate: 0.8660671140939599, False Positive Rate: 0.000621761658031088\n",
      "Threshold: 0.7000000000000003, True Positive Rate: 0.8647337807606263, False Positive Rate: 0.0004145077720207254\n",
      "Threshold: 0.7250000000000003, True Positive Rate: 0.8580313199105145, False Positive Rate: 0.0004145077720207254\n",
      "Threshold: 0.7500000000000003, True Positive Rate: 0.8473288590604027, False Positive Rate: 0.0002072538860103627\n",
      "Threshold: 0.7750000000000004, True Positive Rate: 0.8312662192393734, False Positive Rate: 0.0002072538860103627\n",
      "Threshold: 0.8000000000000004, True Positive Rate: 0.8232304250559285, False Positive Rate: 0.0002072538860103627\n",
      "Threshold: 0.8250000000000004, True Positive Rate: 0.8112125279642057, False Positive Rate: 0.0002072538860103627\n",
      "Threshold: 0.8500000000000004, True Positive Rate: 0.8031767337807606, False Positive Rate: 0.0\n",
      "Threshold: 0.8750000000000004, True Positive Rate: 0.7911230425055928, False Positive Rate: 0.0\n",
      "Threshold: 0.9000000000000005, True Positive Rate: 0.7831140939597315, False Positive Rate: 0.0\n",
      "Threshold: 0.9250000000000005, True Positive Rate: 0.7630514541387025, False Positive Rate: 0.0\n",
      "Threshold: 0.9500000000000005, True Positive Rate: 0.738944071588367, False Positive Rate: 0.0\n",
      "Threshold: 0.9750000000000005, True Positive Rate: 0.7027919463087249, False Positive Rate: 0.0\n"
     ]
    }
   ],
   "source": [
    "x = []\n",
    "true_pos_y = []\n",
    "false_pos_y = []\n",
    "\n",
    "for t in np.arange(0.4, 1, 0.025):\n",
    "    results = nb_threshold_test(t)\n",
    "    tpr = results[0]\n",
    "    fpr = results[1]\n",
    "    print('Threshold: {}, True Positive Rate: {}, False Positive Rate: {}'.format(t, tpr, fpr))\n",
    "    x.append(t)\n",
    "    true_pos_y.append(tpr)\n",
    "    false_pos_y.append(fpr)"
   ]
  },
  {
   "cell_type": "markdown",
   "id": "ad6875d0",
   "metadata": {},
   "source": [
    "We will have to plot them on different axes because the scales are so different."
   ]
  },
  {
   "cell_type": "code",
   "execution_count": 133,
   "id": "ae4c3e4f",
   "metadata": {},
   "outputs": [
    {
     "data": {
      "image/png": "[encoded data removed]",
      "text/plain": [
       "<Figure size 720x576 with 2 Axes>"
      ]
     },
     "metadata": {
      "needs_background": "light"
     },
     "output_type": "display_data"
    }
   ],
   "source": [
    "plt.rcParams['figure.figsize'] = [10, 8]\n",
    "\n",
    "plt.subplot(2, 1, 1)\n",
    "plt.title('Threshold vs True Positives')\n",
    "plt.plot(x, true_pos_y, label = \"True Positives\", color='green')\n",
    "plt.legend()\n",
    "\n",
    "plt.subplot(2, 1, 2)\n",
    "plt.title('Threshold vs False Positives')\n",
    "plt.plot(x, false_pos_y, label = \"False Positives\", color='red')\n",
    "plt.legend()\n",
    "\n",
    "plt.show()"
   ]
  },
  {
   "cell_type": "markdown",
   "id": "6f2027cb",
   "metadata": {},
   "source": [
    "These results demonstrate the tradeoff between true positives and false positives. We are able to satisfy our strict requirement around false positives by increasing our decision threshold. With a decision threshold of 0.85, we are able to eliminate all false positives in our dataset and we are able to catch ~80.3% of spam messages. The literature's best baseline model with a 0% false positive rate (indicated by 'BH' for blocked ham in the paper) is only able to detect ~54% of spam. Our model provides a ~26% improvement at catching spam over this baseline model while still keeping the blocked ham to zero. \n",
    "\n",
    "If we were to relax our requirement slightly on the false positive rate to 0.00021 (which equates to about 1 in every 4,762 ham messages being blocked), we would be able to increase the amount of spam we catch to ~84.7%. This solution would still block much less ham than the best baseline model in the literature (0.021% as opposed to 0.18%) and catches more spam (84.7% as opposed to 83.1%). \n",
    "\n",
    "However, I believe that a real spam detection solution *does* need to meet the strict false positive requirement outlined at the beginning of this notebook. Therefore, our best option so far is our optimized Naive Bayes classifier with a decision threshold of 0.85, which results in **no blocked ham** and **catches ~80.3% of spam**."
   ]
  }
 ],
 "metadata": {
  "kernelspec": {
   "display_name": "conda_python3",
   "language": "python",
   "name": "conda_python3"
  },
  "language_info": {
   "codemirror_mode": {
    "name": "ipython",
    "version": 3
   },
   "file_extension": ".py",
   "mimetype": "text/x-python",
   "name": "python",
   "nbconvert_exporter": "python",
   "pygments_lexer": "ipython3",
   "version": "3.6.13"
  }
 },
 "nbformat": 4,
 "nbformat_minor": 5
}

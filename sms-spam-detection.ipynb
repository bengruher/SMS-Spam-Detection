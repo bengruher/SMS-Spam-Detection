{
 "cells": [
  {
   "cell_type": "markdown",
   "id": "93970457",
   "metadata": {},
   "source": [
    "# SMS Spam Detection"
   ]
  },
  {
   "cell_type": "markdown",
   "id": "a1e348e5",
   "metadata": {},
   "source": [
    "Spam filtering using machine learning has become common among email providers. However, spam filtering of SMS text messages has not been widely implemented. A big reason for SMS to be lagging behind email in terms of spam filtering is the lack of a large, quality SMS text dataset. This dataset from UCI combines multiple different datasets together to provide an industry-leading SMS spam vs ham dataset.\n",
    "\n",
    "\n",
    "\n",
    "The data preprocessing steps that we intend to implement are:\n",
    "\n",
    "- Removing punctuation\n",
    "- Lowercase all words\n",
    "- Stemming/lemmatization\n",
    "- Removing stopwords (tentative - shown to potentially reduce performance of spam detection models)\n",
    "- Adding N-gram features\n",
    "- Bag of words\n",
    "- TF-IDF\n",
    "\n",
    "\n",
    "\n",
    "The algorithms that we intend to explore are:\n",
    "\n",
    "- Baseline (always guessing not-spam (referred to as Trivial Rejector in paper))\n",
    "- Naive Bayes (Multinomial?)\n",
    "- Support Vector Machines\n",
    "- CNN\n",
    "- RNN"
   ]
  },
  {
   "cell_type": "markdown",
   "id": "f8fa72fc",
   "metadata": {},
   "source": [
    "## Install and import libraries"
   ]
  },
  {
   "cell_type": "code",
   "execution_count": 531,
   "id": "8d571511",
   "metadata": {},
   "outputs": [],
   "source": [
    "import pandas as pd\n",
    "import numpy as np\n",
    "import os\n",
    "import matplotlib.pyplot as plt\n",
    "import seaborn as sns\n",
    "import nltk\n",
    "from nltk.corpus import stopwords\n",
    "import string\n",
    "import re\n",
    "from sklearn.feature_extraction.text import CountVectorizer\n",
    "from sklearn.feature_extraction.text import TfidfTransformer\n",
    "from sklearn.model_selection import train_test_split\n",
    "from sklearn.pipeline import Pipeline\n",
    "from sklearn import metrics\n",
    "from sklearn.metrics import fbeta_score\n",
    "from sklearn.metrics import confusion_matrix\n",
    "from sklearn.naive_bayes import MultinomialNB"
   ]
  },
  {
   "cell_type": "markdown",
   "id": "d0648e20",
   "metadata": {},
   "source": [
    "## Define constants"
   ]
  },
  {
   "cell_type": "code",
   "execution_count": 535,
   "id": "0c51fd9f",
   "metadata": {},
   "outputs": [],
   "source": [
    "DATA_LOC = 'data/SMSSpamCollection'\n",
    "TEST_RATIO = 0.4\n",
    "INSPECT_ROWS = 100 \n",
    "RANDOM_STATE = 12 # random value, this happens to be my favorite number\n",
    "F1_BETA = 0.5"
   ]
  },
  {
   "cell_type": "markdown",
   "id": "4450fd24",
   "metadata": {},
   "source": [
    "## Read data"
   ]
  },
  {
   "cell_type": "code",
   "execution_count": 420,
   "id": "02356dcb",
   "metadata": {},
   "outputs": [],
   "source": [
    "df = pd.read_csv(DATA_LOC, delimiter = '\\t', header = None, names = ['spam', 'message'])"
   ]
  },
  {
   "cell_type": "markdown",
   "id": "06a1fd25",
   "metadata": {},
   "source": [
    "## Exploratory Data Analysis"
   ]
  },
  {
   "cell_type": "code",
   "execution_count": 421,
   "id": "380d5a52",
   "metadata": {},
   "outputs": [
    {
     "data": {
      "text/html": [
       "<div>\n",
       "<style scoped>\n",
       "    .dataframe tbody tr th:only-of-type {\n",
       "        vertical-align: middle;\n",
       "    }\n",
       "\n",
       "    .dataframe tbody tr th {\n",
       "        vertical-align: top;\n",
       "    }\n",
       "\n",
       "    .dataframe thead th {\n",
       "        text-align: right;\n",
       "    }\n",
       "</style>\n",
       "<table border=\"1\" class=\"dataframe\">\n",
       "  <thead>\n",
       "    <tr style=\"text-align: right;\">\n",
       "      <th></th>\n",
       "      <th>spam</th>\n",
       "      <th>message</th>\n",
       "    </tr>\n",
       "  </thead>\n",
       "  <tbody>\n",
       "    <tr>\n",
       "      <th>0</th>\n",
       "      <td>ham</td>\n",
       "      <td>Go until jurong point, crazy.. Available only ...</td>\n",
       "    </tr>\n",
       "    <tr>\n",
       "      <th>1</th>\n",
       "      <td>ham</td>\n",
       "      <td>Ok lar... Joking wif u oni...</td>\n",
       "    </tr>\n",
       "    <tr>\n",
       "      <th>2</th>\n",
       "      <td>spam</td>\n",
       "      <td>Free entry in 2 a wkly comp to win FA Cup fina...</td>\n",
       "    </tr>\n",
       "    <tr>\n",
       "      <th>3</th>\n",
       "      <td>ham</td>\n",
       "      <td>U dun say so early hor... U c already then say...</td>\n",
       "    </tr>\n",
       "    <tr>\n",
       "      <th>4</th>\n",
       "      <td>ham</td>\n",
       "      <td>Nah I don't think he goes to usf, he lives aro...</td>\n",
       "    </tr>\n",
       "    <tr>\n",
       "      <th>5</th>\n",
       "      <td>spam</td>\n",
       "      <td>FreeMsg Hey there darling it's been 3 week's n...</td>\n",
       "    </tr>\n",
       "    <tr>\n",
       "      <th>6</th>\n",
       "      <td>ham</td>\n",
       "      <td>Even my brother is not like to speak with me. ...</td>\n",
       "    </tr>\n",
       "    <tr>\n",
       "      <th>7</th>\n",
       "      <td>ham</td>\n",
       "      <td>As per your request 'Melle Melle (Oru Minnamin...</td>\n",
       "    </tr>\n",
       "    <tr>\n",
       "      <th>8</th>\n",
       "      <td>spam</td>\n",
       "      <td>WINNER!! As a valued network customer you have...</td>\n",
       "    </tr>\n",
       "    <tr>\n",
       "      <th>9</th>\n",
       "      <td>spam</td>\n",
       "      <td>Had your mobile 11 months or more? U R entitle...</td>\n",
       "    </tr>\n",
       "  </tbody>\n",
       "</table>\n",
       "</div>"
      ],
      "text/plain": [
       "   spam                                            message\n",
       "0   ham  Go until jurong point, crazy.. Available only ...\n",
       "1   ham                      Ok lar... Joking wif u oni...\n",
       "2  spam  Free entry in 2 a wkly comp to win FA Cup fina...\n",
       "3   ham  U dun say so early hor... U c already then say...\n",
       "4   ham  Nah I don't think he goes to usf, he lives aro...\n",
       "5  spam  FreeMsg Hey there darling it's been 3 week's n...\n",
       "6   ham  Even my brother is not like to speak with me. ...\n",
       "7   ham  As per your request 'Melle Melle (Oru Minnamin...\n",
       "8  spam  WINNER!! As a valued network customer you have...\n",
       "9  spam  Had your mobile 11 months or more? U R entitle..."
      ]
     },
     "execution_count": 421,
     "metadata": {},
     "output_type": "execute_result"
    }
   ],
   "source": [
    "df.head(10)"
   ]
  },
  {
   "cell_type": "markdown",
   "id": "828352f2",
   "metadata": {},
   "source": [
    "Right off the bat, I'm noticing that spam messages may have all capital words, such as \"WINNER\", that might be indicative of spam. My original plan was to lowercase all words but that may be detrimental to the results. On the other hand, not lowercasing the word will cause words like \"Winner\" and \"winner\" to be considered different tokens."
   ]
  },
  {
   "cell_type": "markdown",
   "id": "904384de",
   "metadata": {},
   "source": [
    "#### Check for missing values"
   ]
  },
  {
   "cell_type": "code",
   "execution_count": 422,
   "id": "f7de4502",
   "metadata": {},
   "outputs": [
    {
     "data": {
      "text/plain": [
       "spam       0\n",
       "message    0\n",
       "dtype: int64"
      ]
     },
     "execution_count": 422,
     "metadata": {},
     "output_type": "execute_result"
    }
   ],
   "source": [
    "df.isna().sum()"
   ]
  },
  {
   "cell_type": "markdown",
   "id": "2c80f4e5",
   "metadata": {},
   "source": [
    "As expected, there are no missing values. This is good."
   ]
  },
  {
   "cell_type": "markdown",
   "id": "6784f24e",
   "metadata": {},
   "source": [
    "#### Inspect class distribution"
   ]
  },
  {
   "cell_type": "code",
   "execution_count": 423,
   "id": "bfe5ba36",
   "metadata": {},
   "outputs": [
    {
     "data": {
      "text/plain": [
       "ham     4825\n",
       "spam     747\n",
       "Name: spam, dtype: int64"
      ]
     },
     "execution_count": 423,
     "metadata": {},
     "output_type": "execute_result"
    }
   ],
   "source": [
    "df.spam.value_counts()"
   ]
  },
  {
   "cell_type": "code",
   "execution_count": 424,
   "id": "207ef719",
   "metadata": {},
   "outputs": [
    {
     "data": {
      "text/plain": [
       "ham     86.593683\n",
       "spam    13.406317\n",
       "Name: spam, dtype: float64"
      ]
     },
     "execution_count": 424,
     "metadata": {},
     "output_type": "execute_result"
    }
   ],
   "source": [
    "# class breakdown in percentage form\n",
    "df.spam.value_counts() / len(df) * 100"
   ]
  },
  {
   "cell_type": "markdown",
   "id": "217e57c3",
   "metadata": {},
   "source": [
    "This class breakdown matches the dataset description. There is an obvious heavy bias towards ham (non-spam) messages. 86.6% of messages are ham and only 13.4% are spam. This is somewhat realistic, since the majority of messages are ham."
   ]
  },
  {
   "cell_type": "markdown",
   "id": "7c70560a",
   "metadata": {},
   "source": [
    "#### Visually inspect ham messages"
   ]
  },
  {
   "cell_type": "code",
   "execution_count": 425,
   "id": "125e8545",
   "metadata": {},
   "outputs": [
    {
     "name": "stdout",
     "output_type": "stream",
     "text": [
      "I am not sure about night menu. . . I know only about noon menu\n",
      "If you ask her or she say any please message.\n",
      "K..k.:)congratulation ..\n",
      "I have a sore throat. It's scratches when I talk\n",
      "Im cool ta luv but v.tired 2 cause i have been doin loads of planning all wk, we have got our social services inspection at the nursery! Take care & spk sn x.\n",
      "Uh, heads up we don't have THAT much left\n",
      "Pls send me your address sir.\n",
      "Dude u knw also telugu..thts gud..k, gud nyt..\n",
      "Got it. Seventeen pounds for seven hundred ml – hope ok.\n",
      "I didnt get ur full msg..sometext is missing, send it again\n",
      "Haven't seen my facebook, huh? Lol!\n",
      "Only just got this message, not ignoring you. Yes, i was. Shopping that is\n",
      "Also remember the beads don't come off. Ever.\n",
      "He needs to stop going to bed and make with the fucking dealing\n",
      "K, wen ur free come to my home and also tel vikky i hav sent mail to him also.. Better come evening il be free today aftr 6pm..:-)\n",
      "SYMPTOMS when U are in love: \"1.U like listening songs 2.U get stopped where u see the name of your beloved 3.U won't get angry when your\n",
      "Hi here. have birth at on the  to  at 8lb 7oz. Mother and baby doing brilliantly.\n",
      "I'm ok wif it cos i like 2 try new things. But i scared u dun like mah. Cos u said not too loud.\n",
      "Tick, tick, tick .... Where are you ? I could die of loneliness you know ! *pouts* *stomps feet* I need you ...\n",
      "Sorry vikky, i'm Watching olave mandara movie kano in trishul theatre wit my frnds..\n",
      "Okie...\n",
      "If you want to mapquest it or something look up \"usf dogwood drive\", that's the tiny street where the parking lot is\n",
      "HI DARLIN IVE JUST GOT BACK AND I HAD A REALLY NICE NIGHT AND THANKS SO MUCH FOR THE LIFT SEE U TOMORROW XXX\n",
      "Lol no. I just need to cash in my nitros. Hurry come on before I crash out!\n",
      "Wow so healthy. Old airport rd lor. Cant thk of anything else. But i'll b bathing my dog later.\n",
      "If you r @ home then come down within 5 min\n",
      "Go until jurong point, crazy.. Available only in bugis n great world la e buffet... Cine there got amore wat...\n",
      "I'm always on yahoo messenger now. Just send the message to me and i.ll get it you may have to send it in the mobile mode sha but i.ll get it. And will reply.\n",
      "Lmao. Take a pic and send it to me.\n",
      "Even my brother is not like to speak with me. They treat me like aids patent.\n",
      "Aight fuck it, I'll get it later\n",
      "I told her I had a Dr appt next week. She thinks I'm gonna die. I told her its just a check. Nothing to be worried about. But she didn't listen.\n",
      "Haha get used to driving to usf man, I know a lot of stoners\n",
      "ER, ENJOYIN INDIANS AT THE MO..yeP. SaLL gOoD HehE ;> hows bout u shexy? Pete Xx\n",
      "Have you had a good day? Mine was really busy are you up to much tomorrow night?\n",
      "U 2.\n",
      "This pay is  &lt;DECIMAL&gt;  lakhs:)\n",
      "How much is blackberry bold2 in nigeria.\n",
      "I wont get concentration dear you know you are my mind and everything :-)\n",
      "K I'll be there before 4.\n",
      "Hey! There's veggie pizza... :/\n",
      "Anyway holla at me whenever you're around because I need an excuse to go creep on people in sarasota\n",
      "Argh why the fuck is nobody in town ;_;\n",
      "I think your mentor is , but not 100 percent sure.\n",
      "Let's pool our money together and buy a bunch of lotto tickets. If we win I get &lt;#&gt; % u get &lt;#&gt; %. Deal?\n",
      "You didnt complete your gist oh.\n",
      "NOT MUCH NO FIGHTS. IT WAS A GOOD NITE!!\n",
      "Actually nvm, got hella cash, we still on for  &lt;#&gt; ish?\n",
      "Thats cool. i am a gentleman and will treat you with dignity and respect.\n",
      "I will come with karnan car. Please wait till 6pm will directly goto doctor.\n",
      "U still painting ur wall?\n",
      "I tot it's my group mate... Lucky i havent reply... Wat time do ü need to leave... \n",
      "Bull. Your plan was to go floating off to IKEA with me without a care in the world. So i have to live with your mess another day.\n",
      "Ups which is 3days also, and the shipping company that takes 2wks. The other way is usps which takes a week but when it gets to lag you may have to bribe nipost to get your stuff.\n",
      "Sorry, I'll call later\n",
      "I am on the way to ur home\n",
      "I'm on the bus. Love you\n",
      "My stomach has been thru so much trauma I swear I just can't eat. I better lose weight.\n",
      "Ard 6 like dat lor.\n",
      "I tagged MY friends that you seemed to count as YOUR friends.\n",
      "I am going to sleep. I am tired of travel.\n",
      "Easy ah?sen got selected means its good..\n",
      "Well keep in mind I've only got enough gas for one more round trip barring a sudden influx of cash\n",
      "Hi Princess! Thank you for the pics. You are very pretty. How are you?\n",
      "Storming msg: Wen u lift d phne, u say \"HELLO\" Do u knw wt is d real meaning of HELLO?? . . . It's d name of a girl..! . . . Yes.. And u knw who is dat girl?? \"Margaret Hello\" She is d girlfrnd f Grahmbell who invnted telphone... . . . . Moral:One can 4get d name of a person, bt not his girlfrnd... G o o d n i g h t . . .@\n",
      "Gimme a few was  &lt;#&gt;  minutes ago\n",
      "Small problem in auction:)punj now asking tiwary\n",
      "Hmm ill have to think about it... ok you're forgiven! =D\n",
      "THANX 4 PUTTIN DA FONE DOWN ON ME!!\n",
      "Just wondering, the others just took off\n",
      "Sorry, I'll call later\n",
      "Printer is cool. I mean groovy. Wine is groovying\n",
      "Yup\n",
      "if you aren't here in the next  &lt;#&gt;  hours imma flip my shit\n",
      "Wat makes some people dearer is not just de happiness dat u feel when u meet them but de pain u feel when u miss dem!!!\n",
      "No break time one... How... I come out n get my stuff fr ü?\n",
      "I was wondering if it would be okay for you to call uncle john and let him know that things are not the same in nigeria as they r here. That  &lt;#&gt;  dollars is 2years sent and that you know its a strain but i plan to pay back every dime he gives. Every dime so for me to expect anything from you is not practical. Something like that.\n",
      "I'm in a meeting, call me later at\n",
      "No go. No openings for that room 'til after thanksgiving without an upcharge.\n",
      "And maybe some pressies\n",
      "Yo, you gonna still be in stock tomorrow/today? I'm trying to get a dubsack\n",
      "Whatsup there. Dont u want to sleep\n",
      "Okay same with me. Well thanks for the clarification\n",
      "What you did in  leave.\n",
      "R u still working now?\n",
      "Yeah so basically any time next week you can get away from your mom &amp; get up before 3\n",
      "Dude we should go sup again\n",
      "How's my loverboy doing ? What does he do that keeps him from coming to his Queen, hmmm ? Doesn't he ache to speak to me ? Miss me desparately ?\n",
      "Yes princess! I want to catch you with my big strong hands...\n",
      "Don know:)this week i'm going to tirunelvai da.\n",
      "Hiya. How was last night? I've been naughty and bought myself clothes and very little ... Ready for more shopping tho! What kind of time do you wanna meet?\n",
      "CHEERS U TEX MECAUSE U WEREBORED! YEAH OKDEN HUNNY R UIN WK SAT?SOUNDS LIKEYOUR HAVIN GR8FUN J! KEEP UPDAT COUNTINLOTS OF LOVEME XXXXX.\n",
      "Hey elaine, is today's meeting still on?\n",
      "Looks like you found something to do other than smoke, great job!\n",
      "* Thought I didn't see you.\n",
      "I pocked you up there before\n",
      "One of best dialogue in cute reltnship..!! \"Wen i Die, Dont Come Near My Body..!! Bcoz My Hands May Not Come 2 Wipe Ur Tears Off That Time..!Gud ni8\n",
      "Lol I would but despite these cramps I like being a girl.\n",
      "Nah I don't think he goes to usf, he lives around here though\n",
      "Mon okie lor... Haha, best is cheap n gd food la, ex oso okie... Depends on whether wana eat western or chinese food... Den which u prefer... \n"
     ]
    }
   ],
   "source": [
    "for index, row in df[df['spam'] == 'ham'].sample(INSPECT_ROWS, random_state = RANDOM_STATE).iterrows():\n",
    "    print(row['message'])"
   ]
  },
  {
   "cell_type": "markdown",
   "id": "f93e07d0",
   "metadata": {},
   "source": [
    "These messages are primarily from the UK, so the English is not typical for me and there are a lot of different spellings. That being said, there are still some obvious mispellings, such as \"womdarfull\", \"frndsship\", etc. There is also a lot of slang/shorthand, such as \"b'day\", \"gr8\", \"K\", \"Dis\", \"thx\", etc. There are also abbreviations such as \"LOL\". There are also some messages in other languages. I'm also noticing some weird characters, such as \"`&lt; #&gt;`\" indicating that the less-than and great-than symbols were used. \n",
    "\n",
    "In addition, after futher inspection of ham messages, I'm rethinking the idea to preserve capitalization. There are several ham messages that contain heavy capitalization as well, which means that capitalization is not necessarily and indication of spam and adding those words as special tokens may add unnecessary features or noise to the dataset. It may be interesting, however, to explore the correlation between the position of those capital letters within the message to the spam/ham label.\n",
    "\n",
    "There is also punctuation that tends to be more indicative of a ham message, such as a smiley face :) or :-). I think preserving these types of symbols and punctuation marks might be valuable for the model. "
   ]
  },
  {
   "cell_type": "markdown",
   "id": "08c2c592",
   "metadata": {},
   "source": [
    "#### Visually inspect ham messages"
   ]
  },
  {
   "cell_type": "code",
   "execution_count": 426,
   "id": "4a3dabb2",
   "metadata": {},
   "outputs": [
    {
     "name": "stdout",
     "output_type": "stream",
     "text": [
      "SMS SERVICES For your inclusive text credits pls gotto www.comuk.net login 3qxj9 unsubscribe with STOP no extra charge help 08702840625 comuk.220cm2 9AE\n",
      "Congrats! 1 year special cinema pass for 2 is yours. call 09061209465 now! C Suprman V, Matrix3, StarWars3, etc all 4 FREE! bx420-ip4-5we. 150pm. Dont miss out! \n",
      "tddnewsletter@emc1.co.uk (More games from TheDailyDraw) Dear Helen, Dozens of Free Games - with great prizesWith..\n",
      "FreeMsg Today's the day if you are ready! I'm horny & live in your town. I love sex fun & games! Netcollex Ltd 08700621170150p per msg reply Stop to end\n",
      "YOUR CHANCE TO BE ON A REALITY FANTASY SHOW call now = 08707509020 Just 20p per min NTT Ltd, PO Box 1327 Croydon CR9 5WB 0870 is a national = rate call\n",
      "FreeMsg Hey U, i just got 1 of these video/pic fones, reply WILD to this txt & ill send U my pics, hurry up Im so bored at work xxx (18 150p/rcvd STOP2stop)\n",
      "Want 2 get laid tonight? Want real Dogging locations sent direct 2 ur mob? Join the UK's largest Dogging Network bt Txting GRAVEL to 69888! Nt. ec2a. 31p.msg@150p\n",
      "Send a logo 2 ur lover - 2 names joined by a heart. Txt LOVE NAME1 NAME2 MOBNO eg LOVE ADAM EVE 07123456789 to 87077 Yahoo! POBox36504W45WQ TxtNO 4 no ads 150p.\n",
      "URGENT! Your Mobile No 07808726822 was awarded a £2,000 Bonus Caller Prize on 02/09/03! This is our 2nd attempt to contact YOU! Call 0871-872-9758 BOX95QU\n",
      "URGENT! You have won a 1 week FREE membership in our £100,000 Prize Jackpot! Txt the word: CLAIM to No: 81010 T&C www.dbuk.net LCCLTD POBOX 4403LDNW1A7RW18\n",
      "Buy Space Invaders 4 a chance 2 win orig Arcade Game console. Press 0 for Games Arcade (std WAP charge) See o2.co.uk/games 4 Terms + settings. No purchase\n",
      "Congratulations ur awarded 500 of CD vouchers or 125gift guaranteed & Free entry 2 100 wkly draw txt MUSIC to 87066\n",
      "Oh my god! I've found your number again! I'm so glad, text me back xafter this msgs cst std ntwk chg £1.50\n",
      "U have a secret admirer who is looking 2 make contact with U-find out who they R*reveal who thinks UR so special-call on 09058094599\n",
      "Hi I'm sue. I am 20 years old and work as a lapdancer. I love sex. Text me live - I'm i my bedroom now. text SUE to 89555. By TextOperator G2 1DA 150ppmsg 18+\n",
      "Ur balance is now £600. Next question: Complete the landmark, Big, A. Bob, B. Barry or C. Ben ?. Text A, B or C to 83738. Good luck!\n",
      "Goal! Arsenal 4 (Henry, 7 v Liverpool 2 Henry scores with a simple shot from 6 yards from a pass by Bergkamp to give Arsenal a 2 goal margin after 78 mins.\n",
      "URGENT! Your Mobile number has been awarded a <UKP>2000 prize GUARANTEED. Call 09061790125 from landline. Claim 3030. Valid 12hrs only 150ppm\n",
      "Get 3 Lions England tone, reply lionm 4 mono or lionp 4 poly. 4 more go 2 www.ringtones.co.uk, the original n best. Tones 3GBP network operator rates apply\n",
      "HMV BONUS SPECIAL 500 pounds of genuine HMV vouchers to be won. Just answer 4 easy questions. Play Now! Send HMV to 86688 More info:www.100percent-real.com\n",
      "449050000301 You have won a £2,000 price! To claim, call 09050000301.\n",
      "Did you hear about the new \"Divorce Barbie\"? It comes with all of Ken's stuff!\n",
      "Moby Pub Quiz.Win a £100 High Street prize if u know who the new Duchess of Cornwall will be? Txt her first name to 82277.unsub STOP £1.50 008704050406 SP Arrow\n",
      "U have a secret admirer. REVEAL who thinks U R So special. Call 09065174042. To opt out Reply REVEAL STOP. 1.50 per msg recd. Cust care 07821230901\n",
      "URGENT We are trying to contact you Last weekends draw shows u have won a £1000 prize GUARANTEED Call 09064017295 Claim code K52 Valid 12hrs 150p pm\n",
      "Loan for any purpose £500 - £75,000. Homeowners + Tenants welcome. Have you been previously refused? We can still help. Call Free 0800 1956669 or text back 'help'\n",
      "PRIVATE! Your 2003 Account Statement for <fone no> shows 800 un-redeemed S. I. M. points. Call 08715203656 Identifier Code: 42049 Expires 26/10/04\n",
      "Sppok up ur mob with a Halloween collection of nokia logo&pic message plus a FREE eerie tone, txt CARD SPOOK to 8007\n",
      "Hope you enjoyed your new content. text stop to 61610 to unsubscribe. help:08712400602450p Provided by tones2you.co.uk\n",
      "Camera - You are awarded a SiPix Digital Camera! call 09061221066 fromm landline. Delivery within 28 days.\n",
      "Twinks, bears, scallies, skins and jocks are calling now. Don't miss the weekend's fun. Call 08712466669 at 10p/min. 2 stop texts call 08712460324(nat rate)\n",
      "URGENT! We are trying to contact U. Todays draw shows that you have won a £800 prize GUARANTEED. Call 09050003091 from land line. Claim C52. Valid 12hrs only\n",
      "Today's Offer! Claim ur £150 worth of discount vouchers! Text YES to 85023 now! SavaMob, member offers mobile! T Cs 08717898035. £3.00 Sub. 16 . Unsub reply X\n",
      "Your B4U voucher w/c 27/03 is MARSMS. Log onto www.B4Utele.com for discount credit. To opt out reply stop. Customer care call 08717168528\n",
      "Free entry to the gr8prizes wkly comp 4 a chance to win the latest Nokia 8800, PSP or £250 cash every wk.TXT GREAT to 80878 http//www.gr8prizes.com 08715705022\n",
      "wamma get laid?want real doggin locations sent direct to your mobile? join the UKs largest dogging network. txt dogs to 69696 now!nyt. ec2a. 3lp £1.50/msg.\n",
      "Congrats! 2 mobile 3G Videophones R yours. call 09063458130 now! videochat wid your mates, play java games, Dload polyPH music, noline rentl.\n",
      "GSOH? Good with SPAM the ladies?U could b a male gigolo? 2 join the uk's fastest growing mens club reply ONCALL. mjzgroup. 08714342399.2stop reply STOP. msg@£1.50rcvd\n",
      "+123 Congratulations - in this week's competition draw u have won the £1450 prize to claim just call 09050002311 b4280703. T&Cs/stop SMS 08718727868. Over 18 only 150ppm\n",
      "Shop till u Drop, IS IT YOU, either 10K, 5K, £500 Cash or £100 Travel voucher, Call now, 09064011000. NTT PO Box CR01327BT fixedline Cost 150ppm mobile vary\n",
      "You have won a Nokia 7250i. This is what you get when you win our FREE auction. To take part send Nokia to 86021 now. HG/Suite342/2Lands Row/W1JHL 16+\n",
      "Double mins and txts 4 6months FREE Bluetooth on Orange. Available on Sony, Nokia Motorola phones. Call MobileUpd8 on 08000839402 or call2optout/N9DX\n",
      "XCLUSIVE@CLUBSAISAI 2MOROW 28/5 SOIREE SPECIALE ZOUK WITH NICHOLS FROM PARIS.FREE ROSES 2 ALL LADIES !!! info: 07946746291/07880867867 \n",
      "FREE2DAY sexy St George's Day pic of Jordan!Txt PIC to 89080 dont miss out, then every wk a saucy celeb!4 more pics c PocketBabe.co.uk 0870241182716 £3/wk\n",
      "Sunshine Hols. To claim ur med holiday send a stamped self address envelope to Drinks on Us UK, PO Box 113, Bray, Wicklow, Eire. Quiz Starts Saturday! Unsub Stop\n",
      "Want to funk up ur fone with a weekly new tone reply TONES2U 2 this text. www.ringtones.co.uk, the original n best. Tones 3GBP network operator rates apply\n",
      "<Forwarded from 21870000>Hi - this is your Mailbox Messaging SMS alert. You have 40 matches. Please call back on 09056242159 to retrieve your messages and matches cc100p/min\n",
      "HOT LIVE FANTASIES call now 08707509020 Just 20p per min NTT Ltd, PO Box 1327 Croydon CR9 5WB 0870 is a national rate call\n",
      "Urgent -call 09066649731from Landline. Your complimentary 4* Ibiza Holiday or £10,000 cash await collection SAE T&Cs PO BOX 434 SK3 8WP 150ppm 18+\n",
      "Thanks for your ringtone order, reference number X29. Your mobile will be charged 4.50. Should your tone not arrive please call customer services 09065989180\n",
      "08714712388 between 10am-7pm Cost 10p\n",
      "Congrats 2 mobile 3G Videophones R yours. call 09063458130 now! videochat wid ur mates, play java games, Dload polypH music, noline rentl. bx420. ip4. 5we. 150p\n",
      "Someone U know has asked our dating service 2 contact you! Cant Guess who? CALL 09058097189 NOW all will be revealed. POBox 6, LS15HB 150p \n",
      "important information 4 orange user . today is your lucky day!2find out why log onto http://www.urawinner.com THERE'S A FANTASTIC SURPRISE AWAITING YOU!\n",
      "Natalie (20/F) is inviting you to be her friend. Reply YES-165 or NO-165 See her: www.SMS.ac/u/natalie2k9 STOP? Send STOP FRND to 62468\n",
      "Eerie Nokia tones 4u, rply TONE TITLE to 8007 eg TONE DRACULA to 8007 Titles: GHOST, ADDAMSFA, MUNSTERS, EXORCIST, TWILIGHT www.getzed.co.uk POBox36504W45WQ 150p\n",
      "Sunshine Quiz Wkly Q! Win a top Sony DVD player if u know which country the Algarve is in? Txt ansr to 82277. £1.50 SP:Tyrone\n",
      "from www.Applausestore.com MonthlySubscription@50p/msg max6/month T&CsC web age16 2stop txt stop\n",
      "500 free text msgs. Just text ok to 80488 and we'll credit your account\n",
      "Double mins and txts 4 6months FREE Bluetooth on Orange. Available on Sony, Nokia Motorola phones. Call MobileUpd8 on 08000839402 or call2optout/N9DX\n",
      "You won't believe it but it's true. It's Incredible Txts! Reply G now to learn truly amazing things that will blow your mind. From O2FWD only 18p/txt\n",
      "Bored of speed dating? Try SPEEDCHAT, txt SPEEDCHAT to 80155, if you don't like em txt SWAP and get a new chatter! Chat80155 POBox36504W45WQ 150p/msg rcd 16\n",
      "Todays Voda numbers ending 1225 are selected to receive a £50award. If you have a match please call 08712300220 quoting claim code 3100 standard rates app \n",
      "Do you want a new Video handset? 750 any time any network mins? UNLIMITED TEXT? Camcorder? Reply or Call now 08000930705 for del Sat AM\n",
      "FreeMsg: Txt: CALL to No: 86888 & claim your reward of 3 hours talk time to use from your phone now! Subscribe6GBP/mnth inc 3hrs 16 stop?txtStop\n",
      "Ur cash-balance is currently 500 pounds - to maximize ur cash-in now send COLLECT to 83600 only 150p/msg. CC: 08718720201 PO BOX 114/14 TCR/W1\n",
      "Text & meet someone sexy today. U can find a date or even flirt its up to U. Join 4 just 10p. REPLY with NAME & AGE eg Sam 25. 18 -msg recd@thirtyeight pence\n",
      "URGENT! We are trying to contact you. Last weekends draw shows that you have won a £900 prize GUARANTEED. Call 09061701851. Claim code K61. Valid 12hours only\n",
      "For ur chance to win £250 cash every wk TXT: PLAY to 83370. T's&C's www.music-trivia.net custcare 08715705022, 1x150p/wk.\n",
      "Back 2 work 2morro half term over! Can U C me 2nite 4 some sexy passion B4 I have 2 go back? Chat NOW 09099726481 Luv DENA Calls £1/minMobsmoreLKPOBOX177HP51FL\n",
      "HOT LIVE FANTASIES call now 08707509020 Just 20p per min NTT Ltd, PO Box 1327 Croydon CR9 5WB 0870 is a national rate call\n",
      "100 dating service cal;l 09064012103 box334sk38ch\n",
      "FREE NOKIA Or Motorola with upto 12mths 1/2price linerental, 500 FREE x-net mins&100txt/mth FREE B'tooth*. Call Mobileupd8 on 08001950382 or call 2optout/D3WV\n",
      "HMV BONUS SPECIAL 500 pounds of genuine HMV vouchers to be won. Just answer 4 easy questions. Play Now! Send HMV to 86688 More info:www.100percent-real.com\n",
      "Congrats! Nokia 3650 video camera phone is your Call 09066382422 Calls cost 150ppm Ave call 3mins vary from mobiles 16+ Close 300603 post BCM4284 Ldn WC1N3XX\n",
      "Hey Boys. Want hot XXX pics sent direct 2 ur phone? Txt PORN to 69855, 24Hrs free and then just 50p per day. To stop text STOPBCM SF WC1N3XX\n",
      "RCT' THNQ Adrian for U text. Rgds Vatian\n",
      "PRIVATE! Your 2003 Account Statement for 07815296484 shows 800 un-redeemed S.I.M. points. Call 08718738001 Identifier Code 41782 Expires 18/11/04 \n",
      "Had your mobile 11mths ? Update for FREE to Oranges latest colour camera mobiles & unlimited weekend calls. Call Mobile Upd8 on freefone 08000839402 or 2StopTx\n",
      "As a registered optin subscriber ur draw 4 £100 gift voucher will be entered on receipt of a correct ans to 80062 Whats No1 in the BBC charts\n",
      "U have a secret admirer who is looking 2 make contact with U-find out who they R*reveal who thinks UR so special-call on 09058094599\n",
      "Bloomberg -Message center +447797706009 Why wait? Apply for your future http://careers. bloomberg.com\n",
      "Congratulations YOU'VE Won. You're a Winner in our August £1000 Prize Draw. Call 09066660100 NOW. Prize Code 2309.\n",
      "We currently have a message awaiting your collection. To collect your message just call 08718723815.\n",
      "XMAS Prize draws! We are trying to contact U. Todays draw shows that you have won a £2000 prize GUARANTEED. Call 09058094565 from land line. Valid 12hrs only\n",
      "Get ur 1st RINGTONE FREE NOW! Reply to this msg with TONE. Gr8 TOP 20 tones to your phone every week just £1.50 per wk 2 opt out send STOP 08452810071 16\n",
      "HOT LIVE FANTASIES call now 08707500020 Just 20p per min NTT Ltd, PO Box 1327 Croydon CR9 5WB 0870 is a national rate call\n",
      "If you don't, your prize will go to another customer. T&C at www.t-c.biz 18+ 150p/min Polo Ltd Suite 373 London W1J 6HL Please call back if busy\n",
      "URGENT! We are trying to contact U. Todays draw shows that you have won a £800 prize GUARANTEED. Call 09050001808 from land line. Claim M95. Valid12hrs only\n",
      "SIX chances to win CASH! From 100 to 20,000 pounds txt> CSH11 and send to 87575. Cost 150p/day, 6days, 16+ TsandCs apply Reply HL 4 info\n",
      "Ringtone Club: Gr8 new polys direct to your mobile every week !\n",
      "Welcome to UK-mobile-date this msg is FREE giving you free calling to 08719839835. Future mgs billed at 150p daily. To cancel send \"go stop\" to 89123\n",
      "Had your mobile 11 months or more? U R entitled to Update to the latest colour mobiles with camera for Free! Call The Mobile Update Co FREE on 08002986030\n",
      "Someonone you know is trying to contact you via our dating service! To find out who it could be call from your mobile or landline 09064015307 BOX334SK38ch \n",
      "You are a winner U have been specially selected 2 receive £1000 cash or a 4* holiday (flights inc) speak to a live operator 2 claim 0871277810810\n",
      "Want explicit SEX in 30 secs? Ring 02073162414 now! Costs 20p/min\n",
      "You are now unsubscribed all services. Get tons of sexy babes or hunks straight to your phone! go to http://gotbabes.co.uk. No subscriptions.\n",
      "FREE for 1st week! No1 Nokia tone 4 ur mob every week just txt NOKIA to 8007 Get txting and tell ur mates www.getzed.co.uk POBox 36504 W45WQ norm150p/tone 16+\n",
      "You have 1 new message. Please call 08712400200.\n",
      "Someone U know has asked our dating service 2 contact you! Cant Guess who? CALL 09058091854 NOW all will be revealed. PO BOX385 M6 6WU\n"
     ]
    }
   ],
   "source": [
    "for index, row in df[df['spam'] == 'spam'].sample(INSPECT_ROWS, random_state = RANDOM_STATE).iterrows():\n",
    "    print(row['message'])"
   ]
  },
  {
   "cell_type": "markdown",
   "id": "7e50a24e",
   "metadata": {},
   "source": [
    "Here, I'm noticing that spam messages contain way more phone numbers, email addresses, hyperlinks, addresses, and prices (such as £2,000). It may be important to preserve some of these characteristics, since they seem more indicative of spam messages. I am also seeing many instances of the word \"FREE\" in various forms, as well as words like \"CLAIM\", \"URGENT\", \"unsubscribe\", \"EXCLUSIVE\", \"CALL\", etc."
   ]
  },
  {
   "cell_type": "markdown",
   "id": "669b3b51",
   "metadata": {},
   "source": [
    "#### Analyzing capitalization between spam and ham messages"
   ]
  },
  {
   "cell_type": "code",
   "execution_count": 427,
   "id": "90b1934f",
   "metadata": {},
   "outputs": [],
   "source": [
    "def num_capitalized(message):\n",
    "    num_cap = 0\n",
    "    words = message.split(' ')\n",
    "    for word in words:\n",
    "        if word.isupper():\n",
    "            num_cap = num_cap + 1\n",
    "    return num_cap"
   ]
  },
  {
   "cell_type": "code",
   "execution_count": 428,
   "id": "36244c48",
   "metadata": {},
   "outputs": [],
   "source": [
    "ham_capitals = df[df['spam'] == 'ham'].apply(lambda row: num_capitalized(row['message']), axis=1)\n",
    "spam_capitals = df[df['spam'] == 'spam'].apply(lambda row: num_capitalized(row['message']), axis=1)"
   ]
  },
  {
   "cell_type": "code",
   "execution_count": 429,
   "id": "720d1757",
   "metadata": {},
   "outputs": [
    {
     "name": "stdout",
     "output_type": "stream",
     "text": [
      "Ham Capitals: \n",
      "Mean:  0.8230051813471503\n",
      "Standard deviation:  2.7469584576414547\n",
      "------------------------------------------\n",
      "Spam Capitals: \n",
      "Mean:  2.6238286479250337\n",
      "Standard deviation:  2.761594094683261\n"
     ]
    }
   ],
   "source": [
    "print('Ham Capitals: ')\n",
    "print('Mean: ', ham_capitals.mean())\n",
    "print('Standard deviation: ', ham_capitals.std())\n",
    "\n",
    "print('------------------------------------------')\n",
    "\n",
    "print('Spam Capitals: ')\n",
    "print('Mean: ', spam_capitals.mean())\n",
    "print('Standard deviation: ', spam_capitals.std())"
   ]
  },
  {
   "cell_type": "code",
   "execution_count": 430,
   "id": "fa0e7051",
   "metadata": {},
   "outputs": [
    {
     "data": {
      "image/png": "[encoded data removed]",
      "text/plain": [
       "<Figure size 432x288 with 1 Axes>"
      ]
     },
     "metadata": {
      "needs_background": "light"
     },
     "output_type": "display_data"
    }
   ],
   "source": [
    "plt.title('Capitalization of words')\n",
    "plt.boxplot(x = [ham_capitals, spam_capitals], labels = ['ham', 'spam'])\n",
    "plt.show()"
   ]
  },
  {
   "cell_type": "markdown",
   "id": "b215558d",
   "metadata": {},
   "source": [
    "From the above statistics and box plot, we can see that spam messages tend to have more capitalized words than ham messages. However, ham messages have far more outliers and can have over 35 capitalized words. Therefore, capitalization is not necessarily an indication of spam. Capitalization of certain words may still be indicative of spam, however, as we will explore below. We will use the word \"free\" and see how many times the word is capitalized in spam messages vs ham messages."
   ]
  },
  {
   "cell_type": "code",
   "execution_count": 431,
   "id": "678e04aa",
   "metadata": {},
   "outputs": [],
   "source": [
    "# indicates the number of occurrences of 'FREE'\n",
    "free_dict = {'spam': 0, 'ham': 0}"
   ]
  },
  {
   "cell_type": "code",
   "execution_count": 432,
   "id": "f7143774",
   "metadata": {},
   "outputs": [],
   "source": [
    "for index, row in df.iterrows():\n",
    "    message = row['message']\n",
    "    label = row['spam']\n",
    "    words = message.split(' ')\n",
    "    for word in words:\n",
    "        if 'free' in word.lower():                              # we split on whitespace so 'free' could be part of longer string, lowercasing to consistently find substring\n",
    "            free_index = word.lower().index('free')             # getting position of 'free' substring for next step\n",
    "            free = word[free_index : free_index + len('free')]  # getting slice of original string to check case\n",
    "            if free.isupper():\n",
    "                free_dict[label] = free_dict[label] + 1"
   ]
  },
  {
   "cell_type": "code",
   "execution_count": 433,
   "id": "391f6de4",
   "metadata": {},
   "outputs": [
    {
     "name": "stdout",
     "output_type": "stream",
     "text": [
      "Number of messages containing the string 'FREE':\n"
     ]
    },
    {
     "data": {
      "text/plain": [
       "{'spam': 134, 'ham': 1}"
      ]
     },
     "execution_count": 433,
     "metadata": {},
     "output_type": "execute_result"
    }
   ],
   "source": [
    "print('Number of messages containing the string \\'FREE\\':')\n",
    "free_dict"
   ]
  },
  {
   "cell_type": "markdown",
   "id": "fb2d4bd0",
   "metadata": {},
   "source": [
    "For our example of the word 'free', this corpus has 135 instances of the word in all caps. 134/135 (~99.3%) are from spam messages. While we do not want to have to hard code these types of rules, they may provide useful features in our dataset. As a result, I am leaning towards maintaining capitalization in the dataset by creating seperate tokens for capitalized words (instead of lowercasing everything first). \n",
    "\n",
    "It is worth noting that there was a ham message with a capitalized 'free'. Our goal is to prevent any ham messages from being flagged as spam (false positive). If our model uses the token for capital 'FREE' as a strong indicator of , it may misclassify that message as spam. "
   ]
  },
  {
   "cell_type": "markdown",
   "id": "b7c37477",
   "metadata": {},
   "source": [
    "#### Analyzing punctuation between spam and ham messages"
   ]
  },
  {
   "cell_type": "markdown",
   "id": "4d8139e1",
   "metadata": {},
   "source": [
    "We will be looking for the following punctuation marks:"
   ]
  },
  {
   "cell_type": "code",
   "execution_count": 434,
   "id": "39e1421a",
   "metadata": {},
   "outputs": [
    {
     "data": {
      "text/plain": [
       "'!\"#$%&\\'()*+,-./:;<=>?@[\\\\]^_`{|}~'"
      ]
     },
     "execution_count": 434,
     "metadata": {},
     "output_type": "execute_result"
    }
   ],
   "source": [
    "string.punctuation"
   ]
  },
  {
   "cell_type": "code",
   "execution_count": 435,
   "id": "406d8e75",
   "metadata": {},
   "outputs": [],
   "source": [
    "punct_dict = {'spam': 0, 'ham': 0}"
   ]
  },
  {
   "cell_type": "code",
   "execution_count": 436,
   "id": "bec5add5",
   "metadata": {},
   "outputs": [],
   "source": [
    "for index, row in df.iterrows():\n",
    "    message = row['message']\n",
    "    label = row['spam']\n",
    "    for char in message:\n",
    "        if char in string.punctuation:\n",
    "            punct_dict[label] = punct_dict[label] + 1"
   ]
  },
  {
   "cell_type": "code",
   "execution_count": 437,
   "id": "77467c96",
   "metadata": {},
   "outputs": [
    {
     "name": "stdout",
     "output_type": "stream",
     "text": [
      "Total number of punctuation marks for each class:\n"
     ]
    },
    {
     "data": {
      "text/plain": [
       "{'spam': 4267, 'ham': 19010}"
      ]
     },
     "execution_count": 437,
     "metadata": {},
     "output_type": "execute_result"
    }
   ],
   "source": [
    "print('Total number of punctuation marks for each class:')\n",
    "punct_dict"
   ]
  },
  {
   "cell_type": "markdown",
   "id": "97f7a005",
   "metadata": {},
   "source": [
    "Ham messages have more instances of punctuation but there's also way more ham messages than spam messages. Let's normalize these values by dividing by the total number of messages in each category in order to get the rate of punctuation per message."
   ]
  },
  {
   "cell_type": "code",
   "execution_count": 438,
   "id": "48399667",
   "metadata": {},
   "outputs": [],
   "source": [
    "for key, value in punct_dict.items():\n",
    "    punct_dict[key] = value / len(df[df['spam'] == key])"
   ]
  },
  {
   "cell_type": "code",
   "execution_count": 439,
   "id": "66580a9f",
   "metadata": {},
   "outputs": [
    {
     "name": "stdout",
     "output_type": "stream",
     "text": [
      "Average number of punctuation marks per message:\n"
     ]
    },
    {
     "data": {
      "text/plain": [
       "{'spam': 5.712182061579652, 'ham': 3.9398963730569947}"
      ]
     },
     "execution_count": 439,
     "metadata": {},
     "output_type": "execute_result"
    }
   ],
   "source": [
    "print('Average number of punctuation marks per message:')\n",
    "punct_dict"
   ]
  },
  {
   "cell_type": "markdown",
   "id": "22d3715f",
   "metadata": {},
   "source": [
    "Now we can see that spam messages actually tend to have a higher number of punctuation marks than ham messages (spam messages had on average 5.7 punctuation marks per message, as opposed to 3.9 punctuation marks per message for ham messages). This is most likely due to the abundance of phone numbers, email addresses, and URL's in the spam messages. However, the presence of punctuation is not a great indicator of whether or not a message is spam because ham messages can also have lots of punctuation. We will now look into more advanced structures, such as email addresses and URL's. "
   ]
  },
  {
   "cell_type": "markdown",
   "id": "ae812d1d",
   "metadata": {},
   "source": [
    "#### Analyze email address presence in messages"
   ]
  },
  {
   "cell_type": "markdown",
   "id": "6a990937",
   "metadata": {},
   "source": [
    "We will define an email address to be some combination of characters, then an '@' symbol, and then a domain name, which must start with a letter (to avoid messages like: \"something@£1.50/month\") and include a single period before the top level domain (like \".com\" or \".com.uk\"). This will convert into the following regex:\n",
    "\n",
    "```\n",
    "\\S+@[a-zA-Z]\\S+\\.{1}\\S+\n",
    "```"
   ]
  },
  {
   "cell_type": "code",
   "execution_count": 440,
   "id": "f404ac7f",
   "metadata": {},
   "outputs": [],
   "source": [
    "email_dict = {'spam': 0, 'ham': 0}"
   ]
  },
  {
   "cell_type": "code",
   "execution_count": 441,
   "id": "bd3e1ef7",
   "metadata": {},
   "outputs": [],
   "source": [
    "email_regex = '\\S+@[a-zA-Z]\\S+\\.{1}\\S+'"
   ]
  },
  {
   "cell_type": "code",
   "execution_count": 442,
   "id": "4ad8b4a7",
   "metadata": {},
   "outputs": [
    {
     "name": "stdout",
     "output_type": "stream",
     "text": [
      "['yijue@hotmail.com']\n",
      "['info@ringtoneking.co.uk']\n",
      "['tddnewsletter@emc1.co.uk']\n",
      "['info@txt82228.co.uk']\n",
      "['Dorothy@kiefer.com']\n",
      "['msg+ticket@kiosk.Valid']\n",
      "['customersqueries@netvision.uk.com']\n"
     ]
    }
   ],
   "source": [
    "for index, row in df.iterrows():\n",
    "    message = row['message']\n",
    "    label = row['spam']\n",
    "    emails = re.findall(email_regex, message)\n",
    "    if not len(emails) == 0:\n",
    "        print(emails)\n",
    "        email_dict[label] = email_dict[label] + 1"
   ]
  },
  {
   "cell_type": "code",
   "execution_count": 443,
   "id": "ff8ca8bc",
   "metadata": {},
   "outputs": [
    {
     "name": "stdout",
     "output_type": "stream",
     "text": [
      "Number of messages containing an email address:\n"
     ]
    },
    {
     "data": {
      "text/plain": [
       "{'spam': 6, 'ham': 1}"
      ]
     },
     "execution_count": 443,
     "metadata": {},
     "output_type": "execute_result"
    }
   ],
   "source": [
    "print('Number of messages containing an email address:')\n",
    "email_dict"
   ]
  },
  {
   "cell_type": "markdown",
   "id": "aacbaba0",
   "metadata": {},
   "source": [
    "We can see here that there were actually very few email addresses in the corpus but the majority of them belonged to spam messages. While the presence of an email address does indicate that the message may be spam, there are too few instances of email addresses to make this a feature in the dataset.  "
   ]
  },
  {
   "cell_type": "markdown",
   "id": "34e03352",
   "metadata": {},
   "source": [
    "#### Analyze URL presence in messages"
   ]
  },
  {
   "cell_type": "markdown",
   "id": "b7832cdf",
   "metadata": {},
   "source": [
    "We will define a URL as a string that may or may not begin with https:// or http://, may or may not contain www., then some domain name. The domain name must contain one of the following: 'net', 'com', 'edu', 'co', 'gov', 'xyz', 'info', 'top'. We will define the syntax of a URL with the following regex:\n",
    "\n",
    "```\n",
    "(?:http:\\/\\/|https:\\/\\/)?(?:www\\.)?\\S+\\.{1}(?:net|com|edu|co|gov|xyz|info|top){1}\\.?\\S+\n",
    "```"
   ]
  },
  {
   "cell_type": "code",
   "execution_count": 444,
   "id": "851292fe",
   "metadata": {},
   "outputs": [],
   "source": [
    "url_dict = {'spam': 0, 'ham': 0}"
   ]
  },
  {
   "cell_type": "code",
   "execution_count": 445,
   "id": "3b32758c",
   "metadata": {},
   "outputs": [],
   "source": [
    "url_regex = '(?:http:\\/\\/|https:\\/\\/)?(?:www\\.)?\\S+\\.{1}(?:net|com|edu|co|gov|xyz|info|top){1}\\.?\\S+'"
   ]
  },
  {
   "cell_type": "code",
   "execution_count": 446,
   "id": "4e0dda7b",
   "metadata": {},
   "outputs": [
    {
     "name": "stdout",
     "output_type": "stream",
     "text": [
      "['xxxmobilemovieclub.com?n=QJKGIGHJJGCBL']\n",
      "['yijue@hotmail.com']\n",
      "['www.areyouunique.co.uk']\n",
      "['www.Ldew.com1win150ppmx3age16']\n",
      "['club4mobiles.com']\n",
      "['info:www.100percent-real.com']\n",
      "['sextextuk.com']\n",
      "['www.Ldew.com1win150ppmx3age16']\n",
      "['www.regalportfolio.co.uk.']\n",
      "['fullonsms.com']\n",
      "['www.txttowin.co.uk']\n",
      "['www.07781482378.com']\n",
      "['http://www.bubbletext.com']\n",
      "['www.Applausestore.com']\n",
      "['www.txt-2-shop.com']\n",
      "['gaytextbuddy.com.']\n",
      "['http://www.e-tlp.co.uk/expressoffer']\n",
      "['wikipedia.com']\n",
      "['www.cnupdates.com/newsletter.']\n",
      "['www.getzed.co.uk']\n",
      "['www.Ldew.com1win150ppmx3age16']\n",
      "['www.comuk.net']\n",
      "['http://www.e-tlp.co.uk/expressoffer']\n",
      "['magicalsongs.blogspot.com']\n",
      "['www.getzed.co.uk']\n",
      "['process.networking']\n",
      "['http://www.urawinner.com']\n",
      "['www.txt43.com']\n",
      "['1stchoice.co.uk']\n",
      "['fullonsms.com']\n",
      "['lucozade.co.uk/wrc']\n",
      "['PocketBabe.co.uk']\n",
      "['www.Ldew.com.subs16+1win150ppmx3']\n",
      "['www.phb1.com']\n",
      "['www.textcomp.com']\n",
      "['jamster.co.uk!']\n",
      "['www.ringtones.co.uk,']\n",
      "['PocketBabe.co.uk']\n",
      "['icicibank.com']\n",
      "['icicibank.com']\n",
      "['www.Ldew.com']\n",
      "['www.orange.co.uk/ow']\n",
      "['info@ringtoneking.co.uk', 'www.ringtoneking.co.uk!']\n",
      "['www.getzed.co.uk']\n",
      "['mobsi.com']\n",
      "['o2.co.uk/games']\n",
      "['www.win-82050.co.uk']\n",
      "['info:www.100percent-real.com']\n",
      "['gaytextbuddy.com.']\n",
      "['tones2you.co.uk']\n",
      "['www.ldew.com']\n",
      "['www.getzed.co.uk']\n",
      "['Txt250.com']\n",
      "['www.comuk.net']\n",
      "['PocketBabe.co.uk']\n",
      "['www.Idew.com']\n",
      "['www.B4Utele.com']\n",
      "['Si.como']\n",
      "['www.textcomp.com']\n",
      "['www.Ldew.com.subs16+1win150ppmx3']\n",
      "['tddnewsletter@emc1.co.uk']\n",
      "['www.fullonsms.com', 'fullonsms.com']\n",
      "['www.comuk.net']\n",
      "['Indyarocks.com']\n",
      "['www.txttowin.co.uk']\n",
      "['www.txt82228.com.', 'info@txt82228.co.uk']\n",
      "['www.tkls.com']\n",
      "['www.getzed.co.uk']\n",
      "['www.getzed.co.uk']\n",
      "['tones2you.co.uk']\n",
      "[':getzed.co.uk']\n",
      "['http://gotbabes.co.uk.']\n",
      "['visionsms.com']\n",
      "['staff.science.nus.edu.sg/~phyhcmk/teaching/pc1323']\n",
      "['http://www.e-tlp.co.uk/reward.']\n",
      "['www.07781482378.com']\n",
      "['www.bridal.petticoatdreams.co.uk']\n",
      "['bloomberg.com']\n",
      "['Dorothy@kiefer.com']\n",
      "['ok..come']\n",
      "['www.rtf.sphosting.com']\n",
      "['my-tone.com/enjoy.']\n",
      "['bloomberg.com']\n",
      "['www.getzed.co.uk']\n",
      "['www.ringtones.co.uk,']\n",
      "['fullonsms.com']\n",
      "['widelive.com/index.']\n",
      "['fullonsms.com']\n",
      "['http://alto18.co.uk/wave/wave.asp?o=44345']\n",
      "['NoWorriesLoans.com']\n",
      "['http://www.wtlp.co.uk/text.']\n",
      "['www.getzed.co.uk']\n",
      "['www.ringtones.co.uk,']\n",
      "['http://www.urawinner.com']\n",
      "['www.Idew.com']\n",
      "['http://www.urawinner.com']\n",
      "['http://www.urawinner.com']\n",
      "['info:www.100percent-real.com']\n",
      "['thesmszone.com']\n",
      "['http://www.urawinner.com']\n",
      "['www.clubzed.co.uk']\n",
      "['www.comuk.net']\n",
      "['www.txt-2-shop.com']\n",
      "['www.clubmoby.com']\n",
      "['visionsms.com']\n",
      "['www.win-82050.co.uk']\n",
      "['o2.co.uk/games']\n",
      "['Cashbin.co.uk', 'www.cashbin.co.uk']\n",
      "['www.fullonsms.com', 'fullonsms.com']\n",
      "['www.santacalling.com']\n",
      "['sms.shsex.netUN']\n",
      "['lucozade.co.uk/wrc']\n",
      "['experiencehttp://www.vouch4me.com/etlp/dining.asp']\n",
      "['www.ldew.com1win150ppmx3age16']\n",
      "['id.convey']\n",
      "['customersqueries@netvision.uk.com']\n",
      "['www.ringtones.co.uk,']\n",
      "['www.getzed.co.uk']\n",
      "['notxt.co.uk']\n",
      "['www.telediscount.co.uk']\n",
      "['www.Ldew.com1win150ppmx3age16subscription']\n",
      "['http//www.gr8prizes.com']\n",
      "['widelive.com/index.']\n",
      "['notxt.co.uk']\n",
      "['PlanetTalkInstant.com']\n",
      "['www.comuk.net']\n"
     ]
    }
   ],
   "source": [
    "for index, row in df.iterrows():\n",
    "    message = row['message']\n",
    "    label = row['spam']\n",
    "    urls = re.findall(url_regex, message)\n",
    "    if not len(urls) == 0:\n",
    "        print(urls)\n",
    "        url_dict[label] = url_dict[label] + 1"
   ]
  },
  {
   "cell_type": "code",
   "execution_count": 447,
   "id": "f7b8190d",
   "metadata": {},
   "outputs": [
    {
     "name": "stdout",
     "output_type": "stream",
     "text": [
      "Number of messages containing a URL:\n"
     ]
    },
    {
     "data": {
      "text/plain": [
       "{'spam': 109, 'ham': 17}"
      ]
     },
     "execution_count": 447,
     "metadata": {},
     "output_type": "execute_result"
    }
   ],
   "source": [
    "print('Number of messages containing a URL:')\n",
    "url_dict"
   ]
  },
  {
   "cell_type": "markdown",
   "id": "6fd7f3b9",
   "metadata": {},
   "source": [
    "There does appear to be a strong correlation between URL presence and spam, especially since there are far more ham messages than spam. However, there are only a total of 126 messages with a URL. We do not want to add a feature that really only applies to a small fraction of the total dataset. "
   ]
  },
  {
   "cell_type": "markdown",
   "id": "13a17fbf",
   "metadata": {},
   "source": [
    "#### Analyze stop words in messages"
   ]
  },
  {
   "cell_type": "markdown",
   "id": "d87e7724",
   "metadata": {},
   "source": [
    "A stop word is a word like \"the\", \"an\", \"him\", etc that do not add a lot of meaning to the text. We will look at home frequently stop words are used in spam vs ham messages to evaluate if removing those words will lose any valuable information."
   ]
  },
  {
   "cell_type": "code",
   "execution_count": 448,
   "id": "95e74421",
   "metadata": {},
   "outputs": [],
   "source": [
    "stop_dict = {'spam': 0, 'ham': 0}"
   ]
  },
  {
   "cell_type": "code",
   "execution_count": 449,
   "id": "91d4b02f",
   "metadata": {},
   "outputs": [
    {
     "name": "stderr",
     "output_type": "stream",
     "text": [
      "[nltk_data] Downloading package stopwords to\n",
      "[nltk_data]     /home/ec2-user/nltk_data...\n",
      "[nltk_data]   Package stopwords is already up-to-date!\n"
     ]
    },
    {
     "data": {
      "text/plain": [
       "True"
      ]
     },
     "execution_count": 449,
     "metadata": {},
     "output_type": "execute_result"
    }
   ],
   "source": [
    "nltk.download('stopwords')"
   ]
  },
  {
   "cell_type": "code",
   "execution_count": 450,
   "id": "17fdf8ca",
   "metadata": {},
   "outputs": [],
   "source": [
    "stop_words = set(stopwords.words('english'))"
   ]
  },
  {
   "cell_type": "code",
   "execution_count": 451,
   "id": "65cb3b92",
   "metadata": {},
   "outputs": [
    {
     "data": {
      "text/plain": [
       "{'a',\n",
       " 'about',\n",
       " 'above',\n",
       " 'after',\n",
       " 'again',\n",
       " 'against',\n",
       " 'ain',\n",
       " 'all',\n",
       " 'am',\n",
       " 'an',\n",
       " 'and',\n",
       " 'any',\n",
       " 'are',\n",
       " 'aren',\n",
       " \"aren't\",\n",
       " 'as',\n",
       " 'at',\n",
       " 'be',\n",
       " 'because',\n",
       " 'been',\n",
       " 'before',\n",
       " 'being',\n",
       " 'below',\n",
       " 'between',\n",
       " 'both',\n",
       " 'but',\n",
       " 'by',\n",
       " 'can',\n",
       " 'couldn',\n",
       " \"couldn't\",\n",
       " 'd',\n",
       " 'did',\n",
       " 'didn',\n",
       " \"didn't\",\n",
       " 'do',\n",
       " 'does',\n",
       " 'doesn',\n",
       " \"doesn't\",\n",
       " 'doing',\n",
       " 'don',\n",
       " \"don't\",\n",
       " 'down',\n",
       " 'during',\n",
       " 'each',\n",
       " 'few',\n",
       " 'for',\n",
       " 'from',\n",
       " 'further',\n",
       " 'had',\n",
       " 'hadn',\n",
       " \"hadn't\",\n",
       " 'has',\n",
       " 'hasn',\n",
       " \"hasn't\",\n",
       " 'have',\n",
       " 'haven',\n",
       " \"haven't\",\n",
       " 'having',\n",
       " 'he',\n",
       " 'her',\n",
       " 'here',\n",
       " 'hers',\n",
       " 'herself',\n",
       " 'him',\n",
       " 'himself',\n",
       " 'his',\n",
       " 'how',\n",
       " 'i',\n",
       " 'if',\n",
       " 'in',\n",
       " 'into',\n",
       " 'is',\n",
       " 'isn',\n",
       " \"isn't\",\n",
       " 'it',\n",
       " \"it's\",\n",
       " 'its',\n",
       " 'itself',\n",
       " 'just',\n",
       " 'll',\n",
       " 'm',\n",
       " 'ma',\n",
       " 'me',\n",
       " 'mightn',\n",
       " \"mightn't\",\n",
       " 'more',\n",
       " 'most',\n",
       " 'mustn',\n",
       " \"mustn't\",\n",
       " 'my',\n",
       " 'myself',\n",
       " 'needn',\n",
       " \"needn't\",\n",
       " 'no',\n",
       " 'nor',\n",
       " 'not',\n",
       " 'now',\n",
       " 'o',\n",
       " 'of',\n",
       " 'off',\n",
       " 'on',\n",
       " 'once',\n",
       " 'only',\n",
       " 'or',\n",
       " 'other',\n",
       " 'our',\n",
       " 'ours',\n",
       " 'ourselves',\n",
       " 'out',\n",
       " 'over',\n",
       " 'own',\n",
       " 're',\n",
       " 's',\n",
       " 'same',\n",
       " 'shan',\n",
       " \"shan't\",\n",
       " 'she',\n",
       " \"she's\",\n",
       " 'should',\n",
       " \"should've\",\n",
       " 'shouldn',\n",
       " \"shouldn't\",\n",
       " 'so',\n",
       " 'some',\n",
       " 'such',\n",
       " 't',\n",
       " 'than',\n",
       " 'that',\n",
       " \"that'll\",\n",
       " 'the',\n",
       " 'their',\n",
       " 'theirs',\n",
       " 'them',\n",
       " 'themselves',\n",
       " 'then',\n",
       " 'there',\n",
       " 'these',\n",
       " 'they',\n",
       " 'this',\n",
       " 'those',\n",
       " 'through',\n",
       " 'to',\n",
       " 'too',\n",
       " 'under',\n",
       " 'until',\n",
       " 'up',\n",
       " 've',\n",
       " 'very',\n",
       " 'was',\n",
       " 'wasn',\n",
       " \"wasn't\",\n",
       " 'we',\n",
       " 'were',\n",
       " 'weren',\n",
       " \"weren't\",\n",
       " 'what',\n",
       " 'when',\n",
       " 'where',\n",
       " 'which',\n",
       " 'while',\n",
       " 'who',\n",
       " 'whom',\n",
       " 'why',\n",
       " 'will',\n",
       " 'with',\n",
       " 'won',\n",
       " \"won't\",\n",
       " 'wouldn',\n",
       " \"wouldn't\",\n",
       " 'y',\n",
       " 'you',\n",
       " \"you'd\",\n",
       " \"you'll\",\n",
       " \"you're\",\n",
       " \"you've\",\n",
       " 'your',\n",
       " 'yours',\n",
       " 'yourself',\n",
       " 'yourselves'}"
      ]
     },
     "execution_count": 451,
     "metadata": {},
     "output_type": "execute_result"
    }
   ],
   "source": [
    "stop_words"
   ]
  },
  {
   "cell_type": "code",
   "execution_count": 452,
   "id": "d6d52b40",
   "metadata": {},
   "outputs": [],
   "source": [
    "for index, row in df.iterrows():\n",
    "    message = row['message']\n",
    "    label = row['spam']\n",
    "    words = message.split(' ')\n",
    "    for word in words:\n",
    "        word = word.lower()        # stopwords lists are generally lowercase\n",
    "        if word in stop_words:\n",
    "            stop_dict[label] = stop_dict[label] + 1"
   ]
  },
  {
   "cell_type": "code",
   "execution_count": 453,
   "id": "a4900d33",
   "metadata": {},
   "outputs": [],
   "source": [
    "for key, value in stop_dict.items():\n",
    "    stop_dict[key] = value / len(df[df['spam'] == key])"
   ]
  },
  {
   "cell_type": "code",
   "execution_count": 454,
   "id": "c16fa3c0",
   "metadata": {},
   "outputs": [
    {
     "name": "stdout",
     "output_type": "stream",
     "text": [
      "Number of stop words used per message:\n"
     ]
    },
    {
     "data": {
      "text/plain": [
       "{'spam': 6.420348058902276, 'ham': 5.529326424870466}"
      ]
     },
     "execution_count": 454,
     "metadata": {},
     "output_type": "execute_result"
    }
   ],
   "source": [
    "print('Number of stop words used per message:')\n",
    "stop_dict"
   ]
  },
  {
   "cell_type": "markdown",
   "id": "e9e90b9b",
   "metadata": {},
   "source": [
    "While spam messages tend to use a slightly higher number of stop words, these values are close enough that removing stop words from all the messages should not lose any valuable information. It will reduce the number of features, which should help prevent the Curse of Dimensionality. "
   ]
  },
  {
   "cell_type": "markdown",
   "id": "21ed4663",
   "metadata": {},
   "source": [
    "## Data preprocessing"
   ]
  },
  {
   "cell_type": "markdown",
   "id": "f02a4a97",
   "metadata": {},
   "source": [
    "From the conclusions drawn from the above data exploration, we will tokenize the messages, removing punctuation, and remove capitalization (with the exception of words that are completely capitalized like \"FREE\" or \"URGENT\", but we don't want \"Free\" and \"free\" to be separate tokens). We also need to convert the target variable, 'spam' into a 0/1."
   ]
  },
  {
   "cell_type": "code",
   "execution_count": 455,
   "id": "915bf5b7",
   "metadata": {},
   "outputs": [],
   "source": [
    "# removes punctuation, removes stop words, and lowercases the word unless that word is completely capitalized\n",
    "def pre_tokenize_processing(message):\n",
    "    # remove punctuation\n",
    "    translator = str.maketrans(string.punctuation, ' '*len(string.punctuation))\n",
    "    message = message.translate(translator)\n",
    "    \n",
    "    # remove stopwords\n",
    "    words = message.split(' ')\n",
    "    filtered_words = []\n",
    "    for word in words:\n",
    "        if not word in stop_words:\n",
    "            filtered_words.append(word)\n",
    "    \n",
    "    # lowercase word unless word is completely capitalized\n",
    "    \n",
    "    new_words = []\n",
    "    for word in filtered_words:\n",
    "        if not word.isupper():     # only fails if word is completely capitalized\n",
    "            word = word.lower()\n",
    "        new_words.append(word)\n",
    "    new_msg = ' '.join(word for word in new_words) # reconstruct message from list of new words\n",
    "    return new_msg"
   ]
  },
  {
   "cell_type": "code",
   "execution_count": 456,
   "id": "bf344fd4",
   "metadata": {},
   "outputs": [],
   "source": [
    "# preprocess message before tokenizing\n",
    "df['message'] = df.apply(lambda row: pre_tokenize_processing(row['message']), axis=1)"
   ]
  },
  {
   "cell_type": "code",
   "execution_count": 468,
   "id": "4962b76f",
   "metadata": {},
   "outputs": [],
   "source": [
    "spam_map = {'ham': 0, 'spam': 1}\n",
    "df['spam'] = df['spam'].map(spam_map)"
   ]
  },
  {
   "cell_type": "code",
   "execution_count": 471,
   "id": "edd97908",
   "metadata": {},
   "outputs": [
    {
     "data": {
      "text/html": [
       "<div>\n",
       "<style scoped>\n",
       "    .dataframe tbody tr th:only-of-type {\n",
       "        vertical-align: middle;\n",
       "    }\n",
       "\n",
       "    .dataframe tbody tr th {\n",
       "        vertical-align: top;\n",
       "    }\n",
       "\n",
       "    .dataframe thead th {\n",
       "        text-align: right;\n",
       "    }\n",
       "</style>\n",
       "<table border=\"1\" class=\"dataframe\">\n",
       "  <thead>\n",
       "    <tr style=\"text-align: right;\">\n",
       "      <th></th>\n",
       "      <th>spam</th>\n",
       "      <th>message</th>\n",
       "    </tr>\n",
       "  </thead>\n",
       "  <tbody>\n",
       "    <tr>\n",
       "      <th>0</th>\n",
       "      <td>0</td>\n",
       "      <td>go jurong point  crazy   available bugis n gre...</td>\n",
       "    </tr>\n",
       "    <tr>\n",
       "      <th>1</th>\n",
       "      <td>0</td>\n",
       "      <td>ok lar    joking wif u oni</td>\n",
       "    </tr>\n",
       "    <tr>\n",
       "      <th>2</th>\n",
       "      <td>1</td>\n",
       "      <td>free entry 2 wkly comp win FA cup final tkts 2...</td>\n",
       "    </tr>\n",
       "    <tr>\n",
       "      <th>3</th>\n",
       "      <td>0</td>\n",
       "      <td>U dun say early hor    U c already say</td>\n",
       "    </tr>\n",
       "    <tr>\n",
       "      <th>4</th>\n",
       "      <td>0</td>\n",
       "      <td>nah I think goes usf  lives around though</td>\n",
       "    </tr>\n",
       "    <tr>\n",
       "      <th>...</th>\n",
       "      <td>...</td>\n",
       "      <td>...</td>\n",
       "    </tr>\n",
       "    <tr>\n",
       "      <th>5567</th>\n",
       "      <td>1</td>\n",
       "      <td>this 2nd time tried 2 contact u  U £750 pound ...</td>\n",
       "    </tr>\n",
       "    <tr>\n",
       "      <th>5568</th>\n",
       "      <td>0</td>\n",
       "      <td>will ü b going esplanade fr home</td>\n",
       "    </tr>\n",
       "    <tr>\n",
       "      <th>5569</th>\n",
       "      <td>0</td>\n",
       "      <td>pity    mood  so   suggestions</td>\n",
       "    </tr>\n",
       "    <tr>\n",
       "      <th>5570</th>\n",
       "      <td>0</td>\n",
       "      <td>the guy bitching I acted like interested buyin...</td>\n",
       "    </tr>\n",
       "    <tr>\n",
       "      <th>5571</th>\n",
       "      <td>0</td>\n",
       "      <td>rofl  its true name</td>\n",
       "    </tr>\n",
       "  </tbody>\n",
       "</table>\n",
       "<p>5572 rows × 2 columns</p>\n",
       "</div>"
      ],
      "text/plain": [
       "      spam                                            message\n",
       "0        0  go jurong point  crazy   available bugis n gre...\n",
       "1        0                      ok lar    joking wif u oni   \n",
       "2        1  free entry 2 wkly comp win FA cup final tkts 2...\n",
       "3        0          U dun say early hor    U c already say   \n",
       "4        0          nah I think goes usf  lives around though\n",
       "...    ...                                                ...\n",
       "5567     1  this 2nd time tried 2 contact u  U £750 pound ...\n",
       "5568     0                  will ü b going esplanade fr home \n",
       "5569     0                    pity    mood  so   suggestions \n",
       "5570     0  the guy bitching I acted like interested buyin...\n",
       "5571     0                                rofl  its true name\n",
       "\n",
       "[5572 rows x 2 columns]"
      ]
     },
     "execution_count": 471,
     "metadata": {},
     "output_type": "execute_result"
    }
   ],
   "source": [
    "df"
   ]
  },
  {
   "cell_type": "markdown",
   "id": "41fad841",
   "metadata": {},
   "source": [
    "### Split data into train and test sets"
   ]
  },
  {
   "cell_type": "code",
   "execution_count": 472,
   "id": "3a388f97",
   "metadata": {},
   "outputs": [],
   "source": [
    "X = df['message']\n",
    "y = df['spam']"
   ]
  },
  {
   "cell_type": "code",
   "execution_count": 473,
   "id": "e8167065",
   "metadata": {},
   "outputs": [],
   "source": [
    "X_train, X_test, y_train, y_test = train_test_split(X, y, random_state = RANDOM_STATE, test_size = TEST_RATIO)"
   ]
  },
  {
   "cell_type": "code",
   "execution_count": 474,
   "id": "05ed50b0",
   "metadata": {},
   "outputs": [
    {
     "name": "stdout",
     "output_type": "stream",
     "text": [
      "Number of rows in training dataset (these should match)\n",
      "X_train:  3343\n",
      "y_train:  3343\n"
     ]
    }
   ],
   "source": [
    "print('Number of rows in training dataset (these should match)')\n",
    "print('X_train: ', X_train.shape[0])\n",
    "print('y_train: ', y_train.shape[0])"
   ]
  },
  {
   "cell_type": "code",
   "execution_count": 475,
   "id": "676ccb64",
   "metadata": {},
   "outputs": [
    {
     "name": "stdout",
     "output_type": "stream",
     "text": [
      "Number of rows in test dataset (these should match)\n",
      "X_test:  2229\n",
      "y_test:  2229\n"
     ]
    }
   ],
   "source": [
    "print('Number of rows in test dataset (these should match)')\n",
    "print('X_test: ', X_test.shape[0])\n",
    "print('y_test: ', y_test.shape[0])"
   ]
  },
  {
   "cell_type": "markdown",
   "id": "23f59cea",
   "metadata": {},
   "source": [
    "### Tokenizing "
   ]
  },
  {
   "cell_type": "markdown",
   "id": "7e2287be",
   "metadata": {},
   "source": [
    "min_df specifies the minimum document frequency of a word to become a token. We chose 0.0005, which means that words need to appear in at least 3 of the messages in order to become a token. max_df specifies the maximum document frequency of a word to become a token. However, since we already removed stop words, this is unlikely to have effect. We will be only generating unigrams so we are specifying the ngram_range = (1,1)."
   ]
  },
  {
   "cell_type": "code",
   "execution_count": 476,
   "id": "98cffd3a",
   "metadata": {},
   "outputs": [],
   "source": [
    "count_vect = CountVectorizer(lowercase=False, strip_accents='ascii', ngram_range=(1,1), max_df=0.9, min_df=0.0005)\n",
    "X_train = count_vect.fit_transform(X_train)\n",
    "X_test = count_vect.transform(X_test)       # we only call transform because we do not want to fit on the test data"
   ]
  },
  {
   "cell_type": "code",
   "execution_count": 477,
   "id": "aefb81de",
   "metadata": {},
   "outputs": [
    {
     "data": {
      "text/plain": [
       "(3343, 3088)"
      ]
     },
     "execution_count": 477,
     "metadata": {},
     "output_type": "execute_result"
    }
   ],
   "source": [
    "X_train.shape"
   ]
  },
  {
   "cell_type": "markdown",
   "id": "461b5445",
   "metadata": {},
   "source": [
    "The test set should have the same number of features because it will use the vocabulary that was created using the training set. "
   ]
  },
  {
   "cell_type": "code",
   "execution_count": 478,
   "id": "b8ae4302",
   "metadata": {},
   "outputs": [
    {
     "data": {
      "text/plain": [
       "(2229, 3088)"
      ]
     },
     "execution_count": 478,
     "metadata": {},
     "output_type": "execute_result"
    }
   ],
   "source": [
    "X_test.shape"
   ]
  },
  {
   "cell_type": "markdown",
   "id": "c8f7f46a",
   "metadata": {},
   "source": [
    "### Converting to TF-IDF"
   ]
  },
  {
   "cell_type": "code",
   "execution_count": 479,
   "id": "3be6009f",
   "metadata": {},
   "outputs": [],
   "source": [
    "tfidf_trfmr = TfidfTransformer()\n",
    "X_train = tfidf_trfmr.fit_transform(X_train)\n",
    "X_test = tfidf_trfmr.transform(X_test)       # we only call transform because we do not want to fit on the test data"
   ]
  },
  {
   "cell_type": "code",
   "execution_count": 480,
   "id": "a30a6556",
   "metadata": {},
   "outputs": [
    {
     "data": {
      "text/plain": [
       "(3343, 3088)"
      ]
     },
     "execution_count": 480,
     "metadata": {},
     "output_type": "execute_result"
    }
   ],
   "source": [
    "X_train.shape"
   ]
  },
  {
   "cell_type": "markdown",
   "id": "bffaa6a1",
   "metadata": {},
   "source": [
    "Again, we should see the same number of columns here. The TF-IDF operation should not change the shape of the data."
   ]
  },
  {
   "cell_type": "code",
   "execution_count": 481,
   "id": "21eef37c",
   "metadata": {},
   "outputs": [
    {
     "data": {
      "text/plain": [
       "(2229, 3088)"
      ]
     },
     "execution_count": 481,
     "metadata": {},
     "output_type": "execute_result"
    }
   ],
   "source": [
    "X_test.shape"
   ]
  },
  {
   "cell_type": "markdown",
   "id": "e6228fef",
   "metadata": {},
   "source": [
    "This data is stored in a scipy sparse array, which is more space efficient since most of the values are zeroes. If stored in a traditional dataframe, this new dataset would take ~62 MB to store. While this is fairly modest, we may run into RAM limitations with larger datasets."
   ]
  },
  {
   "cell_type": "markdown",
   "id": "bdec3cd6",
   "metadata": {},
   "source": [
    "## Setting up model evaluation"
   ]
  },
  {
   "cell_type": "markdown",
   "id": "4c766823",
   "metadata": {},
   "source": [
    "**Note on evaluation metric:**\n",
    "\n",
    "With SMS Spam detection, even a single legitimate message being blocked is unacceptable. As a result, we need to make sure we have perfect (or near perfect) precision. Obviously, we want our recall to be as high as possible but we want to put more weight on precision. As a result, we will be using an Fbeta measure with a beta value of <1 to give more weight to precision. "
   ]
  },
  {
   "cell_type": "code",
   "execution_count": 635,
   "id": "d5ea9b2e",
   "metadata": {},
   "outputs": [],
   "source": [
    "def evaluate(predictions):\n",
    "    if not len(predictions) == len(y_test):\n",
    "        raise\n",
    "    \n",
    "    keys = list(spam_map.keys())\n",
    "    \n",
    "    # print classification report\n",
    "    print(metrics.classification_report(y_test, predictions,\n",
    "        target_names=keys, zero_division=1))\n",
    "\n",
    "    # print confusion matrix\n",
    "    cm = confusion_matrix(y_test, predictions)\n",
    "\n",
    "    ax = plt.subplot()\n",
    "    sns.heatmap(cm, annot=True, fmt='g', ax=ax);  #annot=True to annotate cells, ftm='g' to disable scientific notation\n",
    "\n",
    "    # labels, title and ticks\n",
    "    ax.set_xlabel('Predicted labels');ax.set_ylabel('True labels'); \n",
    "    ax.set_title('Confusion Matrix'); \n",
    "    ax.xaxis.set_ticklabels(keys); ax.yaxis.set_ticklabels(keys);\n",
    "    \n",
    "    plt.show()\n",
    "    \n",
    "    # print false positive and false negative rates\n",
    "    numPositives = len(np.where(y_test == 1)[0])\n",
    "    numNegatives = len(np.where(y_test == 0)[0])\n",
    "    \n",
    "    fp = (y_test == 0) & predictions\n",
    "    print('False positive rate (marked non-spam message as spam): ', len(fp[fp == 1]) / numNegatives)\n",
    "    \n",
    "    fn = y_test & (predictions == 0)\n",
    "    print('False negative rate (failed to identify spam message): ', len(fn[fn == 1]) / numPositives)\n",
    "    \n",
    "    # print F1Beta score\n",
    "    score = fbeta_score(y_test, predictions, beta=F1_BETA)\n",
    "    print('F1 Beta Score: ', score)"
   ]
  },
  {
   "cell_type": "markdown",
   "id": "cd83bab9",
   "metadata": {},
   "source": [
    "## Creating a baseline model"
   ]
  },
  {
   "cell_type": "markdown",
   "id": "ab5e372d",
   "metadata": {},
   "source": [
    "#### Baseline 1: Trivial Rejector"
   ]
  },
  {
   "cell_type": "markdown",
   "id": "d855e295",
   "metadata": {},
   "source": [
    "The literature uses a Trivial Rejector as an initial baseline. This baseline model labels every message as ham. We will implement this to see how well it does on our data set. "
   ]
  },
  {
   "cell_type": "code",
   "execution_count": 636,
   "id": "df6167c4",
   "metadata": {},
   "outputs": [],
   "source": [
    "def tr_predict(data):\n",
    "    return np.zeros(data.shape[0])"
   ]
  },
  {
   "cell_type": "code",
   "execution_count": 637,
   "id": "f01fc407",
   "metadata": {},
   "outputs": [],
   "source": [
    "tr_predictions = tr_predict(X_test)"
   ]
  },
  {
   "cell_type": "code",
   "execution_count": 638,
   "id": "f086e8fb",
   "metadata": {},
   "outputs": [
    {
     "data": {
      "text/plain": [
       "0.8600269179004038"
      ]
     },
     "execution_count": 638,
     "metadata": {},
     "output_type": "execute_result"
    }
   ],
   "source": [
    "np.mean(tr_predictions == y_test)"
   ]
  },
  {
   "cell_type": "code",
   "execution_count": 639,
   "id": "6bb01c1f",
   "metadata": {},
   "outputs": [
    {
     "name": "stdout",
     "output_type": "stream",
     "text": [
      "              precision    recall  f1-score   support\n",
      "\n",
      "         ham       0.86      1.00      0.92      1917\n",
      "        spam       1.00      0.00      0.00       312\n",
      "\n",
      "    accuracy                           0.86      2229\n",
      "   macro avg       0.93      0.50      0.46      2229\n",
      "weighted avg       0.88      0.86      0.80      2229\n",
      "\n"
     ]
    },
    {
     "data": {
      "image/png": "[encoded data removed]",
      "text/plain": [
       "<Figure size 432x288 with 2 Axes>"
      ]
     },
     "metadata": {
      "needs_background": "light"
     },
     "output_type": "display_data"
    },
    {
     "name": "stdout",
     "output_type": "stream",
     "text": [
      "False positive rate (marked non-spam message as spam):  0.0\n",
      "False negative rate (failed to identify spam message):  1.0\n",
      "F1 Beta Score:  0.0\n"
     ]
    }
   ],
   "source": [
    "evaluate(tr_predictions)"
   ]
  },
  {
   "cell_type": "markdown",
   "id": "9751d39a",
   "metadata": {},
   "source": [
    "Using our Trivial Rejector, we obtain an accuracy of 0.86. We obtain a false positive rate of 0, but this is only because we are labeling every message as ham. We have a false negative rate of 1.0, which means we are not finding any spam messages."
   ]
  },
  {
   "cell_type": "markdown",
   "id": "887884c9",
   "metadata": {},
   "source": [
    "#### Baseline 2: Multinomial Naive Bayes"
   ]
  },
  {
   "cell_type": "markdown",
   "id": "9b646d02",
   "metadata": {},
   "source": [
    "Naive Bayes is a popular algorithm for text classification problems. The literature also suggests that this algorithm works reasonably well on this dataset. The default scikit-learn Multinomial Naive Bayes algorithm will serve as a solid baseline for our future experiments."
   ]
  },
  {
   "cell_type": "code",
   "execution_count": 640,
   "id": "89113a92",
   "metadata": {},
   "outputs": [
    {
     "data": {
      "text/plain": [
       "MultinomialNB()"
      ]
     },
     "execution_count": 640,
     "metadata": {},
     "output_type": "execute_result"
    }
   ],
   "source": [
    "nb_clf = MultinomialNB()\n",
    "nb_clf.fit(X_train, y_train)"
   ]
  },
  {
   "cell_type": "code",
   "execution_count": 641,
   "id": "0eb865f5",
   "metadata": {},
   "outputs": [
    {
     "name": "stdout",
     "output_type": "stream",
     "text": [
      "              precision    recall  f1-score   support\n",
      "\n",
      "         ham       0.97      1.00      0.98      1917\n",
      "        spam       1.00      0.79      0.88       312\n",
      "\n",
      "    accuracy                           0.97      2229\n",
      "   macro avg       0.98      0.90      0.93      2229\n",
      "weighted avg       0.97      0.97      0.97      2229\n",
      "\n"
     ]
    },
    {
     "data": {
      "image/png": "[encoded data removed]",
      "text/plain": [
       "<Figure size 432x288 with 2 Axes>"
      ]
     },
     "metadata": {
      "needs_background": "light"
     },
     "output_type": "display_data"
    },
    {
     "name": "stdout",
     "output_type": "stream",
     "text": [
      "False positive rate (marked non-spam message as spam):  0.0\n",
      "False negative rate (failed to identify spam message):  0.20833333333333334\n",
      "F1 Beta Score:  0.9500000000000001\n"
     ]
    }
   ],
   "source": [
    "nb_predictions = nb_clf.predict(X_test)\n",
    "evaluate(nb_predictions)"
   ]
  },
  {
   "cell_type": "markdown",
   "id": "db18141d",
   "metadata": {},
   "source": [
    "Using the default scikit-learn Multinomial Naive Bayes algorithm, we are actually able to achieve some pretty good results. We have a false positive rate of 0, which means we are not classifying any legitimate messages as spam. We are missing about 21% of the spam messages that come through. This will serve as a more realistic baseline model."
   ]
  },
  {
   "cell_type": "markdown",
   "id": "1096d19a",
   "metadata": {},
   "source": [
    "### Putting the above steps into a pipeline"
   ]
  },
  {
   "cell_type": "markdown",
   "id": "62a9e903",
   "metadata": {},
   "source": [
    "We need to reset our dataframes back to before our transformations."
   ]
  },
  {
   "cell_type": "code",
   "execution_count": null,
   "id": "c6333f96",
   "metadata": {},
   "outputs": [],
   "source": [
    "X_train, X_test, y_train, y_test = train_test_split(X, y, random_state = RANDOM_STATE, test_size = TEST_RATIO)"
   ]
  },
  {
   "cell_type": "code",
   "execution_count": null,
   "id": "b48f6360",
   "metadata": {},
   "outputs": [],
   "source": [
    "spam_pipeline = Pipeline([('vect', CountVectorizer()),\n",
    "                          ('tfidf', TfidfTransformer()),\n",
    "                          ('nb', MultinomialNB()),])"
   ]
  }
 ],
 "metadata": {
  "kernelspec": {
   "display_name": "conda_python3",
   "language": "python",
   "name": "conda_python3"
  },
  "language_info": {
   "codemirror_mode": {
    "name": "ipython",
    "version": 3
   },
   "file_extension": ".py",
   "mimetype": "text/x-python",
   "name": "python",
   "nbconvert_exporter": "python",
   "pygments_lexer": "ipython3",
   "version": "3.6.13"
  }
 },
 "nbformat": 4,
 "nbformat_minor": 5
}
